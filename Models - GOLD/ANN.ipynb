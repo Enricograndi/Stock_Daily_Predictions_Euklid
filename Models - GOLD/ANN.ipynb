{
 "cells": [
  {
   "cell_type": "markdown",
   "metadata": {
    "scrolled": true
   },
   "source": [
    "# General libraries\n",
    "import pandas as pd\n",
    "import numpy as np\n",
    "import seaborn as sns\n",
    "import matplotlib.pyplot as plt\n",
    "import graphviz\n",
    "from sklearn.tree import export_graphviz\n",
    "from IPython.display import Image \n",
    "#import package.utilities as ut\n",
    "from sklearn.model_selection import GridSearchCV\n",
    "# Machine Learning Libraries\n",
    "from sklearn.model_selection import train_test_split\n",
    "from sklearn.metrics import accuracy_score, confusion_matrix\n",
    "from sklearn.ensemble import BaggingClassifier, AdaBoostClassifier\n",
    "from sklearn.preprocessing import LabelEncoder, StandardScaler\n",
    "from sklearn import preprocessing\n",
    "from sklearn.feature_selection import RFE\n",
    "from sklearn.utils import resample\n",
    "from six import StringIO\n",
    "from pydot import graph_from_dot_data\n",
    "from sklearn.preprocessing import MinMaxScaler\n",
    "import datetime as datetime\n",
    "from pandas_datareader import data as pdr\n",
    "import yfinance\n",
    "import pandas_ta as ta\n",
    "#from package import indicator as idr\n",
    "#from package import euklid as eu\n",
    "import tensorflow as tf\n",
    "import seaborn as sns\n",
    "import warnings\n",
    "from sklearn.neighbors import KNeighborsClassifier \n",
    "warnings.filterwarnings(\"ignore\")\n",
    "%matplotlib notebook"
   ]
  },
  {
   "cell_type": "code",
   "execution_count": 1,
   "metadata": {},
   "outputs": [],
   "source": [
    "# General libraries\n",
    "import pandas as pd\n",
    "import numpy as np\n",
    "import warnings\n",
    "warnings.filterwarnings(\"ignore\")\n",
    "\n",
    "# Neural network libraries\n",
    "from keras import optimizers\n",
    "from keras.models import Sequential\n",
    "from keras.layers import Dense, Dropout,BatchNormalization\n",
    "from keras.callbacks import EarlyStopping\n",
    "from tensorflow import keras\n",
    "\n",
    "# Machine Learning libraries\n",
    "from sklearn.preprocessing import LabelEncoder, StandardScaler, OneHotEncoder\n",
    "from sklearn.model_selection import train_test_split\n",
    "from sklearn.metrics import accuracy_score\n",
    "\n",
    "#Visualization\n",
    "from matplotlib import pyplot\n",
    "import matplotlib.pyplot as plt"
   ]
  },
  {
   "cell_type": "code",
   "execution_count": 2,
   "metadata": {},
   "outputs": [],
   "source": [
    "#print(\"Num GPUs Available: \", len(tf.config.list_physical_devices('GPU')))\n",
    "#config = tf.compat.v1.ConfigProto(device_count = {'GPU': 1})"
   ]
  },
  {
   "cell_type": "markdown",
   "metadata": {},
   "source": [
    "## Preliminary work on the dataset"
   ]
  },
  {
   "cell_type": "code",
   "execution_count": 3,
   "metadata": {},
   "outputs": [],
   "source": [
    "yahoo_df = pd.read_csv(\"../data/GOLD.csv\")\n",
    "#yahoo_df = yahoo_df.set_index(\"Date\")\n",
    "yahoo_df = yahoo_df.set_index(\"Date\")\n"
   ]
  },
  {
   "cell_type": "markdown",
   "metadata": {},
   "source": [
    "X = yahoo_df[['ROC_1', 'ROC_4', 'ROC_7', 'Momentum', '1 Day ROI', '3 Day ROI',\n",
    "       '5 Day ROI', '20 Day ROI', '6_day_RSI', 'MACD_12_26', 'SRSI_30',\n",
    "       'Williams_1', 'Williams_3', 'Williams_14', 'ATR_14', 'CCI']]"
   ]
  },
  {
   "cell_type": "markdown",
   "metadata": {},
   "source": [
    "# Train, test, val"
   ]
  },
  {
   "cell_type": "code",
   "execution_count": 4,
   "metadata": {},
   "outputs": [],
   "source": [
    "\n",
    "X = yahoo_df[['Open', 'ROC_3', 'ROC_4', 'Momentum', '6 Day ROI', '20 Day ROI',\n",
    "       'EMA_26', 'SRSI_10']]\n",
    "y = yahoo_df[\"Up down\"]"
   ]
  },
  {
   "cell_type": "code",
   "execution_count": 5,
   "metadata": {},
   "outputs": [
    {
     "data": {
      "text/plain": [
       "0.42134937041909415"
      ]
     },
     "execution_count": 5,
     "metadata": {},
     "output_type": "execute_result"
    }
   ],
   "source": [
    "sum(y)/len(X)"
   ]
  },
  {
   "cell_type": "code",
   "execution_count": 6,
   "metadata": {},
   "outputs": [],
   "source": [
    "# Split in 80/20 the dataframe\n",
    "X_train, X_test, y_train, y_test = train_test_split(X, y,\n",
    "                                                    test_size = 0.20, shuffle=False)"
   ]
  },
  {
   "cell_type": "markdown",
   "metadata": {},
   "source": [
    "# Normalize"
   ]
  },
  {
   "cell_type": "code",
   "execution_count": 7,
   "metadata": {},
   "outputs": [],
   "source": [
    "def normalize(df):\n",
    "    #df = data\n",
    "    for column in df:\n",
    "        df[column]=((df[column]-df[column].mean())/df[column].std())\n",
    "    return df"
   ]
  },
  {
   "cell_type": "code",
   "execution_count": 8,
   "metadata": {},
   "outputs": [],
   "source": [
    "X_train = normalize(X_train)\n",
    "X_test = normalize(X_test)\n"
   ]
  },
  {
   "cell_type": "markdown",
   "metadata": {},
   "source": [
    "# Model ANN\n"
   ]
  },
  {
   "cell_type": "code",
   "execution_count": 9,
   "metadata": {},
   "outputs": [],
   "source": [
    "# Set early stopping monitor so the model stops training when it won't improve anymore\n",
    "esm = EarlyStopping(monitor = 'val_binary_accuracy',patience=50)\n",
    "\n",
    "# Set the optimizer\n",
    "opt = keras.optimizers.SGD(learning_rate = 0.0001)"
   ]
  },
  {
   "cell_type": "code",
   "execution_count": 10,
   "metadata": {},
   "outputs": [],
   "source": [
    "metrics=[keras.metrics.Accuracy(),\n",
    "    keras.metrics.BinaryAccuracy(name=\"binary_accuracy\", dtype=None, threshold=0.49),\n",
    "    keras.metrics.MeanSquaredError(name='my_mse'),\n",
    "    keras.metrics.BinaryCrossentropy(),\n",
    "    keras.metrics.Hinge()]"
   ]
  },
  {
   "cell_type": "code",
   "execution_count": 11,
   "metadata": {
    "scrolled": true
   },
   "outputs": [
    {
     "name": "stdout",
     "output_type": "stream",
     "text": [
      "Epoch 1/1000\n",
      "77/77 [==============================] - 1s 10ms/step - loss: 1.5758 - accuracy: 0.0559 - binary_accuracy: 0.5966 - my_mse: 0.3620 - binary_crossentropy: 1.5758 - hinge: 1.0081 - val_loss: 1.1904 - val_accuracy: 0.0000e+00 - val_binary_accuracy: 0.5282 - val_my_mse: 0.3956 - val_binary_crossentropy: 1.1904 - val_hinge: 1.0059\n",
      "Epoch 2/1000\n",
      "77/77 [==============================] - 0s 3ms/step - loss: 1.0299 - accuracy: 0.0021 - binary_accuracy: 0.5966 - my_mse: 0.3331 - binary_crossentropy: 1.0299 - hinge: 1.0186 - val_loss: 1.0723 - val_accuracy: 0.0000e+00 - val_binary_accuracy: 0.5282 - val_my_mse: 0.3738 - val_binary_crossentropy: 1.0723 - val_hinge: 1.0077\n",
      "Epoch 3/1000\n",
      "77/77 [==============================] - 0s 3ms/step - loss: 0.9246 - accuracy: 0.0010 - binary_accuracy: 0.5966 - my_mse: 0.3172 - binary_crossentropy: 0.9246 - hinge: 1.0237 - val_loss: 1.0063 - val_accuracy: 0.0000e+00 - val_binary_accuracy: 0.5282 - val_my_mse: 0.3590 - val_binary_crossentropy: 1.0063 - val_hinge: 1.0089\n",
      "Epoch 4/1000\n",
      "77/77 [==============================] - 0s 3ms/step - loss: 0.8749 - accuracy: 2.6110e-04 - binary_accuracy: 0.5966 - my_mse: 0.3065 - binary_crossentropy: 0.8749 - hinge: 1.0282 - val_loss: 0.9622 - val_accuracy: 0.0000e+00 - val_binary_accuracy: 0.5282 - val_my_mse: 0.3478 - val_binary_crossentropy: 0.9622 - val_hinge: 1.0100\n",
      "Epoch 5/1000\n",
      "77/77 [==============================] - 0s 3ms/step - loss: 0.8411 - accuracy: 0.0000e+00 - binary_accuracy: 0.5966 - my_mse: 0.2979 - binary_crossentropy: 0.8411 - hinge: 1.0314 - val_loss: 0.9294 - val_accuracy: 0.0000e+00 - val_binary_accuracy: 0.5282 - val_my_mse: 0.3388 - val_binary_crossentropy: 0.9294 - val_hinge: 1.0109\n",
      "Epoch 6/1000\n",
      "77/77 [==============================] - 0s 3ms/step - loss: 0.8147 - accuracy: 0.0000e+00 - binary_accuracy: 0.5966 - my_mse: 0.2915 - binary_crossentropy: 0.8147 - hinge: 1.0346 - val_loss: 0.9036 - val_accuracy: 0.0000e+00 - val_binary_accuracy: 0.5282 - val_my_mse: 0.3312 - val_binary_crossentropy: 0.9036 - val_hinge: 1.0116\n",
      "Epoch 7/1000\n",
      "77/77 [==============================] - 0s 2ms/step - loss: 0.7970 - accuracy: 2.6110e-04 - binary_accuracy: 0.5966 - my_mse: 0.2862 - binary_crossentropy: 0.7970 - hinge: 1.0374 - val_loss: 0.8825 - val_accuracy: 0.0000e+00 - val_binary_accuracy: 0.5282 - val_my_mse: 0.3247 - val_binary_crossentropy: 0.8825 - val_hinge: 1.0123\n",
      "Epoch 8/1000\n",
      "77/77 [==============================] - 0s 3ms/step - loss: 0.7836 - accuracy: 0.0000e+00 - binary_accuracy: 0.5966 - my_mse: 0.2810 - binary_crossentropy: 0.7836 - hinge: 1.0392 - val_loss: 0.8651 - val_accuracy: 0.0000e+00 - val_binary_accuracy: 0.5282 - val_my_mse: 0.3191 - val_binary_crossentropy: 0.8651 - val_hinge: 1.0130\n",
      "Epoch 9/1000\n",
      "77/77 [==============================] - 0s 3ms/step - loss: 0.7712 - accuracy: 0.0000e+00 - binary_accuracy: 0.5966 - my_mse: 0.2771 - binary_crossentropy: 0.7712 - hinge: 1.0413 - val_loss: 0.8503 - val_accuracy: 0.0000e+00 - val_binary_accuracy: 0.5282 - val_my_mse: 0.3142 - val_binary_crossentropy: 0.8503 - val_hinge: 1.0135\n",
      "Epoch 10/1000\n",
      "77/77 [==============================] - 0s 3ms/step - loss: 0.7564 - accuracy: 0.0000e+00 - binary_accuracy: 0.5966 - my_mse: 0.2732 - binary_crossentropy: 0.7564 - hinge: 1.0429 - val_loss: 0.8375 - val_accuracy: 0.0000e+00 - val_binary_accuracy: 0.5282 - val_my_mse: 0.3098 - val_binary_crossentropy: 0.8375 - val_hinge: 1.0141\n",
      "Epoch 11/1000\n",
      "77/77 [==============================] - 0s 3ms/step - loss: 0.7479 - accuracy: 0.0000e+00 - binary_accuracy: 0.5966 - my_mse: 0.2702 - binary_crossentropy: 0.7479 - hinge: 1.0446 - val_loss: 0.8264 - val_accuracy: 0.0000e+00 - val_binary_accuracy: 0.5282 - val_my_mse: 0.3058 - val_binary_crossentropy: 0.8264 - val_hinge: 1.0146\n",
      "Epoch 12/1000\n",
      "77/77 [==============================] - 0s 3ms/step - loss: 0.7413 - accuracy: 0.0000e+00 - binary_accuracy: 0.5966 - my_mse: 0.2678 - binary_crossentropy: 0.7413 - hinge: 1.0467 - val_loss: 0.8166 - val_accuracy: 0.0000e+00 - val_binary_accuracy: 0.5282 - val_my_mse: 0.3023 - val_binary_crossentropy: 0.8166 - val_hinge: 1.0150\n",
      "Epoch 13/1000\n",
      "77/77 [==============================] - 0s 3ms/step - loss: 0.7345 - accuracy: 2.6110e-04 - binary_accuracy: 0.5966 - my_mse: 0.2654 - binary_crossentropy: 0.7345 - hinge: 1.0481 - val_loss: 0.8079 - val_accuracy: 0.0000e+00 - val_binary_accuracy: 0.5282 - val_my_mse: 0.2991 - val_binary_crossentropy: 0.8079 - val_hinge: 1.0154\n",
      "Epoch 14/1000\n",
      "77/77 [==============================] - 0s 3ms/step - loss: 0.7273 - accuracy: 0.0000e+00 - binary_accuracy: 0.5966 - my_mse: 0.2627 - binary_crossentropy: 0.7273 - hinge: 1.0491 - val_loss: 0.8002 - val_accuracy: 0.0000e+00 - val_binary_accuracy: 0.5282 - val_my_mse: 0.2962 - val_binary_crossentropy: 0.8002 - val_hinge: 1.0158\n",
      "Epoch 15/1000\n",
      "77/77 [==============================] - 0s 3ms/step - loss: 0.7229 - accuracy: 2.6110e-04 - binary_accuracy: 0.5966 - my_mse: 0.2610 - binary_crossentropy: 0.7229 - hinge: 1.0506 - val_loss: 0.7933 - val_accuracy: 0.0000e+00 - val_binary_accuracy: 0.5282 - val_my_mse: 0.2935 - val_binary_crossentropy: 0.7933 - val_hinge: 1.0162\n",
      "Epoch 16/1000\n",
      "77/77 [==============================] - 0s 3ms/step - loss: 0.7182 - accuracy: 0.0000e+00 - binary_accuracy: 0.5966 - my_mse: 0.2592 - binary_crossentropy: 0.7182 - hinge: 1.0517 - val_loss: 0.7870 - val_accuracy: 0.0000e+00 - val_binary_accuracy: 0.5282 - val_my_mse: 0.2911 - val_binary_crossentropy: 0.7870 - val_hinge: 1.0166\n",
      "Epoch 17/1000\n",
      "77/77 [==============================] - 0s 3ms/step - loss: 0.7139 - accuracy: 0.0000e+00 - binary_accuracy: 0.5966 - my_mse: 0.2575 - binary_crossentropy: 0.7139 - hinge: 1.0530 - val_loss: 0.7814 - val_accuracy: 0.0000e+00 - val_binary_accuracy: 0.5282 - val_my_mse: 0.2889 - val_binary_crossentropy: 0.7814 - val_hinge: 1.0169\n",
      "Epoch 18/1000\n",
      "77/77 [==============================] - 0s 3ms/step - loss: 0.7121 - accuracy: 0.0000e+00 - binary_accuracy: 0.5966 - my_mse: 0.2566 - binary_crossentropy: 0.7121 - hinge: 1.0543 - val_loss: 0.7761 - val_accuracy: 0.0000e+00 - val_binary_accuracy: 0.5282 - val_my_mse: 0.2868 - val_binary_crossentropy: 0.7761 - val_hinge: 1.0172\n",
      "Epoch 19/1000\n",
      "77/77 [==============================] - 0s 3ms/step - loss: 0.7086 - accuracy: 0.0000e+00 - binary_accuracy: 0.5966 - my_mse: 0.2553 - binary_crossentropy: 0.7086 - hinge: 1.0555 - val_loss: 0.7714 - val_accuracy: 0.0000e+00 - val_binary_accuracy: 0.5282 - val_my_mse: 0.2849 - val_binary_crossentropy: 0.7714 - val_hinge: 1.0175\n",
      "Epoch 20/1000\n",
      "77/77 [==============================] - 0s 3ms/step - loss: 0.7047 - accuracy: 0.0000e+00 - binary_accuracy: 0.5966 - my_mse: 0.2538 - binary_crossentropy: 0.7047 - hinge: 1.0563 - val_loss: 0.7671 - val_accuracy: 0.0000e+00 - val_binary_accuracy: 0.5282 - val_my_mse: 0.2831 - val_binary_crossentropy: 0.7671 - val_hinge: 1.0178\n",
      "Epoch 21/1000\n",
      "77/77 [==============================] - 0s 3ms/step - loss: 0.7032 - accuracy: 0.0000e+00 - binary_accuracy: 0.5966 - my_mse: 0.2532 - binary_crossentropy: 0.7032 - hinge: 1.0576 - val_loss: 0.7632 - val_accuracy: 0.0000e+00 - val_binary_accuracy: 0.5282 - val_my_mse: 0.2815 - val_binary_crossentropy: 0.7632 - val_hinge: 1.0181\n",
      "Epoch 22/1000\n",
      "77/77 [==============================] - 0s 3ms/step - loss: 0.6999 - accuracy: 0.0000e+00 - binary_accuracy: 0.5966 - my_mse: 0.2518 - binary_crossentropy: 0.6999 - hinge: 1.0579 - val_loss: 0.7595 - val_accuracy: 0.0000e+00 - val_binary_accuracy: 0.5282 - val_my_mse: 0.2800 - val_binary_crossentropy: 0.7595 - val_hinge: 1.0183\n",
      "Epoch 23/1000\n",
      "77/77 [==============================] - 0s 2ms/step - loss: 0.6968 - accuracy: 0.0000e+00 - binary_accuracy: 0.5966 - my_mse: 0.2506 - binary_crossentropy: 0.6968 - hinge: 1.0585 - val_loss: 0.7562 - val_accuracy: 0.0000e+00 - val_binary_accuracy: 0.5282 - val_my_mse: 0.2786 - val_binary_crossentropy: 0.7562 - val_hinge: 1.0186\n",
      "Epoch 24/1000\n",
      "77/77 [==============================] - 0s 3ms/step - loss: 0.6954 - accuracy: 0.0000e+00 - binary_accuracy: 0.5966 - my_mse: 0.2500 - binary_crossentropy: 0.6954 - hinge: 1.0595 - val_loss: 0.7531 - val_accuracy: 0.0000e+00 - val_binary_accuracy: 0.5282 - val_my_mse: 0.2773 - val_binary_crossentropy: 0.7531 - val_hinge: 1.0188\n"
     ]
    },
    {
     "name": "stdout",
     "output_type": "stream",
     "text": [
      "Epoch 25/1000\n",
      "77/77 [==============================] - 0s 3ms/step - loss: 0.6942 - accuracy: 0.0000e+00 - binary_accuracy: 0.5966 - my_mse: 0.2494 - binary_crossentropy: 0.6942 - hinge: 1.0605 - val_loss: 0.7503 - val_accuracy: 0.0000e+00 - val_binary_accuracy: 0.5282 - val_my_mse: 0.2761 - val_binary_crossentropy: 0.7503 - val_hinge: 1.0190\n",
      "Epoch 26/1000\n",
      "77/77 [==============================] - 0s 3ms/step - loss: 0.6932 - accuracy: 0.0000e+00 - binary_accuracy: 0.5966 - my_mse: 0.2490 - binary_crossentropy: 0.6932 - hinge: 1.0614 - val_loss: 0.7476 - val_accuracy: 0.0000e+00 - val_binary_accuracy: 0.5282 - val_my_mse: 0.2750 - val_binary_crossentropy: 0.7476 - val_hinge: 1.0192\n",
      "Epoch 27/1000\n",
      "77/77 [==============================] - 0s 3ms/step - loss: 0.6906 - accuracy: 0.0000e+00 - binary_accuracy: 0.5966 - my_mse: 0.2480 - binary_crossentropy: 0.6906 - hinge: 1.0618 - val_loss: 0.7452 - val_accuracy: 0.0000e+00 - val_binary_accuracy: 0.5282 - val_my_mse: 0.2739 - val_binary_crossentropy: 0.7452 - val_hinge: 1.0194\n",
      "Epoch 28/1000\n",
      "77/77 [==============================] - 0s 3ms/step - loss: 0.6940 - accuracy: 0.0000e+00 - binary_accuracy: 0.5969 - my_mse: 0.2479 - binary_crossentropy: 0.6940 - hinge: 1.0628 - val_loss: 0.7429 - val_accuracy: 0.0000e+00 - val_binary_accuracy: 0.5282 - val_my_mse: 0.2729 - val_binary_crossentropy: 0.7429 - val_hinge: 1.0196\n",
      "Epoch 29/1000\n",
      "77/77 [==============================] - 0s 3ms/step - loss: 0.6882 - accuracy: 0.0000e+00 - binary_accuracy: 0.5966 - my_mse: 0.2469 - binary_crossentropy: 0.6882 - hinge: 1.0629 - val_loss: 0.7408 - val_accuracy: 0.0000e+00 - val_binary_accuracy: 0.5282 - val_my_mse: 0.2720 - val_binary_crossentropy: 0.7408 - val_hinge: 1.0198\n",
      "Epoch 30/1000\n",
      "77/77 [==============================] - 0s 3ms/step - loss: 0.6866 - accuracy: 0.0000e+00 - binary_accuracy: 0.5966 - my_mse: 0.2462 - binary_crossentropy: 0.6866 - hinge: 1.0635 - val_loss: 0.7389 - val_accuracy: 0.0000e+00 - val_binary_accuracy: 0.5282 - val_my_mse: 0.2712 - val_binary_crossentropy: 0.7389 - val_hinge: 1.0200\n",
      "Epoch 31/1000\n",
      "77/77 [==============================] - 0s 3ms/step - loss: 0.6874 - accuracy: 0.0000e+00 - binary_accuracy: 0.5966 - my_mse: 0.2465 - binary_crossentropy: 0.6874 - hinge: 1.0648 - val_loss: 0.7370 - val_accuracy: 0.0000e+00 - val_binary_accuracy: 0.5282 - val_my_mse: 0.2704 - val_binary_crossentropy: 0.7370 - val_hinge: 1.0201\n",
      "Epoch 32/1000\n",
      "77/77 [==============================] - 0s 3ms/step - loss: 0.6850 - accuracy: 0.0000e+00 - binary_accuracy: 0.5966 - my_mse: 0.2455 - binary_crossentropy: 0.6850 - hinge: 1.0647 - val_loss: 0.7353 - val_accuracy: 0.0000e+00 - val_binary_accuracy: 0.5282 - val_my_mse: 0.2696 - val_binary_crossentropy: 0.7353 - val_hinge: 1.0203\n",
      "Epoch 33/1000\n",
      "77/77 [==============================] - 0s 3ms/step - loss: 0.6848 - accuracy: 0.0000e+00 - binary_accuracy: 0.5969 - my_mse: 0.2454 - binary_crossentropy: 0.6848 - hinge: 1.0656 - val_loss: 0.7337 - val_accuracy: 0.0000e+00 - val_binary_accuracy: 0.5282 - val_my_mse: 0.2689 - val_binary_crossentropy: 0.7337 - val_hinge: 1.0204\n",
      "Epoch 34/1000\n",
      "77/77 [==============================] - 0s 3ms/step - loss: 0.6844 - accuracy: 0.0000e+00 - binary_accuracy: 0.5966 - my_mse: 0.2453 - binary_crossentropy: 0.6844 - hinge: 1.0662 - val_loss: 0.7322 - val_accuracy: 0.0000e+00 - val_binary_accuracy: 0.5282 - val_my_mse: 0.2682 - val_binary_crossentropy: 0.7322 - val_hinge: 1.0206\n",
      "Epoch 35/1000\n",
      "77/77 [==============================] - 0s 3ms/step - loss: 0.6837 - accuracy: 0.0000e+00 - binary_accuracy: 0.5966 - my_mse: 0.2449 - binary_crossentropy: 0.6837 - hinge: 1.0667 - val_loss: 0.7308 - val_accuracy: 0.0000e+00 - val_binary_accuracy: 0.5282 - val_my_mse: 0.2676 - val_binary_crossentropy: 0.7308 - val_hinge: 1.0207\n",
      "Epoch 36/1000\n",
      "77/77 [==============================] - 0s 3ms/step - loss: 0.6823 - accuracy: 0.0000e+00 - binary_accuracy: 0.5963 - my_mse: 0.2443 - binary_crossentropy: 0.6823 - hinge: 1.0667 - val_loss: 0.7295 - val_accuracy: 0.0000e+00 - val_binary_accuracy: 0.5282 - val_my_mse: 0.2670 - val_binary_crossentropy: 0.7295 - val_hinge: 1.0208\n",
      "Epoch 37/1000\n",
      "77/77 [==============================] - 0s 3ms/step - loss: 0.6825 - accuracy: 0.0000e+00 - binary_accuracy: 0.5966 - my_mse: 0.2444 - binary_crossentropy: 0.6825 - hinge: 1.0674 - val_loss: 0.7282 - val_accuracy: 0.0000e+00 - val_binary_accuracy: 0.5282 - val_my_mse: 0.2665 - val_binary_crossentropy: 0.7282 - val_hinge: 1.0210\n",
      "Epoch 38/1000\n",
      "77/77 [==============================] - 0s 3ms/step - loss: 0.6812 - accuracy: 0.0000e+00 - binary_accuracy: 0.5966 - my_mse: 0.2438 - binary_crossentropy: 0.6812 - hinge: 1.0677 - val_loss: 0.7271 - val_accuracy: 0.0000e+00 - val_binary_accuracy: 0.5282 - val_my_mse: 0.2660 - val_binary_crossentropy: 0.7271 - val_hinge: 1.0211\n",
      "Epoch 39/1000\n",
      "77/77 [==============================] - 0s 3ms/step - loss: 0.6814 - accuracy: 0.0000e+00 - binary_accuracy: 0.5966 - my_mse: 0.2439 - binary_crossentropy: 0.6814 - hinge: 1.0682 - val_loss: 0.7260 - val_accuracy: 0.0000e+00 - val_binary_accuracy: 0.5282 - val_my_mse: 0.2655 - val_binary_crossentropy: 0.7260 - val_hinge: 1.0212\n",
      "Epoch 40/1000\n",
      "77/77 [==============================] - 0s 3ms/step - loss: 0.6812 - accuracy: 0.0000e+00 - binary_accuracy: 0.5966 - my_mse: 0.2438 - binary_crossentropy: 0.6812 - hinge: 1.0688 - val_loss: 0.7249 - val_accuracy: 0.0000e+00 - val_binary_accuracy: 0.5282 - val_my_mse: 0.2650 - val_binary_crossentropy: 0.7249 - val_hinge: 1.0213\n",
      "Epoch 41/1000\n",
      "77/77 [==============================] - 0s 3ms/step - loss: 0.6790 - accuracy: 0.0000e+00 - binary_accuracy: 0.5966 - my_mse: 0.2428 - binary_crossentropy: 0.6790 - hinge: 1.0685 - val_loss: 0.7240 - val_accuracy: 0.0000e+00 - val_binary_accuracy: 0.5282 - val_my_mse: 0.2645 - val_binary_crossentropy: 0.7240 - val_hinge: 1.0214\n",
      "Epoch 42/1000\n",
      "77/77 [==============================] - 0s 3ms/step - loss: 0.6795 - accuracy: 0.0000e+00 - binary_accuracy: 0.5966 - my_mse: 0.2430 - binary_crossentropy: 0.6795 - hinge: 1.0693 - val_loss: 0.7231 - val_accuracy: 0.0000e+00 - val_binary_accuracy: 0.5282 - val_my_mse: 0.2641 - val_binary_crossentropy: 0.7231 - val_hinge: 1.0215\n",
      "Epoch 43/1000\n",
      "77/77 [==============================] - 0s 3ms/step - loss: 0.6804 - accuracy: 0.0000e+00 - binary_accuracy: 0.5966 - my_mse: 0.2431 - binary_crossentropy: 0.6804 - hinge: 1.0697 - val_loss: 0.7221 - val_accuracy: 0.0000e+00 - val_binary_accuracy: 0.5282 - val_my_mse: 0.2637 - val_binary_crossentropy: 0.7221 - val_hinge: 1.0216\n",
      "Epoch 44/1000\n",
      "77/77 [==============================] - 0s 3ms/step - loss: 0.6795 - accuracy: 0.0000e+00 - binary_accuracy: 0.5963 - my_mse: 0.2430 - binary_crossentropy: 0.6795 - hinge: 1.0702 - val_loss: 0.7213 - val_accuracy: 0.0000e+00 - val_binary_accuracy: 0.5282 - val_my_mse: 0.2633 - val_binary_crossentropy: 0.7213 - val_hinge: 1.0217\n",
      "Epoch 45/1000\n",
      "77/77 [==============================] - 0s 3ms/step - loss: 0.6805 - accuracy: 0.0000e+00 - binary_accuracy: 0.5966 - my_mse: 0.2434 - binary_crossentropy: 0.6805 - hinge: 1.0709 - val_loss: 0.7205 - val_accuracy: 0.0000e+00 - val_binary_accuracy: 0.5282 - val_my_mse: 0.2630 - val_binary_crossentropy: 0.7205 - val_hinge: 1.0218\n",
      "Epoch 46/1000\n",
      "77/77 [==============================] - 0s 3ms/step - loss: 0.6792 - accuracy: 0.0000e+00 - binary_accuracy: 0.5963 - my_mse: 0.2429 - binary_crossentropy: 0.6792 - hinge: 1.0710 - val_loss: 0.7198 - val_accuracy: 0.0000e+00 - val_binary_accuracy: 0.5282 - val_my_mse: 0.2626 - val_binary_crossentropy: 0.7198 - val_hinge: 1.0219\n",
      "Epoch 47/1000\n",
      "77/77 [==============================] - 0s 3ms/step - loss: 0.6782 - accuracy: 0.0000e+00 - binary_accuracy: 0.5969 - my_mse: 0.2425 - binary_crossentropy: 0.6782 - hinge: 1.0709 - val_loss: 0.7191 - val_accuracy: 0.0000e+00 - val_binary_accuracy: 0.5282 - val_my_mse: 0.2623 - val_binary_crossentropy: 0.7191 - val_hinge: 1.0220\n",
      "Epoch 48/1000\n",
      "77/77 [==============================] - 0s 3ms/step - loss: 0.6776 - accuracy: 0.0000e+00 - binary_accuracy: 0.5966 - my_mse: 0.2422 - binary_crossentropy: 0.6776 - hinge: 1.0711 - val_loss: 0.7184 - val_accuracy: 0.0000e+00 - val_binary_accuracy: 0.5282 - val_my_mse: 0.2620 - val_binary_crossentropy: 0.7184 - val_hinge: 1.0220\n"
     ]
    },
    {
     "name": "stdout",
     "output_type": "stream",
     "text": [
      "Epoch 49/1000\n",
      "77/77 [==============================] - 0s 3ms/step - loss: 0.6782 - accuracy: 0.0000e+00 - binary_accuracy: 0.5966 - my_mse: 0.2424 - binary_crossentropy: 0.6782 - hinge: 1.0716 - val_loss: 0.7178 - val_accuracy: 0.0000e+00 - val_binary_accuracy: 0.5282 - val_my_mse: 0.2617 - val_binary_crossentropy: 0.7178 - val_hinge: 1.0221\n",
      "Epoch 50/1000\n",
      "77/77 [==============================] - 0s 3ms/step - loss: 0.6768 - accuracy: 0.0000e+00 - binary_accuracy: 0.5966 - my_mse: 0.2418 - binary_crossentropy: 0.6768 - hinge: 1.0715 - val_loss: 0.7172 - val_accuracy: 0.0000e+00 - val_binary_accuracy: 0.5282 - val_my_mse: 0.2615 - val_binary_crossentropy: 0.7172 - val_hinge: 1.0222\n",
      "Epoch 51/1000\n",
      "77/77 [==============================] - 0s 3ms/step - loss: 0.6770 - accuracy: 0.0000e+00 - binary_accuracy: 0.5971 - my_mse: 0.2419 - binary_crossentropy: 0.6770 - hinge: 1.0717 - val_loss: 0.7167 - val_accuracy: 0.0000e+00 - val_binary_accuracy: 0.5282 - val_my_mse: 0.2612 - val_binary_crossentropy: 0.7167 - val_hinge: 1.0223\n"
     ]
    },
    {
     "data": {
      "text/plain": [
       "<keras.callbacks.History at 0x1e14caf0b50>"
      ]
     },
     "execution_count": 11,
     "metadata": {},
     "output_type": "execute_result"
    }
   ],
   "source": [
    "classifier = Sequential()\n",
    "classifier.add(Dense(256,  activation = 'relu'))\n",
    "classifier.add(Dropout(0.4))\n",
    "classifier.add(Dense(128,  activation = 'relu'))\n",
    "classifier.add(Dropout(0.4))\n",
    "classifier.add(Dense(64,  activation = 'relu'))\n",
    "classifier.add(Dense(32,  activation = 'relu'))\n",
    "classifier.add(Dense(16,  activation = 'relu'))\n",
    "classifier.add(Dense(8,  activation = 'relu'))\n",
    "# Adding the output layer\n",
    "classifier.add(Dense(1,  activation = 'relu'))\n",
    "\n",
    "# Compiling the ANN\n",
    "classifier.compile(optimizer = opt, loss = \"binary_crossentropy\", metrics = metrics)\n",
    "\n",
    "# Fitting the ANN to the Training set\n",
    "classifier.fit(X_train, y_train, batch_size = 50, epochs = 1000, validation_split = 0.10, callbacks = [esm],shuffle=False)"
   ]
  },
  {
   "cell_type": "code",
   "execution_count": 12,
   "metadata": {
    "scrolled": true
   },
   "outputs": [
    {
     "data": {
      "image/png": "[encoded data removed]",
      "text/plain": [
       "<Figure size 432x288 with 1 Axes>"
      ]
     },
     "metadata": {
      "needs_background": "light"
     },
     "output_type": "display_data"
    }
   ],
   "source": [
    "# Visualize the training and validation loss\n",
    "plt.plot(classifier.history.history[\"loss\"], label='train')\n",
    "plt.plot(classifier.history.history['val_loss'], label='validation')\n",
    "plt.legend()\n",
    "#x1,y1 =plt.axis()\n",
    "#plt.axis([0,0])\n",
    "#plt.ylim([0.5, 0.7])\n",
    "plt.title('Training/Validation Loss');\n",
    "# Evaluate the model >> model.metrics_names\n",
    "#print(f'{model.metrics_names}: {model.evaluate(Bitcoin_train, y_train , verbose=1)}')\n",
    "plt.show()"
   ]
  },
  {
   "cell_type": "markdown",
   "metadata": {},
   "source": [
    "# Save Accuracies"
   ]
  },
  {
   "cell_type": "code",
   "execution_count": 13,
   "metadata": {},
   "outputs": [],
   "source": [
    "y_prob = classifier.predict(X_test)\n",
    "y_pred = list(map(lambda x: 0 if x<0.5 else 1, y_prob))"
   ]
  },
  {
   "cell_type": "code",
   "execution_count": 14,
   "metadata": {},
   "outputs": [
    {
     "name": "stdout",
     "output_type": "stream",
     "text": [
      "0.5342723004694836\n"
     ]
    }
   ],
   "source": [
    "# Computing Accuracy, Precision and Recall\n",
    "accuracy = accuracy_score(y_test, y_pred)\n",
    "print(accuracy)"
   ]
  },
  {
   "cell_type": "code",
   "execution_count": 15,
   "metadata": {},
   "outputs": [
    {
     "data": {
      "text/html": [
       "<div>\n",
       "<style scoped>\n",
       "    .dataframe tbody tr th:only-of-type {\n",
       "        vertical-align: middle;\n",
       "    }\n",
       "\n",
       "    .dataframe tbody tr th {\n",
       "        vertical-align: top;\n",
       "    }\n",
       "\n",
       "    .dataframe thead th {\n",
       "        text-align: right;\n",
       "    }\n",
       "</style>\n",
       "<table border=\"1\" class=\"dataframe\">\n",
       "  <thead>\n",
       "    <tr style=\"text-align: right;\">\n",
       "      <th></th>\n",
       "      <th>LogReg_pred</th>\n",
       "      <th>LogReg_accuracy</th>\n",
       "      <th>LogReg_prob</th>\n",
       "    </tr>\n",
       "  </thead>\n",
       "  <tbody>\n",
       "    <tr>\n",
       "      <th>0</th>\n",
       "      <td>0</td>\n",
       "      <td>0.581221</td>\n",
       "      <td>0.413014</td>\n",
       "    </tr>\n",
       "    <tr>\n",
       "      <th>1</th>\n",
       "      <td>1</td>\n",
       "      <td>0.581221</td>\n",
       "      <td>0.513517</td>\n",
       "    </tr>\n",
       "    <tr>\n",
       "      <th>2</th>\n",
       "      <td>0</td>\n",
       "      <td>0.581221</td>\n",
       "      <td>0.390613</td>\n",
       "    </tr>\n",
       "    <tr>\n",
       "      <th>3</th>\n",
       "      <td>0</td>\n",
       "      <td>0.581221</td>\n",
       "      <td>0.442266</td>\n",
       "    </tr>\n",
       "    <tr>\n",
       "      <th>4</th>\n",
       "      <td>0</td>\n",
       "      <td>0.581221</td>\n",
       "      <td>0.318965</td>\n",
       "    </tr>\n",
       "    <tr>\n",
       "      <th>...</th>\n",
       "      <td>...</td>\n",
       "      <td>...</td>\n",
       "      <td>...</td>\n",
       "    </tr>\n",
       "    <tr>\n",
       "      <th>1060</th>\n",
       "      <td>0</td>\n",
       "      <td>0.581221</td>\n",
       "      <td>0.384292</td>\n",
       "    </tr>\n",
       "    <tr>\n",
       "      <th>1061</th>\n",
       "      <td>0</td>\n",
       "      <td>0.581221</td>\n",
       "      <td>0.453980</td>\n",
       "    </tr>\n",
       "    <tr>\n",
       "      <th>1062</th>\n",
       "      <td>0</td>\n",
       "      <td>0.581221</td>\n",
       "      <td>0.340107</td>\n",
       "    </tr>\n",
       "    <tr>\n",
       "      <th>1063</th>\n",
       "      <td>0</td>\n",
       "      <td>0.581221</td>\n",
       "      <td>0.457871</td>\n",
       "    </tr>\n",
       "    <tr>\n",
       "      <th>1064</th>\n",
       "      <td>0</td>\n",
       "      <td>0.581221</td>\n",
       "      <td>0.475958</td>\n",
       "    </tr>\n",
       "  </tbody>\n",
       "</table>\n",
       "<p>1065 rows × 3 columns</p>\n",
       "</div>"
      ],
      "text/plain": [
       "      LogReg_pred  LogReg_accuracy  LogReg_prob\n",
       "0               0         0.581221     0.413014\n",
       "1               1         0.581221     0.513517\n",
       "2               0         0.581221     0.390613\n",
       "3               0         0.581221     0.442266\n",
       "4               0         0.581221     0.318965\n",
       "...           ...              ...          ...\n",
       "1060            0         0.581221     0.384292\n",
       "1061            0         0.581221     0.453980\n",
       "1062            0         0.581221     0.340107\n",
       "1063            0         0.581221     0.457871\n",
       "1064            0         0.581221     0.475958\n",
       "\n",
       "[1065 rows x 3 columns]"
      ]
     },
     "execution_count": 15,
     "metadata": {},
     "output_type": "execute_result"
    }
   ],
   "source": [
    "df_prediction = pd.read_csv(\"../data/model_accuracy_gold.csv\", index_col = False)\n",
    "df_prediction =  df_prediction.drop(columns=[\"Unnamed: 0\"])\n",
    "df_prediction"
   ]
  },
  {
   "cell_type": "code",
   "execution_count": 16,
   "metadata": {},
   "outputs": [],
   "source": [
    "df_prediction[\"ANN_pred\"] = y_pred\n",
    "df_prediction[\"ANN_accuracy\"] = [accuracy for x in range(len(y_pred))]\n",
    "df_prediction[\"ANN_prob\"] = y_prob"
   ]
  },
  {
   "cell_type": "code",
   "execution_count": 17,
   "metadata": {},
   "outputs": [
    {
     "data": {
      "text/html": [
       "<div>\n",
       "<style scoped>\n",
       "    .dataframe tbody tr th:only-of-type {\n",
       "        vertical-align: middle;\n",
       "    }\n",
       "\n",
       "    .dataframe tbody tr th {\n",
       "        vertical-align: top;\n",
       "    }\n",
       "\n",
       "    .dataframe thead th {\n",
       "        text-align: right;\n",
       "    }\n",
       "</style>\n",
       "<table border=\"1\" class=\"dataframe\">\n",
       "  <thead>\n",
       "    <tr style=\"text-align: right;\">\n",
       "      <th></th>\n",
       "      <th>LogReg_pred</th>\n",
       "      <th>LogReg_accuracy</th>\n",
       "      <th>LogReg_prob</th>\n",
       "      <th>ANN_pred</th>\n",
       "      <th>ANN_accuracy</th>\n",
       "      <th>ANN_prob</th>\n",
       "    </tr>\n",
       "  </thead>\n",
       "  <tbody>\n",
       "    <tr>\n",
       "      <th>0</th>\n",
       "      <td>0</td>\n",
       "      <td>0.581221</td>\n",
       "      <td>0.413014</td>\n",
       "      <td>0</td>\n",
       "      <td>0.534272</td>\n",
       "      <td>0.375100</td>\n",
       "    </tr>\n",
       "    <tr>\n",
       "      <th>1</th>\n",
       "      <td>1</td>\n",
       "      <td>0.581221</td>\n",
       "      <td>0.513517</td>\n",
       "      <td>0</td>\n",
       "      <td>0.534272</td>\n",
       "      <td>0.368543</td>\n",
       "    </tr>\n",
       "    <tr>\n",
       "      <th>2</th>\n",
       "      <td>0</td>\n",
       "      <td>0.581221</td>\n",
       "      <td>0.390613</td>\n",
       "      <td>0</td>\n",
       "      <td>0.534272</td>\n",
       "      <td>0.369001</td>\n",
       "    </tr>\n",
       "    <tr>\n",
       "      <th>3</th>\n",
       "      <td>0</td>\n",
       "      <td>0.581221</td>\n",
       "      <td>0.442266</td>\n",
       "      <td>0</td>\n",
       "      <td>0.534272</td>\n",
       "      <td>0.370133</td>\n",
       "    </tr>\n",
       "    <tr>\n",
       "      <th>4</th>\n",
       "      <td>0</td>\n",
       "      <td>0.581221</td>\n",
       "      <td>0.318965</td>\n",
       "      <td>0</td>\n",
       "      <td>0.534272</td>\n",
       "      <td>0.374883</td>\n",
       "    </tr>\n",
       "    <tr>\n",
       "      <th>...</th>\n",
       "      <td>...</td>\n",
       "      <td>...</td>\n",
       "      <td>...</td>\n",
       "      <td>...</td>\n",
       "      <td>...</td>\n",
       "      <td>...</td>\n",
       "    </tr>\n",
       "    <tr>\n",
       "      <th>1060</th>\n",
       "      <td>0</td>\n",
       "      <td>0.581221</td>\n",
       "      <td>0.384292</td>\n",
       "      <td>0</td>\n",
       "      <td>0.534272</td>\n",
       "      <td>0.355275</td>\n",
       "    </tr>\n",
       "    <tr>\n",
       "      <th>1061</th>\n",
       "      <td>0</td>\n",
       "      <td>0.581221</td>\n",
       "      <td>0.453980</td>\n",
       "      <td>0</td>\n",
       "      <td>0.534272</td>\n",
       "      <td>0.363723</td>\n",
       "    </tr>\n",
       "    <tr>\n",
       "      <th>1062</th>\n",
       "      <td>0</td>\n",
       "      <td>0.581221</td>\n",
       "      <td>0.340107</td>\n",
       "      <td>0</td>\n",
       "      <td>0.534272</td>\n",
       "      <td>0.365227</td>\n",
       "    </tr>\n",
       "    <tr>\n",
       "      <th>1063</th>\n",
       "      <td>0</td>\n",
       "      <td>0.581221</td>\n",
       "      <td>0.457871</td>\n",
       "      <td>0</td>\n",
       "      <td>0.534272</td>\n",
       "      <td>0.381241</td>\n",
       "    </tr>\n",
       "    <tr>\n",
       "      <th>1064</th>\n",
       "      <td>0</td>\n",
       "      <td>0.581221</td>\n",
       "      <td>0.475958</td>\n",
       "      <td>0</td>\n",
       "      <td>0.534272</td>\n",
       "      <td>0.374609</td>\n",
       "    </tr>\n",
       "  </tbody>\n",
       "</table>\n",
       "<p>1065 rows × 6 columns</p>\n",
       "</div>"
      ],
      "text/plain": [
       "      LogReg_pred  LogReg_accuracy  LogReg_prob  ANN_pred  ANN_accuracy  \\\n",
       "0               0         0.581221     0.413014         0      0.534272   \n",
       "1               1         0.581221     0.513517         0      0.534272   \n",
       "2               0         0.581221     0.390613         0      0.534272   \n",
       "3               0         0.581221     0.442266         0      0.534272   \n",
       "4               0         0.581221     0.318965         0      0.534272   \n",
       "...           ...              ...          ...       ...           ...   \n",
       "1060            0         0.581221     0.384292         0      0.534272   \n",
       "1061            0         0.581221     0.453980         0      0.534272   \n",
       "1062            0         0.581221     0.340107         0      0.534272   \n",
       "1063            0         0.581221     0.457871         0      0.534272   \n",
       "1064            0         0.581221     0.475958         0      0.534272   \n",
       "\n",
       "      ANN_prob  \n",
       "0     0.375100  \n",
       "1     0.368543  \n",
       "2     0.369001  \n",
       "3     0.370133  \n",
       "4     0.374883  \n",
       "...        ...  \n",
       "1060  0.355275  \n",
       "1061  0.363723  \n",
       "1062  0.365227  \n",
       "1063  0.381241  \n",
       "1064  0.374609  \n",
       "\n",
       "[1065 rows x 6 columns]"
      ]
     },
     "execution_count": 17,
     "metadata": {},
     "output_type": "execute_result"
    }
   ],
   "source": [
    "df_prediction"
   ]
  },
  {
   "cell_type": "code",
   "execution_count": 19,
   "metadata": {},
   "outputs": [],
   "source": [
    "df_prediction.to_csv(\"../data/model_accuracy_gold.csv\")"
   ]
  },
  {
   "cell_type": "code",
   "execution_count": null,
   "metadata": {},
   "outputs": [],
   "source": []
  }
 ],
 "metadata": {
  "kernelspec": {
   "display_name": "Python 3 (ipykernel)",
   "language": "python",
   "name": "python3"
  },
  "language_info": {
   "codemirror_mode": {
    "name": "ipython",
    "version": 3
   },
   "file_extension": ".py",
   "mimetype": "text/x-python",
   "name": "python",
   "nbconvert_exporter": "python",
   "pygments_lexer": "ipython3",
   "version": "3.9.12"
  }
 },
 "nbformat": 4,
 "nbformat_minor": 2
}
