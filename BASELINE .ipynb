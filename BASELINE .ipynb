{
 "cells": [
  {
   "cell_type": "code",
   "execution_count": 2,
   "id": "4473535a",
   "metadata": {},
   "outputs": [],
   "source": [
    "# General libraries\n",
    "import pandas as pd\n",
    "import numpy as np\n",
    "import seaborn as sns\n",
    "import matplotlib.pyplot as plt\n",
    "import datetime as datetime\n",
    "from pandas_datareader import data as pdr\n",
    "import yfinance\n",
    "import pandas_ta as ta\n",
    "import euklid as eu\n",
    "from sklearn.preprocessing import MinMaxScaler\n",
    "from sklearn.model_selection import train_test_split\n",
    "import matplotlib.pyplot as plt"
   ]
  },
  {
   "cell_type": "code",
   "execution_count": 4,
   "id": "f6574b29",
   "metadata": {},
   "outputs": [],
   "source": [
    "yahoo_df = pd.read_csv(\"data/IBM.csv\")\n",
    "yahoo_df = yahoo_df.set_index(\"Date\")"
   ]
  },
  {
   "cell_type": "code",
   "execution_count": 5,
   "id": "1af18532",
   "metadata": {},
   "outputs": [],
   "source": [
    "X = yahoo_df.drop(columns=['Up down'])\n",
    "y = yahoo_df[\"Up down\"]"
   ]
  },
  {
   "cell_type": "code",
   "execution_count": 6,
   "id": "8d8a3996",
   "metadata": {},
   "outputs": [],
   "source": [
    "# Split in 80/20 the dataframeX\n",
    "X_train_80, X_test, y_train_80, y_test = train_test_split(X, y, test_size = 0.20,\n",
    "                                                          random_state = 42)\n",
    "\n",
    "# Split in 75/25 the remaining 80 %\n",
    "X_train, X_valid, y_train, y_valid = train_test_split(X_train_80, y_train_80,\n",
    "                                                      test_size = 0.25, random_state = 42)"
   ]
  },
  {
   "cell_type": "code",
   "execution_count": 7,
   "id": "196b6b57",
   "metadata": {},
   "outputs": [],
   "source": [
    "def shift_norm(df):\n",
    "    #df = data\n",
    "    for column in df:\n",
    "        df[column]=((df[column]-df[column].mean())/df[column].std())\n",
    "    return df"
   ]
  },
  {
   "cell_type": "code",
   "execution_count": 17,
   "id": "9cb1d66f",
   "metadata": {},
   "outputs": [],
   "source": [
    "#scaled_X = normalize(yahoo_df.drop(columns=['Up_down IBM']))"
   ]
  },
  {
   "cell_type": "code",
   "execution_count": 8,
   "id": "b16595b3",
   "metadata": {},
   "outputs": [
    {
     "name": "stderr",
     "output_type": "stream",
     "text": [
      "<ipython-input-7-c3632ba45e6d>:4: SettingWithCopyWarning: \n",
      "A value is trying to be set on a copy of a slice from a DataFrame.\n",
      "Try using .loc[row_indexer,col_indexer] = value instead\n",
      "\n",
      "See the caveats in the documentation: https://pandas.pydata.org/pandas-docs/stable/user_guide/indexing.html#returning-a-view-versus-a-copy\n",
      "  df[column]=((df[column]-df[column].mean())/df[column].std())\n"
     ]
    }
   ],
   "source": [
    "X_train_80 = shift_norm(X_train_80)\n",
    "X_test = shift_norm(X_test)"
   ]
  },
  {
   "cell_type": "code",
   "execution_count": 9,
   "id": "ea4ceef9",
   "metadata": {},
   "outputs": [
    {
     "name": "stderr",
     "output_type": "stream",
     "text": [
      "<ipython-input-7-c3632ba45e6d>:4: SettingWithCopyWarning: \n",
      "A value is trying to be set on a copy of a slice from a DataFrame.\n",
      "Try using .loc[row_indexer,col_indexer] = value instead\n",
      "\n",
      "See the caveats in the documentation: https://pandas.pydata.org/pandas-docs/stable/user_guide/indexing.html#returning-a-view-versus-a-copy\n",
      "  df[column]=((df[column]-df[column].mean())/df[column].std())\n"
     ]
    }
   ],
   "source": [
    "X_train = shift_norm(X_train)\n",
    "X_valid = shift_norm(X_valid)"
   ]
  },
  {
   "cell_type": "markdown",
   "id": "847bbef9",
   "metadata": {},
   "source": [
    "## RANDOM PREDICTION"
   ]
  },
  {
   "cell_type": "code",
   "execution_count": 10,
   "id": "9054cdc4",
   "metadata": {},
   "outputs": [],
   "source": [
    "# Generate random predictions\n",
    "def random_algorithm(train, test):\n",
    "    unique = list(set(train))\n",
    "    predicted = list()\n",
    "    for row in test:\n",
    "        index = randrange(len(unique))\n",
    "        predicted.append(unique[index])\n",
    "    return predicted"
   ]
  },
  {
   "cell_type": "code",
   "execution_count": 11,
   "id": "766205c4",
   "metadata": {},
   "outputs": [],
   "source": [
    "from random import seed\n",
    "from random import randrange\n",
    " \n",
    "seed(1)\n",
    "\n",
    "predictions = random_algorithm(y_train, y_test)\n",
    "#predictions\n"
   ]
  },
  {
   "cell_type": "code",
   "execution_count": 12,
   "id": "b1e993f2",
   "metadata": {},
   "outputs": [
    {
     "data": {
      "text/plain": [
       "0.498015873015873"
      ]
     },
     "execution_count": 12,
     "metadata": {},
     "output_type": "execute_result"
    }
   ],
   "source": [
    "from sklearn.metrics import accuracy_score\n",
    "accuracy_score(y_test, predictions)"
   ]
  },
  {
   "cell_type": "markdown",
   "id": "ee69da38",
   "metadata": {},
   "source": [
    "## ZERO RULE ALGORITHM "
   ]
  },
  {
   "cell_type": "code",
   "execution_count": 13,
   "id": "8844f7ce",
   "metadata": {},
   "outputs": [],
   "source": [
    "# zero rule algorithm for classification\n",
    "def zero_rule_algorithm_classification(train, test):\n",
    "    prediction = train.mode()[0]\n",
    "    predicted = [prediction for i in range(len(test))]\n",
    "    return predicted"
   ]
  },
  {
   "cell_type": "code",
   "execution_count": 14,
   "id": "4771df3e",
   "metadata": {},
   "outputs": [],
   "source": [
    "seed(2)\n",
    "pred_zr = zero_rule_algorithm_classification(y_train, y_test)\n"
   ]
  },
  {
   "cell_type": "code",
   "execution_count": 15,
   "id": "85af4f25",
   "metadata": {},
   "outputs": [
    {
     "data": {
      "text/plain": [
       "0.6488095238095238"
      ]
     },
     "execution_count": 15,
     "metadata": {},
     "output_type": "execute_result"
    }
   ],
   "source": [
    "accuracy_score(y_test, pred_zr)"
   ]
  },
  {
   "cell_type": "markdown",
   "id": "57c89e7b",
   "metadata": {},
   "source": [
    "### GOLD"
   ]
  },
  {
   "cell_type": "code",
   "execution_count": 27,
   "id": "84403b8c",
   "metadata": {},
   "outputs": [],
   "source": [
    "yahoo_df = pd.read_csv(\"data/GOLD.csv\")\n",
    "yahoo_df = yahoo_df.set_index(\"Date\")"
   ]
  },
  {
   "cell_type": "code",
   "execution_count": 28,
   "id": "a7ca9eb6",
   "metadata": {},
   "outputs": [],
   "source": [
    "X = yahoo_df.drop(columns=['Up down'])\n",
    "y = yahoo_df[\"Up down\"]"
   ]
  },
  {
   "cell_type": "code",
   "execution_count": 29,
   "metadata": {},
   "outputs": [],
   "source": [
    "X_train_80, X_test, y_train_80, y_test = train_test_split(X, y, test_size = 0.20,\n",
    "                                                          random_state = 42)\n",
    "\n",
    "# Split in 75/25 the remaining 80 %\n",
    "X_train, X_valid, y_train, y_valid = train_test_split(X_train_80, y_train_80,\n",
    "                                                      test_size = 0.25, random_state = 42)"
   ]
  },
  {
   "cell_type": "code",
   "execution_count": 30,
   "id": "cb6007c9",
   "metadata": {},
   "outputs": [
    {
     "name": "stderr",
     "output_type": "stream",
     "text": [
      "<ipython-input-7-c3632ba45e6d>:4: SettingWithCopyWarning: \n",
      "A value is trying to be set on a copy of a slice from a DataFrame.\n",
      "Try using .loc[row_indexer,col_indexer] = value instead\n",
      "\n",
      "See the caveats in the documentation: https://pandas.pydata.org/pandas-docs/stable/user_guide/indexing.html#returning-a-view-versus-a-copy\n",
      "  df[column]=((df[column]-df[column].mean())/df[column].std())\n"
     ]
    }
   ],
   "source": [
    "X_train_80 = shift_norm(X_train_80)\n",
    "X_test = shift_norm(X_test)"
   ]
  },
  {
   "cell_type": "code",
   "execution_count": 31,
   "id": "674c217d",
   "metadata": {},
   "outputs": [
    {
     "name": "stderr",
     "output_type": "stream",
     "text": [
      "<ipython-input-7-c3632ba45e6d>:4: SettingWithCopyWarning: \n",
      "A value is trying to be set on a copy of a slice from a DataFrame.\n",
      "Try using .loc[row_indexer,col_indexer] = value instead\n",
      "\n",
      "See the caveats in the documentation: https://pandas.pydata.org/pandas-docs/stable/user_guide/indexing.html#returning-a-view-versus-a-copy\n",
      "  df[column]=((df[column]-df[column].mean())/df[column].std())\n"
     ]
    }
   ],
   "source": [
    "X_train = shift_norm(X_train)\n",
    "X_valid = shift_norm(X_valid)"
   ]
  },
  {
   "cell_type": "code",
   "execution_count": 32,
   "id": "5f0b5e2b",
   "metadata": {},
   "outputs": [],
   "source": [
    "from random import seed\n",
    "from random import randrange\n",
    " \n",
    "seed(1)\n",
    "\n",
    "predictions = random_algorithm(y_train, y_test)\n",
    "#predictions"
   ]
  },
  {
   "cell_type": "code",
   "execution_count": 33,
   "id": "5466df60",
   "metadata": {},
   "outputs": [
    {
     "data": {
      "text/plain": [
       "0.5099206349206349"
      ]
     },
     "execution_count": 33,
     "metadata": {},
     "output_type": "execute_result"
    }
   ],
   "source": [
    "from sklearn.metrics import accuracy_score\n",
    "accuracy_score(y_test, predictions)"
   ]
  },
  {
   "cell_type": "code",
   "execution_count": 34,
   "id": "b7318cdd",
   "metadata": {
    "scrolled": true
   },
   "outputs": [
    {
     "data": {
      "text/plain": [
       "0.7242063492063492"
      ]
     },
     "execution_count": 34,
     "metadata": {},
     "output_type": "execute_result"
    }
   ],
   "source": [
    "seed(2)\n",
    "pred_zr = zero_rule_algorithm_classification(y_train, y_test)\n",
    "accuracy_score(y_test, pred_zr)"
   ]
  },
  {
   "cell_type": "markdown",
   "id": "375ced6c",
   "metadata": {},
   "source": [
    "### WTI\n"
   ]
  },
  {
   "cell_type": "code",
   "execution_count": 35,
   "id": "495124b0",
   "metadata": {},
   "outputs": [],
   "source": [
    "yahoo_df = pd.read_csv(\"data/WTI.csv\")\n",
    "yahoo_df = yahoo_df.set_index(\"Date\")"
   ]
  },
  {
   "cell_type": "code",
   "execution_count": 36,
   "id": "fb281340",
   "metadata": {},
   "outputs": [],
   "source": [
    "X = yahoo_df.drop(columns=['Up down'])\n",
    "y = yahoo_df[\"Up down\"]"
   ]
  },
  {
   "cell_type": "markdown",
   "id": "d6f78a76",
   "metadata": {},
   "source": []
  },
  {
   "cell_type": "code",
   "execution_count": 37,
   "id": "422ad5c3",
   "metadata": {},
   "outputs": [],
   "source": [
    "X_train_80, X_test, y_train_80, y_test = train_test_split(X, y, test_size = 0.20,\n",
    "                                                          random_state = 42)\n",
    "\n",
    "# Split in 75/25 the remaining 80 %\n",
    "X_train, X_valid, y_train, y_valid = train_test_split(X_train_80, y_train_80,\n",
    "                                                      test_size = 0.25, random_state = 42)"
   ]
  },
  {
   "cell_type": "code",
   "execution_count": 38,
   "id": "99407a31",
   "metadata": {},
   "outputs": [
    {
     "name": "stderr",
     "output_type": "stream",
     "text": [
      "<ipython-input-7-c3632ba45e6d>:4: SettingWithCopyWarning: \n",
      "A value is trying to be set on a copy of a slice from a DataFrame.\n",
      "Try using .loc[row_indexer,col_indexer] = value instead\n",
      "\n",
      "See the caveats in the documentation: https://pandas.pydata.org/pandas-docs/stable/user_guide/indexing.html#returning-a-view-versus-a-copy\n",
      "  df[column]=((df[column]-df[column].mean())/df[column].std())\n"
     ]
    }
   ],
   "source": [
    "X_train_80 = shift_norm(X_train_80)\n",
    "X_test = shift_norm(X_test)"
   ]
  },
  {
   "cell_type": "code",
   "execution_count": 39,
   "id": "a9abdca3",
   "metadata": {},
   "outputs": [
    {
     "name": "stderr",
     "output_type": "stream",
     "text": [
      "<ipython-input-7-c3632ba45e6d>:4: SettingWithCopyWarning: \n",
      "A value is trying to be set on a copy of a slice from a DataFrame.\n",
      "Try using .loc[row_indexer,col_indexer] = value instead\n",
      "\n",
      "See the caveats in the documentation: https://pandas.pydata.org/pandas-docs/stable/user_guide/indexing.html#returning-a-view-versus-a-copy\n",
      "  df[column]=((df[column]-df[column].mean())/df[column].std())\n"
     ]
    }
   ],
   "source": [
    "X_train = shift_norm(X_train)\n",
    "X_valid = shift_norm(X_valid)"
   ]
  },
  {
   "cell_type": "code",
   "execution_count": 40,
   "id": "a1f0de52",
   "metadata": {},
   "outputs": [],
   "source": [
    "from random import seed\n",
    "from random import randrange\n",
    " \n",
    "seed(1)\n",
    "\n",
    "predictions = random_algorithm(y_train, y_test)\n",
    "#predictions"
   ]
  },
  {
   "cell_type": "code",
   "execution_count": 41,
   "id": "0fdf469e",
   "metadata": {},
   "outputs": [
    {
     "data": {
      "text/plain": [
       "0.501984126984127"
      ]
     },
     "execution_count": 41,
     "metadata": {},
     "output_type": "execute_result"
    }
   ],
   "source": [
    "from sklearn.metrics import accuracy_score\n",
    "accuracy_score(y_test, predictions)"
   ]
  },
  {
   "cell_type": "code",
   "execution_count": 42,
   "id": "c517b16d",
   "metadata": {
    "scrolled": true
   },
   "outputs": [
    {
     "data": {
      "text/plain": [
       "0.6329365079365079"
      ]
     },
     "execution_count": 42,
     "metadata": {},
     "output_type": "execute_result"
    }
   ],
   "source": [
    "seed(2)\n",
    "pred_zr = zero_rule_algorithm_classification(y_train, y_test)\n",
    "accuracy_score(y_test, pred_zr)"
   ]
  },
  {
   "cell_type": "code",
   "execution_count": null,
   "id": "602137df",
   "metadata": {},
   "outputs": [],
   "source": []
  },
  {
   "cell_type": "markdown",
   "id": "7798be34",
   "metadata": {},
   "source": [
    "## NASDAQ "
   ]
  },
  {
   "cell_type": "code",
   "execution_count": 43,
   "id": "e5411688",
   "metadata": {},
   "outputs": [],
   "source": [
    "yahoo_df = pd.read_csv(\"data/NSQ.csv\")\n",
    "yahoo_df = yahoo_df.set_index(\"Date\")"
   ]
  },
  {
   "cell_type": "code",
   "execution_count": 44,
   "id": "24105f3b",
   "metadata": {},
   "outputs": [],
   "source": [
    "X = yahoo_df.drop(columns=['Up down'])\n",
    "y = yahoo_df[\"Up down\"]"
   ]
  },
  {
   "cell_type": "code",
   "execution_count": 45,
   "id": "d40daac0",
   "metadata": {},
   "outputs": [],
   "source": [
    "X_train_80, X_test, y_train_80, y_test = train_test_split(X, y, test_size = 0.20,\n",
    "                                                          random_state = 42)\n",
    "\n",
    "# Split in 75/25 the remaining 80 %\n",
    "X_train, X_valid, y_train, y_valid = train_test_split(X_train_80, y_train_80,\n",
    "                                                      test_size = 0.25, random_state = 42)"
   ]
  },
  {
   "cell_type": "code",
   "execution_count": 46,
   "id": "adb7fcad",
   "metadata": {},
   "outputs": [
    {
     "name": "stderr",
     "output_type": "stream",
     "text": [
      "<ipython-input-7-c3632ba45e6d>:4: SettingWithCopyWarning: \n",
      "A value is trying to be set on a copy of a slice from a DataFrame.\n",
      "Try using .loc[row_indexer,col_indexer] = value instead\n",
      "\n",
      "See the caveats in the documentation: https://pandas.pydata.org/pandas-docs/stable/user_guide/indexing.html#returning-a-view-versus-a-copy\n",
      "  df[column]=((df[column]-df[column].mean())/df[column].std())\n"
     ]
    }
   ],
   "source": [
    "X_train_80 = shift_norm(X_train_80)\n",
    "X_test = shift_norm(X_test)"
   ]
  },
  {
   "cell_type": "code",
   "execution_count": 47,
   "id": "a036177d",
   "metadata": {},
   "outputs": [
    {
     "name": "stderr",
     "output_type": "stream",
     "text": [
      "<ipython-input-7-c3632ba45e6d>:4: SettingWithCopyWarning: \n",
      "A value is trying to be set on a copy of a slice from a DataFrame.\n",
      "Try using .loc[row_indexer,col_indexer] = value instead\n",
      "\n",
      "See the caveats in the documentation: https://pandas.pydata.org/pandas-docs/stable/user_guide/indexing.html#returning-a-view-versus-a-copy\n",
      "  df[column]=((df[column]-df[column].mean())/df[column].std())\n"
     ]
    }
   ],
   "source": [
    "X_train = shift_norm(X_train)\n",
    "X_valid = shift_norm(X_valid)"
   ]
  },
  {
   "cell_type": "code",
   "execution_count": 48,
   "id": "ab2837b2",
   "metadata": {},
   "outputs": [
    {
     "data": {
      "text/plain": [
       "0.5297619047619048"
      ]
     },
     "execution_count": 48,
     "metadata": {},
     "output_type": "execute_result"
    }
   ],
   "source": [
    "from random import seed\n",
    "from random import randrange\n",
    " \n",
    "seed(1)\n",
    "\n",
    "predictions = random_algorithm(y_train, y_test)\n",
    "#predictions\n",
    "from sklearn.metrics import accuracy_score\n",
    "accuracy_score(y_test, predictions)"
   ]
  },
  {
   "cell_type": "code",
   "execution_count": 49,
   "id": "2d80205e",
   "metadata": {},
   "outputs": [
    {
     "data": {
      "text/plain": [
       "0.6329365079365079"
      ]
     },
     "execution_count": 49,
     "metadata": {},
     "output_type": "execute_result"
    }
   ],
   "source": [
    "seed(2)\n",
    "pred_zr = zero_rule_algorithm_classification(y_train, y_test)\n",
    "accuracy_score(y_test, pred_zr)"
   ]
  },
  {
   "cell_type": "markdown",
   "id": "f101b8a8",
   "metadata": {},
   "source": []
  },
  {
   "cell_type": "code",
   "execution_count": null,
   "id": "91b355c0",
   "metadata": {},
   "outputs": [],
   "source": []
  }
 ],
 "metadata": {
  "kernelspec": {
   "display_name": "Python 3",
   "language": "python",
   "name": "python3"
  },
  "language_info": {
   "codemirror_mode": {
    "name": "ipython",
    "version": 3
   },
   "file_extension": ".py",
   "mimetype": "text/x-python",
   "name": "python",
   "nbconvert_exporter": "python",
   "pygments_lexer": "ipython3",
   "version": "3.8.8"
  }
 },
 "nbformat": 4,
 "nbformat_minor": 5
}
