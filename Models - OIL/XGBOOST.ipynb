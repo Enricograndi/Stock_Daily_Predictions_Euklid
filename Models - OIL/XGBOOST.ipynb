{
 "cells": [
  {
   "cell_type": "code",
   "execution_count": 1,
   "metadata": {
    "scrolled": true
   },
   "outputs": [],
   "source": [
    "# General libraries\n",
    "import pandas as pd\n",
    "import numpy as np\n",
    "from sklearn.model_selection import GridSearchCV\n",
    "# Machine Learning Libraries\n",
    "from sklearn.model_selection import train_test_split\n",
    "from sklearn.metrics import accuracy_score\n",
    "# Import Logistic Regression function\n",
    "# Import XGBoost Classifier\n",
    "from xgboost import XGBClassifier"
   ]
  },
  {
   "cell_type": "code",
   "execution_count": 2,
   "metadata": {},
   "outputs": [],
   "source": [
    "#print(\"Num GPUs Available: \", len(tf.config.list_physical_devices('GPU')))\n",
    "#config = tf.compat.v1.ConfigProto(device_count = {'GPU': 1})"
   ]
  },
  {
   "cell_type": "markdown",
   "metadata": {},
   "source": [
    "## Preliminary work on the dataset"
   ]
  },
  {
   "cell_type": "code",
   "execution_count": 3,
   "metadata": {
    "scrolled": true
   },
   "outputs": [],
   "source": [
    "yahoo_df = pd.read_csv(\"../data/OIL.csv\")\n",
    "yahoo_df = yahoo_df.set_index(\"Date\")\n",
    "\n",
    "X = yahoo_df[['ROC_1', 'ROC_4', 'ROC_5', 'ROC_30', 'Return', '2 Day ROI', '3 Day ROI',\n",
    "       '4 Day ROI', '30 Day ROI', 'RSI_1', 'RSI_2', 'RSI_3', 'RSI_4',\n",
    "       'MACDs_12_26_9', 'SRSI_14', 'SRSI_30', 'CCI', 'Previous_differenced',\n",
    "       'principalDf']]\n",
    "\n",
    "y = yahoo_df[\"Up down\"]\n",
    "\n",
    "# Split in 80/20 the dataframeX\n",
    "X_train_80, X_test, y_train_80, y_test = train_test_split(X, y, test_size = 0.20,\n",
    "                                                          shuffle=False)\n",
    "\n",
    "# Split in 75/25 the remaining 80 %\n",
    "X_train, X_valid, y_train, y_valid = train_test_split(X_train_80, y_train_80,\n",
    "                                                      test_size = 0.25, shuffle=False)\n"
   ]
  },
  {
   "cell_type": "markdown",
   "metadata": {},
   "source": [
    "# Normalize"
   ]
  },
  {
   "cell_type": "code",
   "execution_count": 4,
   "metadata": {},
   "outputs": [],
   "source": [
    "def shift_norm(df):\n",
    "    #df = data\n",
    "    for column in df:\n",
    "        df[column]=((df[column]-df[column].mean())/df[column].std())\n",
    "    return df"
   ]
  },
  {
   "cell_type": "code",
   "execution_count": 5,
   "metadata": {},
   "outputs": [],
   "source": [
    "X_train_80 = shift_norm(X_train_80)\n",
    "X_test = shift_norm(X_test)"
   ]
  },
  {
   "cell_type": "code",
   "execution_count": 6,
   "metadata": {},
   "outputs": [],
   "source": [
    "X_train = shift_norm(X_train)\n",
    "X_valid = shift_norm(X_valid)"
   ]
  },
  {
   "cell_type": "markdown",
   "metadata": {},
   "source": [
    "# Gradient Boosting Classifier (XGboost)"
   ]
  },
  {
   "cell_type": "markdown",
   "metadata": {},
   "source": [
    "XGboost is a library based on GradientBoostingClassifier. Many consider it as one of the best algorithms and, due to its great performance for regression and classification problems, would recommend it as a first choice in many situations. XGBoost has become famous for winning tons of Kaggle competitions, is now used in many industry-application, and is even implemented within machine-learning platforms, such as BigQuery ML.\n",
    "\n",
    "GBoosting is a sequential technique which works on the principle of ensemble. It combines a set of weak learners and delivers improved prediction accuracy. At any instant t, the model outcomes are weighed based on the outcomes of previous instant t-1. The outcomes predicted correctly are given a lower weight and the ones miss-classified are weighted higher. This technique is followed for a classification problem while a similar technique is used for regression.\n",
    "\n",
    "- Pros\n",
    "\n",
    "It is extremely powerful machine learning classifier.\n",
    "Accepts various types of inputs that make it more flexible.\n",
    "It can be used for both regression and classification.\n",
    "It gives you features important for the output.\n",
    "\n",
    "- Cons\n",
    "\n",
    "It takes longer time to train as it can’t be parallelized.\n",
    "More likely to overfit as it obsessed with the wrong output as it learns from past mistakes.\n",
    "In some cases, Tuning is very hard as it has many parameters to tune."
   ]
  },
  {
   "cell_type": "code",
   "execution_count": 7,
   "metadata": {
    "scrolled": true
   },
   "outputs": [
    {
     "name": "stdout",
     "output_type": "stream",
     "text": [
      "Train Accuracy: 0.99587 - Validation Accuracy: 0.52195\n"
     ]
    }
   ],
   "source": [
    "# Fit the model\n",
    "XGB = XGBClassifier(random_state = 42)\n",
    "XGB.fit(X_train, y_train)\n",
    "\n",
    "# Predict\n",
    "y_pred_train = XGB.predict(X_train)\n",
    "y_pred_valid = XGB.predict(X_valid)\n",
    "\n",
    "# Compute accuracy\n",
    "train_acc = accuracy_score(y_train, y_pred_train)\n",
    "valid_acc = accuracy_score(y_valid, y_pred_valid)\n",
    "print(\"Train Accuracy: {:.5f} - Validation Accuracy: {:.5f}\".format(train_acc, valid_acc))"
   ]
  },
  {
   "cell_type": "markdown",
   "metadata": {},
   "source": [
    "### Tuning parameters very slow"
   ]
  },
  {
   "cell_type": "markdown",
   "metadata": {
    "scrolled": true
   },
   "source": [
    "params = { 'max_depth': [3,6,10],\n",
    "           'learning_rate': [0.01, 0.05, 0.1],\n",
    "           'n_estimators': [100, 500, 1000],\n",
    "           'colsample_bytree': [0.3, 0.7]}\n",
    "\n",
    "XGB = XGBClassifier(seed = 42)\n",
    "best_XGB = GridSearchCV(estimator=XGB, \n",
    "                   param_grid=params,\n",
    "                   scoring='accuracy', \n",
    "                   verbose=1)\n",
    "best_XGB.fit(X_train, y_train)\n",
    "print(\"Best parameters:\", best_XGB.best_params_)\n",
    "#print(\"Lowest RMSE: \", (-clf.best_score_)**(1/2.0))"
   ]
  },
  {
   "cell_type": "code",
   "execution_count": 8,
   "metadata": {
    "scrolled": true
   },
   "outputs": [
    {
     "name": "stdout",
     "output_type": "stream",
     "text": [
      "Test Accuracy: 0.52145 \n"
     ]
    }
   ],
   "source": [
    "# Fit \n",
    "XGB = XGBClassifier(colsample_bytree= 0.7, learning_rate= 0.05, max_depth= 3, n_estimators= 100)\n",
    "XGB.fit(X_train_80, y_train_80)\n",
    "\n",
    "y_pred_test = XGB.predict(X_test)\n",
    "y_proba = XGB.predict_proba(X_test)\n",
    "\n",
    "\n",
    "# Compute accuracy\n",
    "test_acc = accuracy_score(y_test, y_pred_test)\n",
    "print(\"Test Accuracy: {:.5f} \".format(test_acc))\n",
    "\n",
    "# Store the Test accuracy\n",
    "XGboost_test_accuracy_test = test_acc\n",
    "\n"
   ]
  },
  {
   "cell_type": "markdown",
   "metadata": {},
   "source": [
    "# Save accuracies"
   ]
  },
  {
   "cell_type": "code",
   "execution_count": 9,
   "metadata": {},
   "outputs": [],
   "source": [
    "df_prediction = pd.read_csv(\"../data/model_accuracy_oil.csv\", index_col = False)\n",
    "df_prediction =  df_prediction.drop(columns=[\"Unnamed: 0\"])\n"
   ]
  },
  {
   "cell_type": "code",
   "execution_count": 10,
   "metadata": {},
   "outputs": [],
   "source": [
    "df_prediction[\"XGB_pred\"] = y_pred_test\n",
    "df_prediction[\"XGB_accuracy\"] = [XGboost_test_accuracy_test for x in range(len(y_pred_test))]\n",
    "df_prediction[\"XGB_prob\"] = y_proba[:,1]\n"
   ]
  },
  {
   "cell_type": "code",
   "execution_count": 11,
   "metadata": {},
   "outputs": [
    {
     "data": {
      "text/html": [
       "<div>\n",
       "<style scoped>\n",
       "    .dataframe tbody tr th:only-of-type {\n",
       "        vertical-align: middle;\n",
       "    }\n",
       "\n",
       "    .dataframe tbody tr th {\n",
       "        vertical-align: top;\n",
       "    }\n",
       "\n",
       "    .dataframe thead th {\n",
       "        text-align: right;\n",
       "    }\n",
       "</style>\n",
       "<table border=\"1\" class=\"dataframe\">\n",
       "  <thead>\n",
       "    <tr style=\"text-align: right;\">\n",
       "      <th></th>\n",
       "      <th>ANN_pred</th>\n",
       "      <th>ANN_accuracy</th>\n",
       "      <th>ANN_prob</th>\n",
       "      <th>y</th>\n",
       "      <th>kNN_pred</th>\n",
       "      <th>kNN_accuracy</th>\n",
       "      <th>kNN_prob</th>\n",
       "      <th>RF_pred</th>\n",
       "      <th>RF_accuracy</th>\n",
       "      <th>RF_prob</th>\n",
       "      <th>XGB_pred</th>\n",
       "      <th>XGB_accuracy</th>\n",
       "      <th>XGB_prob</th>\n",
       "    </tr>\n",
       "  </thead>\n",
       "  <tbody>\n",
       "    <tr>\n",
       "      <th>0</th>\n",
       "      <td>0</td>\n",
       "      <td>0.469018</td>\n",
       "      <td>0.404047</td>\n",
       "      <td>0</td>\n",
       "      <td>1</td>\n",
       "      <td>0.488084</td>\n",
       "      <td>1.0</td>\n",
       "      <td>0</td>\n",
       "      <td>0.514776</td>\n",
       "      <td>0.440374</td>\n",
       "      <td>0</td>\n",
       "      <td>0.521449</td>\n",
       "      <td>0.499819</td>\n",
       "    </tr>\n",
       "    <tr>\n",
       "      <th>1</th>\n",
       "      <td>0</td>\n",
       "      <td>0.469018</td>\n",
       "      <td>0.342436</td>\n",
       "      <td>1</td>\n",
       "      <td>0</td>\n",
       "      <td>0.488084</td>\n",
       "      <td>0.0</td>\n",
       "      <td>1</td>\n",
       "      <td>0.514776</td>\n",
       "      <td>0.558104</td>\n",
       "      <td>1</td>\n",
       "      <td>0.521449</td>\n",
       "      <td>0.511250</td>\n",
       "    </tr>\n",
       "    <tr>\n",
       "      <th>2</th>\n",
       "      <td>0</td>\n",
       "      <td>0.469018</td>\n",
       "      <td>0.339922</td>\n",
       "      <td>1</td>\n",
       "      <td>0</td>\n",
       "      <td>0.488084</td>\n",
       "      <td>0.0</td>\n",
       "      <td>1</td>\n",
       "      <td>0.514776</td>\n",
       "      <td>0.565385</td>\n",
       "      <td>0</td>\n",
       "      <td>0.521449</td>\n",
       "      <td>0.494657</td>\n",
       "    </tr>\n",
       "    <tr>\n",
       "      <th>3</th>\n",
       "      <td>0</td>\n",
       "      <td>0.469018</td>\n",
       "      <td>0.404326</td>\n",
       "      <td>0</td>\n",
       "      <td>1</td>\n",
       "      <td>0.488084</td>\n",
       "      <td>1.0</td>\n",
       "      <td>1</td>\n",
       "      <td>0.514776</td>\n",
       "      <td>0.522251</td>\n",
       "      <td>1</td>\n",
       "      <td>0.521449</td>\n",
       "      <td>0.500281</td>\n",
       "    </tr>\n",
       "    <tr>\n",
       "      <th>4</th>\n",
       "      <td>0</td>\n",
       "      <td>0.469018</td>\n",
       "      <td>0.361674</td>\n",
       "      <td>0</td>\n",
       "      <td>1</td>\n",
       "      <td>0.488084</td>\n",
       "      <td>1.0</td>\n",
       "      <td>1</td>\n",
       "      <td>0.514776</td>\n",
       "      <td>0.583792</td>\n",
       "      <td>1</td>\n",
       "      <td>0.521449</td>\n",
       "      <td>0.529373</td>\n",
       "    </tr>\n",
       "    <tr>\n",
       "      <th>...</th>\n",
       "      <td>...</td>\n",
       "      <td>...</td>\n",
       "      <td>...</td>\n",
       "      <td>...</td>\n",
       "      <td>...</td>\n",
       "      <td>...</td>\n",
       "      <td>...</td>\n",
       "      <td>...</td>\n",
       "      <td>...</td>\n",
       "      <td>...</td>\n",
       "      <td>...</td>\n",
       "      <td>...</td>\n",
       "      <td>...</td>\n",
       "    </tr>\n",
       "    <tr>\n",
       "      <th>1044</th>\n",
       "      <td>0</td>\n",
       "      <td>0.469018</td>\n",
       "      <td>0.448136</td>\n",
       "      <td>0</td>\n",
       "      <td>0</td>\n",
       "      <td>0.488084</td>\n",
       "      <td>0.5</td>\n",
       "      <td>0</td>\n",
       "      <td>0.514776</td>\n",
       "      <td>0.470678</td>\n",
       "      <td>1</td>\n",
       "      <td>0.521449</td>\n",
       "      <td>0.549180</td>\n",
       "    </tr>\n",
       "    <tr>\n",
       "      <th>1045</th>\n",
       "      <td>0</td>\n",
       "      <td>0.469018</td>\n",
       "      <td>0.448477</td>\n",
       "      <td>1</td>\n",
       "      <td>0</td>\n",
       "      <td>0.488084</td>\n",
       "      <td>0.5</td>\n",
       "      <td>0</td>\n",
       "      <td>0.514776</td>\n",
       "      <td>0.485184</td>\n",
       "      <td>1</td>\n",
       "      <td>0.521449</td>\n",
       "      <td>0.531798</td>\n",
       "    </tr>\n",
       "    <tr>\n",
       "      <th>1046</th>\n",
       "      <td>0</td>\n",
       "      <td>0.469018</td>\n",
       "      <td>0.438599</td>\n",
       "      <td>0</td>\n",
       "      <td>0</td>\n",
       "      <td>0.488084</td>\n",
       "      <td>0.5</td>\n",
       "      <td>0</td>\n",
       "      <td>0.514776</td>\n",
       "      <td>0.466790</td>\n",
       "      <td>1</td>\n",
       "      <td>0.521449</td>\n",
       "      <td>0.512161</td>\n",
       "    </tr>\n",
       "    <tr>\n",
       "      <th>1047</th>\n",
       "      <td>0</td>\n",
       "      <td>0.469018</td>\n",
       "      <td>0.417918</td>\n",
       "      <td>1</td>\n",
       "      <td>0</td>\n",
       "      <td>0.488084</td>\n",
       "      <td>0.0</td>\n",
       "      <td>1</td>\n",
       "      <td>0.514776</td>\n",
       "      <td>0.589712</td>\n",
       "      <td>1</td>\n",
       "      <td>0.521449</td>\n",
       "      <td>0.542420</td>\n",
       "    </tr>\n",
       "    <tr>\n",
       "      <th>1048</th>\n",
       "      <td>0</td>\n",
       "      <td>0.469018</td>\n",
       "      <td>0.420406</td>\n",
       "      <td>0</td>\n",
       "      <td>0</td>\n",
       "      <td>0.488084</td>\n",
       "      <td>0.5</td>\n",
       "      <td>0</td>\n",
       "      <td>0.514776</td>\n",
       "      <td>0.423251</td>\n",
       "      <td>1</td>\n",
       "      <td>0.521449</td>\n",
       "      <td>0.512920</td>\n",
       "    </tr>\n",
       "  </tbody>\n",
       "</table>\n",
       "<p>1049 rows × 13 columns</p>\n",
       "</div>"
      ],
      "text/plain": [
       "      ANN_pred  ANN_accuracy  ANN_prob  y  kNN_pred  kNN_accuracy  kNN_prob  \\\n",
       "0            0      0.469018  0.404047  0         1      0.488084       1.0   \n",
       "1            0      0.469018  0.342436  1         0      0.488084       0.0   \n",
       "2            0      0.469018  0.339922  1         0      0.488084       0.0   \n",
       "3            0      0.469018  0.404326  0         1      0.488084       1.0   \n",
       "4            0      0.469018  0.361674  0         1      0.488084       1.0   \n",
       "...        ...           ...       ... ..       ...           ...       ...   \n",
       "1044         0      0.469018  0.448136  0         0      0.488084       0.5   \n",
       "1045         0      0.469018  0.448477  1         0      0.488084       0.5   \n",
       "1046         0      0.469018  0.438599  0         0      0.488084       0.5   \n",
       "1047         0      0.469018  0.417918  1         0      0.488084       0.0   \n",
       "1048         0      0.469018  0.420406  0         0      0.488084       0.5   \n",
       "\n",
       "      RF_pred  RF_accuracy   RF_prob  XGB_pred  XGB_accuracy  XGB_prob  \n",
       "0           0     0.514776  0.440374         0      0.521449  0.499819  \n",
       "1           1     0.514776  0.558104         1      0.521449  0.511250  \n",
       "2           1     0.514776  0.565385         0      0.521449  0.494657  \n",
       "3           1     0.514776  0.522251         1      0.521449  0.500281  \n",
       "4           1     0.514776  0.583792         1      0.521449  0.529373  \n",
       "...       ...          ...       ...       ...           ...       ...  \n",
       "1044        0     0.514776  0.470678         1      0.521449  0.549180  \n",
       "1045        0     0.514776  0.485184         1      0.521449  0.531798  \n",
       "1046        0     0.514776  0.466790         1      0.521449  0.512161  \n",
       "1047        1     0.514776  0.589712         1      0.521449  0.542420  \n",
       "1048        0     0.514776  0.423251         1      0.521449  0.512920  \n",
       "\n",
       "[1049 rows x 13 columns]"
      ]
     },
     "execution_count": 11,
     "metadata": {},
     "output_type": "execute_result"
    }
   ],
   "source": [
    "df_prediction"
   ]
  },
  {
   "cell_type": "code",
   "execution_count": 12,
   "metadata": {
    "scrolled": false
   },
   "outputs": [],
   "source": [
    "df_prediction.to_csv(\"../data/model_accuracy_oil.csv\")"
   ]
  },
  {
   "cell_type": "code",
   "execution_count": null,
   "metadata": {},
   "outputs": [],
   "source": []
  },
  {
   "cell_type": "code",
   "execution_count": null,
   "metadata": {},
   "outputs": [],
   "source": []
  }
 ],
 "metadata": {
  "kernelspec": {
   "display_name": "Python 3 (ipykernel)",
   "language": "python",
   "name": "python3"
  },
  "language_info": {
   "codemirror_mode": {
    "name": "ipython",
    "version": 3
   },
   "file_extension": ".py",
   "mimetype": "text/x-python",
   "name": "python",
   "nbconvert_exporter": "python",
   "pygments_lexer": "ipython3",
   "version": "3.9.12"
  }
 },
 "nbformat": 4,
 "nbformat_minor": 2
}
