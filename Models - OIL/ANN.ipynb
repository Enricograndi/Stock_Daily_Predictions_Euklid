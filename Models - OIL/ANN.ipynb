{
 "cells": [
  {
   "cell_type": "code",
   "execution_count": 1,
   "metadata": {},
   "outputs": [],
   "source": [
    "# General libraries\n",
    "import pandas as pd\n",
    "import numpy as np\n",
    "import warnings\n",
    "warnings.filterwarnings(\"ignore\")\n",
    "\n",
    "# Neural network libraries\n",
    "from keras import optimizers\n",
    "from keras.models import Sequential\n",
    "from keras.layers import Dense, Dropout,BatchNormalization\n",
    "from keras.callbacks import EarlyStopping\n",
    "from tensorflow import keras\n",
    "\n",
    "# Machine Learning libraries\n",
    "from sklearn.preprocessing import LabelEncoder, StandardScaler, OneHotEncoder\n",
    "from sklearn.model_selection import train_test_split\n",
    "from sklearn.metrics import accuracy_score\n",
    "\n",
    "#Visualization\n",
    "from matplotlib import pyplot\n",
    "import matplotlib.pyplot as plt"
   ]
  },
  {
   "cell_type": "code",
   "execution_count": 2,
   "metadata": {},
   "outputs": [],
   "source": [
    "#print(\"Num GPUs Available: \", len(tf.config.list_physical_devices('GPU')))\n",
    "#config = tf.compat.v1.ConfigProto(device_count = {'GPU': 1})"
   ]
  },
  {
   "cell_type": "markdown",
   "metadata": {},
   "source": [
    "## Preliminary work on the dataset"
   ]
  },
  {
   "cell_type": "code",
   "execution_count": 3,
   "metadata": {},
   "outputs": [],
   "source": [
    "yahoo_df = pd.read_csv(\"../data/OIL.csv\")\n",
    "#yahoo_df = yahoo_df.set_index(\"Date\")\n",
    "yahoo_df = yahoo_df.set_index(\"Date\")\n"
   ]
  },
  {
   "cell_type": "markdown",
   "metadata": {},
   "source": [
    "X = yahoo_df[['ROC_1', 'ROC_4', 'ROC_7', 'Momentum', '1 Day ROI', '3 Day ROI',\n",
    "       '5 Day ROI', '20 Day ROI', '6_day_RSI', 'MACD_12_26', 'SRSI_30',\n",
    "       'Williams_1', 'Williams_3', 'Williams_14', 'ATR_14', 'CCI']]"
   ]
  },
  {
   "cell_type": "markdown",
   "metadata": {},
   "source": [
    "# Train, test, val"
   ]
  },
  {
   "cell_type": "code",
   "execution_count": 4,
   "metadata": {},
   "outputs": [],
   "source": [
    "\n",
    "X = yahoo_df[['ROC_1', 'ROC_4', 'ROC_5', 'ROC_30', 'Return', '2 Day ROI', '3 Day ROI',\n",
    "       '4 Day ROI', '30 Day ROI', 'RSI_1', 'RSI_2', 'RSI_3', 'RSI_4',\n",
    "       'MACDs_12_26_9', 'SRSI_14', 'SRSI_30', 'CCI', 'Previous_differenced',\n",
    "       'principalDf']]\n",
    "y = yahoo_df[\"Up down\"]"
   ]
  },
  {
   "cell_type": "code",
   "execution_count": 5,
   "metadata": {},
   "outputs": [
    {
     "data": {
      "text/plain": [
       "0.5193665331043694"
      ]
     },
     "execution_count": 5,
     "metadata": {},
     "output_type": "execute_result"
    }
   ],
   "source": [
    "sum(y)/len(X)"
   ]
  },
  {
   "cell_type": "code",
   "execution_count": 6,
   "metadata": {},
   "outputs": [],
   "source": [
    "# Split in 80/20 the dataframe\n",
    "X_train, X_test, y_train, y_test = train_test_split(X, y,\n",
    "                                                    test_size = 0.20, shuffle=False)"
   ]
  },
  {
   "cell_type": "markdown",
   "metadata": {},
   "source": [
    "# Normalize"
   ]
  },
  {
   "cell_type": "code",
   "execution_count": 7,
   "metadata": {},
   "outputs": [],
   "source": [
    "def normalize(df):\n",
    "    #df = data\n",
    "    for column in df:\n",
    "        df[column]=((df[column]-df[column].mean())/df[column].std())\n",
    "    return df"
   ]
  },
  {
   "cell_type": "code",
   "execution_count": 8,
   "metadata": {},
   "outputs": [],
   "source": [
    "X_train = normalize(X_train)\n",
    "X_test = normalize(X_test)\n"
   ]
  },
  {
   "cell_type": "markdown",
   "metadata": {},
   "source": [
    "# Model ANN\n"
   ]
  },
  {
   "cell_type": "code",
   "execution_count": 9,
   "metadata": {},
   "outputs": [],
   "source": [
    "# Set early stopping monitor so the model stops training when it won't improve anymore\n",
    "esm = EarlyStopping(monitor = 'val_binary_accuracy',patience=50)\n",
    "\n",
    "# Set the optimizer\n",
    "opt = keras.optimizers.SGD(learning_rate = 0.0001)"
   ]
  },
  {
   "cell_type": "code",
   "execution_count": 10,
   "metadata": {},
   "outputs": [],
   "source": [
    "metrics=[keras.metrics.Accuracy(),\n",
    "    keras.metrics.BinaryAccuracy(name=\"binary_accuracy\", dtype=None, threshold=0.49),\n",
    "    keras.metrics.MeanSquaredError(name='my_mse'),\n",
    "    keras.metrics.BinaryCrossentropy(),\n",
    "    keras.metrics.Hinge()]"
   ]
  },
  {
   "cell_type": "code",
   "execution_count": 11,
   "metadata": {
    "scrolled": true
   },
   "outputs": [
    {
     "name": "stdout",
     "output_type": "stream",
     "text": [
      "Epoch 1/1000\n",
      "76/76 [==============================] - 24s 146ms/step - loss: 1.1533 - accuracy: 7.9533e-04 - binary_accuracy: 0.4878 - my_mse: 0.3894 - binary_crossentropy: 1.1533 - hinge: 0.9978 - val_loss: 1.1722 - val_accuracy: 0.0000e+00 - val_binary_accuracy: 0.4548 - val_my_mse: 0.4147 - val_binary_crossentropy: 1.1722 - val_hinge: 0.9873\n",
      "Epoch 2/1000\n",
      "76/76 [==============================] - 5s 65ms/step - loss: 0.9756 - accuracy: 0.0000e+00 - binary_accuracy: 0.4859 - my_mse: 0.3530 - binary_crossentropy: 0.9756 - hinge: 0.9971 - val_loss: 1.0341 - val_accuracy: 0.0000e+00 - val_binary_accuracy: 0.4548 - val_my_mse: 0.3806 - val_binary_crossentropy: 1.0341 - val_hinge: 0.9834\n",
      "Epoch 3/1000\n",
      "76/76 [==============================] - 3s 37ms/step - loss: 0.9151 - accuracy: 0.0000e+00 - binary_accuracy: 0.4889 - my_mse: 0.3324 - binary_crossentropy: 0.9151 - hinge: 0.9965 - val_loss: 0.9583 - val_accuracy: 0.0000e+00 - val_binary_accuracy: 0.4548 - val_my_mse: 0.3579 - val_binary_crossentropy: 0.9583 - val_hinge: 0.9806\n",
      "Epoch 4/1000\n",
      "76/76 [==============================] - 2s 33ms/step - loss: 0.8623 - accuracy: 0.0000e+00 - binary_accuracy: 0.4894 - my_mse: 0.3180 - binary_crossentropy: 0.8623 - hinge: 0.9966 - val_loss: 0.9095 - val_accuracy: 0.0000e+00 - val_binary_accuracy: 0.4548 - val_my_mse: 0.3415 - val_binary_crossentropy: 0.9095 - val_hinge: 0.9783\n",
      "Epoch 5/1000\n",
      "76/76 [==============================] - 2s 23ms/step - loss: 0.8365 - accuracy: 0.0000e+00 - binary_accuracy: 0.4910 - my_mse: 0.3078 - binary_crossentropy: 0.8365 - hinge: 0.9958 - val_loss: 0.8743 - val_accuracy: 0.0000e+00 - val_binary_accuracy: 0.4548 - val_my_mse: 0.3288 - val_binary_crossentropy: 0.8743 - val_hinge: 0.9764\n",
      "Epoch 6/1000\n",
      "76/76 [==============================] - 1s 7ms/step - loss: 0.8163 - accuracy: 0.0000e+00 - binary_accuracy: 0.4878 - my_mse: 0.3000 - binary_crossentropy: 0.8163 - hinge: 0.9950 - val_loss: 0.8490 - val_accuracy: 0.0000e+00 - val_binary_accuracy: 0.4548 - val_my_mse: 0.3191 - val_binary_crossentropy: 0.8490 - val_hinge: 0.9749\n",
      "Epoch 7/1000\n",
      "76/76 [==============================] - 0s 6ms/step - loss: 0.8064 - accuracy: 0.0000e+00 - binary_accuracy: 0.4870 - my_mse: 0.2964 - binary_crossentropy: 0.8064 - hinge: 0.9966 - val_loss: 0.8276 - val_accuracy: 0.0000e+00 - val_binary_accuracy: 0.4548 - val_my_mse: 0.3106 - val_binary_crossentropy: 0.8276 - val_hinge: 0.9735\n",
      "Epoch 8/1000\n",
      "76/76 [==============================] - 1s 10ms/step - loss: 0.7938 - accuracy: 0.0000e+00 - binary_accuracy: 0.4960 - my_mse: 0.2875 - binary_crossentropy: 0.7938 - hinge: 0.9916 - val_loss: 0.8119 - val_accuracy: 0.0000e+00 - val_binary_accuracy: 0.4524 - val_my_mse: 0.3042 - val_binary_crossentropy: 0.8119 - val_hinge: 0.9723\n",
      "Epoch 9/1000\n",
      "76/76 [==============================] - 1s 9ms/step - loss: 0.8068 - accuracy: 0.0000e+00 - binary_accuracy: 0.4841 - my_mse: 0.2866 - binary_crossentropy: 0.8068 - hinge: 0.9939 - val_loss: 0.7977 - val_accuracy: 0.0000e+00 - val_binary_accuracy: 0.4524 - val_my_mse: 0.2983 - val_binary_crossentropy: 0.7977 - val_hinge: 0.9711\n",
      "Epoch 10/1000\n",
      "76/76 [==============================] - 1s 8ms/step - loss: 0.8056 - accuracy: 0.0000e+00 - binary_accuracy: 0.4799 - my_mse: 0.2861 - binary_crossentropy: 0.8056 - hinge: 0.9958 - val_loss: 0.7901 - val_accuracy: 0.0000e+00 - val_binary_accuracy: 0.4524 - val_my_mse: 0.2950 - val_binary_crossentropy: 0.7901 - val_hinge: 0.9705\n",
      "Epoch 11/1000\n",
      "76/76 [==============================] - 0s 6ms/step - loss: 0.7661 - accuracy: 0.0000e+00 - binary_accuracy: 0.4928 - my_mse: 0.2794 - binary_crossentropy: 0.7661 - hinge: 0.9920 - val_loss: 0.7806 - val_accuracy: 0.0000e+00 - val_binary_accuracy: 0.4524 - val_my_mse: 0.2909 - val_binary_crossentropy: 0.7806 - val_hinge: 0.9696\n",
      "Epoch 12/1000\n",
      "76/76 [==============================] - 1s 9ms/step - loss: 0.7822 - accuracy: 0.0000e+00 - binary_accuracy: 0.4889 - my_mse: 0.2803 - binary_crossentropy: 0.7822 - hinge: 0.9949 - val_loss: 0.7715 - val_accuracy: 0.0000e+00 - val_binary_accuracy: 0.4500 - val_my_mse: 0.2869 - val_binary_crossentropy: 0.7715 - val_hinge: 0.9687\n",
      "Epoch 13/1000\n",
      "76/76 [==============================] - 1s 11ms/step - loss: 0.7676 - accuracy: 0.0000e+00 - binary_accuracy: 0.4913 - my_mse: 0.2771 - binary_crossentropy: 0.7676 - hinge: 0.9928 - val_loss: 0.7702 - val_accuracy: 0.0000e+00 - val_binary_accuracy: 0.4500 - val_my_mse: 0.2864 - val_binary_crossentropy: 0.7702 - val_hinge: 0.9685\n",
      "Epoch 14/1000\n",
      "76/76 [==============================] - 0s 6ms/step - loss: 0.7769 - accuracy: 0.0000e+00 - binary_accuracy: 0.4867 - my_mse: 0.2786 - binary_crossentropy: 0.7769 - hinge: 0.9950 - val_loss: 0.7656 - val_accuracy: 0.0000e+00 - val_binary_accuracy: 0.4524 - val_my_mse: 0.2843 - val_binary_crossentropy: 0.7656 - val_hinge: 0.9681\n",
      "Epoch 15/1000\n",
      "76/76 [==============================] - 1s 7ms/step - loss: 0.7678 - accuracy: 0.0000e+00 - binary_accuracy: 0.4852 - my_mse: 0.2764 - binary_crossentropy: 0.7678 - hinge: 0.9932 - val_loss: 0.7681 - val_accuracy: 0.0000e+00 - val_binary_accuracy: 0.4500 - val_my_mse: 0.2855 - val_binary_crossentropy: 0.7681 - val_hinge: 0.9683\n",
      "Epoch 16/1000\n",
      "76/76 [==============================] - 1s 7ms/step - loss: 0.7567 - accuracy: 0.0000e+00 - binary_accuracy: 0.4844 - my_mse: 0.2748 - binary_crossentropy: 0.7567 - hinge: 0.9930 - val_loss: 0.7614 - val_accuracy: 0.0000e+00 - val_binary_accuracy: 0.4524 - val_my_mse: 0.2825 - val_binary_crossentropy: 0.7614 - val_hinge: 0.9676\n",
      "Epoch 17/1000\n",
      "76/76 [==============================] - 1s 12ms/step - loss: 0.7663 - accuracy: 0.0000e+00 - binary_accuracy: 0.4820 - my_mse: 0.2751 - binary_crossentropy: 0.7663 - hinge: 0.9938 - val_loss: 0.7609 - val_accuracy: 0.0000e+00 - val_binary_accuracy: 0.4548 - val_my_mse: 0.2822 - val_binary_crossentropy: 0.7609 - val_hinge: 0.9676\n",
      "Epoch 18/1000\n",
      "76/76 [==============================] - 1s 9ms/step - loss: 0.7689 - accuracy: 0.0000e+00 - binary_accuracy: 0.5011 - my_mse: 0.2720 - binary_crossentropy: 0.7689 - hinge: 0.9908 - val_loss: 0.7578 - val_accuracy: 0.0000e+00 - val_binary_accuracy: 0.4548 - val_my_mse: 0.2808 - val_binary_crossentropy: 0.7578 - val_hinge: 0.9672\n",
      "Epoch 19/1000\n",
      "76/76 [==============================] - 1s 8ms/step - loss: 0.7453 - accuracy: 0.0000e+00 - binary_accuracy: 0.5021 - my_mse: 0.2692 - binary_crossentropy: 0.7453 - hinge: 0.9897 - val_loss: 0.7531 - val_accuracy: 0.0000e+00 - val_binary_accuracy: 0.4571 - val_my_mse: 0.2787 - val_binary_crossentropy: 0.7531 - val_hinge: 0.9666\n",
      "Epoch 20/1000\n",
      "76/76 [==============================] - 1s 7ms/step - loss: 0.7488 - accuracy: 0.0000e+00 - binary_accuracy: 0.4865 - my_mse: 0.2707 - binary_crossentropy: 0.7488 - hinge: 0.9924 - val_loss: 0.7489 - val_accuracy: 0.0000e+00 - val_binary_accuracy: 0.4619 - val_my_mse: 0.2768 - val_binary_crossentropy: 0.7489 - val_hinge: 0.9661\n",
      "Epoch 21/1000\n",
      "76/76 [==============================] - 1s 8ms/step - loss: 0.7554 - accuracy: 0.0000e+00 - binary_accuracy: 0.4966 - my_mse: 0.2682 - binary_crossentropy: 0.7554 - hinge: 0.9900 - val_loss: 0.7449 - val_accuracy: 0.0000e+00 - val_binary_accuracy: 0.4595 - val_my_mse: 0.2749 - val_binary_crossentropy: 0.7449 - val_hinge: 0.9656\n",
      "Epoch 22/1000\n",
      "76/76 [==============================] - 1s 11ms/step - loss: 0.7566 - accuracy: 0.0000e+00 - binary_accuracy: 0.4910 - my_mse: 0.2693 - binary_crossentropy: 0.7566 - hinge: 0.9917 - val_loss: 0.7412 - val_accuracy: 0.0000e+00 - val_binary_accuracy: 0.4619 - val_my_mse: 0.2732 - val_binary_crossentropy: 0.7412 - val_hinge: 0.9651\n",
      "Epoch 23/1000\n",
      "76/76 [==============================] - 1s 7ms/step - loss: 0.7648 - accuracy: 0.0000e+00 - binary_accuracy: 0.4907 - my_mse: 0.2693 - binary_crossentropy: 0.7648 - hinge: 0.9927 - val_loss: 0.7388 - val_accuracy: 0.0000e+00 - val_binary_accuracy: 0.4595 - val_my_mse: 0.2721 - val_binary_crossentropy: 0.7388 - val_hinge: 0.9648\n",
      "Epoch 24/1000\n",
      "76/76 [==============================] - 1s 9ms/step - loss: 0.7469 - accuracy: 0.0000e+00 - binary_accuracy: 0.4891 - my_mse: 0.2670 - binary_crossentropy: 0.7469 - hinge: 0.9911 - val_loss: 0.7362 - val_accuracy: 0.0000e+00 - val_binary_accuracy: 0.4548 - val_my_mse: 0.2709 - val_binary_crossentropy: 0.7362 - val_hinge: 0.9644\n"
     ]
    },
    {
     "name": "stdout",
     "output_type": "stream",
     "text": [
      "Epoch 25/1000\n",
      "76/76 [==============================] - 1s 7ms/step - loss: 0.7595 - accuracy: 0.0000e+00 - binary_accuracy: 0.4889 - my_mse: 0.2692 - binary_crossentropy: 0.7595 - hinge: 0.9932 - val_loss: 0.7355 - val_accuracy: 0.0000e+00 - val_binary_accuracy: 0.4548 - val_my_mse: 0.2706 - val_binary_crossentropy: 0.7355 - val_hinge: 0.9643\n",
      "Epoch 26/1000\n",
      "76/76 [==============================] - 1s 11ms/step - loss: 0.7541 - accuracy: 0.0000e+00 - binary_accuracy: 0.4897 - my_mse: 0.2672 - binary_crossentropy: 0.7541 - hinge: 0.9924 - val_loss: 0.7332 - val_accuracy: 0.0000e+00 - val_binary_accuracy: 0.4476 - val_my_mse: 0.2695 - val_binary_crossentropy: 0.7332 - val_hinge: 0.9640\n",
      "Epoch 27/1000\n",
      "76/76 [==============================] - 1s 7ms/step - loss: 0.7550 - accuracy: 0.0000e+00 - binary_accuracy: 0.4873 - my_mse: 0.2669 - binary_crossentropy: 0.7550 - hinge: 0.9921 - val_loss: 0.7309 - val_accuracy: 0.0000e+00 - val_binary_accuracy: 0.4476 - val_my_mse: 0.2684 - val_binary_crossentropy: 0.7309 - val_hinge: 0.9636\n",
      "Epoch 28/1000\n",
      "76/76 [==============================] - 1s 7ms/step - loss: 0.7690 - accuracy: 0.0000e+00 - binary_accuracy: 0.4915 - my_mse: 0.2668 - binary_crossentropy: 0.7690 - hinge: 0.9917 - val_loss: 0.7308 - val_accuracy: 0.0000e+00 - val_binary_accuracy: 0.4476 - val_my_mse: 0.2683 - val_binary_crossentropy: 0.7308 - val_hinge: 0.9636\n",
      "Epoch 29/1000\n",
      "76/76 [==============================] - 1s 9ms/step - loss: 0.7473 - accuracy: 0.0000e+00 - binary_accuracy: 0.4939 - my_mse: 0.2668 - binary_crossentropy: 0.7473 - hinge: 0.9925 - val_loss: 0.7294 - val_accuracy: 0.0000e+00 - val_binary_accuracy: 0.4452 - val_my_mse: 0.2677 - val_binary_crossentropy: 0.7294 - val_hinge: 0.9634\n",
      "Epoch 30/1000\n",
      "76/76 [==============================] - 1s 10ms/step - loss: 0.7408 - accuracy: 0.0000e+00 - binary_accuracy: 0.4910 - my_mse: 0.2653 - binary_crossentropy: 0.7408 - hinge: 0.9920 - val_loss: 0.7280 - val_accuracy: 0.0000e+00 - val_binary_accuracy: 0.4452 - val_my_mse: 0.2670 - val_binary_crossentropy: 0.7280 - val_hinge: 0.9631\n",
      "Epoch 31/1000\n",
      "76/76 [==============================] - 1s 12ms/step - loss: 0.7454 - accuracy: 0.0000e+00 - binary_accuracy: 0.4838 - my_mse: 0.2664 - binary_crossentropy: 0.7454 - hinge: 0.9931 - val_loss: 0.7265 - val_accuracy: 0.0000e+00 - val_binary_accuracy: 0.4476 - val_my_mse: 0.2663 - val_binary_crossentropy: 0.7265 - val_hinge: 0.9628\n",
      "Epoch 32/1000\n",
      "76/76 [==============================] - 0s 6ms/step - loss: 0.7373 - accuracy: 0.0000e+00 - binary_accuracy: 0.4915 - my_mse: 0.2641 - binary_crossentropy: 0.7373 - hinge: 0.9910 - val_loss: 0.7254 - val_accuracy: 0.0000e+00 - val_binary_accuracy: 0.4524 - val_my_mse: 0.2658 - val_binary_crossentropy: 0.7254 - val_hinge: 0.9627\n",
      "Epoch 33/1000\n",
      "76/76 [==============================] - 1s 7ms/step - loss: 0.7345 - accuracy: 0.0000e+00 - binary_accuracy: 0.4873 - my_mse: 0.2646 - binary_crossentropy: 0.7345 - hinge: 0.9923 - val_loss: 0.7240 - val_accuracy: 0.0000e+00 - val_binary_accuracy: 0.4595 - val_my_mse: 0.2651 - val_binary_crossentropy: 0.7240 - val_hinge: 0.9624\n",
      "Epoch 34/1000\n",
      "76/76 [==============================] - 0s 6ms/step - loss: 0.7323 - accuracy: 0.0000e+00 - binary_accuracy: 0.4958 - my_mse: 0.2628 - binary_crossentropy: 0.7323 - hinge: 0.9901 - val_loss: 0.7249 - val_accuracy: 0.0000e+00 - val_binary_accuracy: 0.4476 - val_my_mse: 0.2655 - val_binary_crossentropy: 0.7249 - val_hinge: 0.9626\n",
      "Epoch 35/1000\n",
      "76/76 [==============================] - 1s 11ms/step - loss: 0.7369 - accuracy: 0.0000e+00 - binary_accuracy: 0.4822 - my_mse: 0.2641 - binary_crossentropy: 0.7369 - hinge: 0.9911 - val_loss: 0.7235 - val_accuracy: 0.0000e+00 - val_binary_accuracy: 0.4548 - val_my_mse: 0.2649 - val_binary_crossentropy: 0.7235 - val_hinge: 0.9623\n",
      "Epoch 36/1000\n",
      "76/76 [==============================] - 1s 9ms/step - loss: 0.7450 - accuracy: 0.0000e+00 - binary_accuracy: 0.4907 - my_mse: 0.2628 - binary_crossentropy: 0.7450 - hinge: 0.9903 - val_loss: 0.7240 - val_accuracy: 0.0000e+00 - val_binary_accuracy: 0.4524 - val_my_mse: 0.2651 - val_binary_crossentropy: 0.7240 - val_hinge: 0.9625\n",
      "Epoch 37/1000\n",
      "76/76 [==============================] - 1s 9ms/step - loss: 0.7599 - accuracy: 0.0000e+00 - binary_accuracy: 0.4936 - my_mse: 0.2737 - binary_crossentropy: 0.7599 - hinge: 0.9917 - val_loss: 0.7900 - val_accuracy: 0.0000e+00 - val_binary_accuracy: 0.4548 - val_my_mse: 0.2954 - val_binary_crossentropy: 0.7900 - val_hinge: 0.9708\n",
      "Epoch 38/1000\n",
      "76/76 [==============================] - 1s 7ms/step - loss: 0.7590 - accuracy: 0.0000e+00 - binary_accuracy: 0.4902 - my_mse: 0.2803 - binary_crossentropy: 0.7590 - hinge: 0.9926 - val_loss: 0.7770 - val_accuracy: 0.0000e+00 - val_binary_accuracy: 0.4548 - val_my_mse: 0.2897 - val_binary_crossentropy: 0.7770 - val_hinge: 0.9696\n",
      "Epoch 39/1000\n",
      "76/76 [==============================] - 1s 7ms/step - loss: 0.7479 - accuracy: 0.0000e+00 - binary_accuracy: 0.4936 - my_mse: 0.2752 - binary_crossentropy: 0.7479 - hinge: 0.9906 - val_loss: 0.7668 - val_accuracy: 0.0000e+00 - val_binary_accuracy: 0.4548 - val_my_mse: 0.2851 - val_binary_crossentropy: 0.7668 - val_hinge: 0.9685\n",
      "Epoch 40/1000\n",
      "76/76 [==============================] - 1s 13ms/step - loss: 0.7467 - accuracy: 0.0000e+00 - binary_accuracy: 0.4920 - my_mse: 0.2735 - binary_crossentropy: 0.7467 - hinge: 0.9920 - val_loss: 0.7578 - val_accuracy: 0.0000e+00 - val_binary_accuracy: 0.4524 - val_my_mse: 0.2810 - val_binary_crossentropy: 0.7578 - val_hinge: 0.9675\n",
      "Epoch 41/1000\n",
      "76/76 [==============================] - 1s 8ms/step - loss: 0.7356 - accuracy: 0.0000e+00 - binary_accuracy: 0.4955 - my_mse: 0.2700 - binary_crossentropy: 0.7356 - hinge: 0.9908 - val_loss: 0.7504 - val_accuracy: 0.0000e+00 - val_binary_accuracy: 0.4548 - val_my_mse: 0.2776 - val_binary_crossentropy: 0.7504 - val_hinge: 0.9666\n",
      "Epoch 42/1000\n",
      "76/76 [==============================] - 1s 8ms/step - loss: 0.7343 - accuracy: 0.0000e+00 - binary_accuracy: 0.4910 - my_mse: 0.2693 - binary_crossentropy: 0.7343 - hinge: 0.9918 - val_loss: 0.7443 - val_accuracy: 0.0000e+00 - val_binary_accuracy: 0.4548 - val_my_mse: 0.2747 - val_binary_crossentropy: 0.7443 - val_hinge: 0.9658\n",
      "Epoch 43/1000\n",
      "76/76 [==============================] - 1s 8ms/step - loss: 0.7296 - accuracy: 0.0000e+00 - binary_accuracy: 0.4944 - my_mse: 0.2673 - binary_crossentropy: 0.7296 - hinge: 0.9915 - val_loss: 0.7386 - val_accuracy: 0.0000e+00 - val_binary_accuracy: 0.4548 - val_my_mse: 0.2721 - val_binary_crossentropy: 0.7386 - val_hinge: 0.9650\n",
      "Epoch 44/1000\n",
      "76/76 [==============================] - 1s 11ms/step - loss: 0.7286 - accuracy: 0.0000e+00 - binary_accuracy: 0.4862 - my_mse: 0.2653 - binary_crossentropy: 0.7286 - hinge: 0.9909 - val_loss: 0.7341 - val_accuracy: 0.0000e+00 - val_binary_accuracy: 0.4548 - val_my_mse: 0.2699 - val_binary_crossentropy: 0.7341 - val_hinge: 0.9643\n",
      "Epoch 45/1000\n",
      "76/76 [==============================] - 1s 10ms/step - loss: 0.7271 - accuracy: 0.0000e+00 - binary_accuracy: 0.4936 - my_mse: 0.2647 - binary_crossentropy: 0.7271 - hinge: 0.9910 - val_loss: 0.7299 - val_accuracy: 0.0000e+00 - val_binary_accuracy: 0.4571 - val_my_mse: 0.2680 - val_binary_crossentropy: 0.7299 - val_hinge: 0.9637\n",
      "Epoch 46/1000\n",
      "76/76 [==============================] - 1s 7ms/step - loss: 0.7293 - accuracy: 0.0000e+00 - binary_accuracy: 0.4833 - my_mse: 0.2650 - binary_crossentropy: 0.7293 - hinge: 0.9924 - val_loss: 0.7270 - val_accuracy: 0.0000e+00 - val_binary_accuracy: 0.4667 - val_my_mse: 0.2666 - val_binary_crossentropy: 0.7270 - val_hinge: 0.9632\n",
      "Epoch 47/1000\n",
      "76/76 [==============================] - 1s 7ms/step - loss: 0.9861 - accuracy: 0.0034 - binary_accuracy: 0.4910 - my_mse: 0.3196 - binary_crossentropy: 0.9861 - hinge: 0.9911 - val_loss: 1.2817 - val_accuracy: 0.0000e+00 - val_binary_accuracy: 0.4548 - val_my_mse: 0.4331 - val_binary_crossentropy: 1.2817 - val_hinge: 0.9908\n",
      "Epoch 48/1000\n",
      "76/76 [==============================] - 0s 6ms/step - loss: 1.0511 - accuracy: 7.9533e-04 - binary_accuracy: 0.4878 - my_mse: 0.3558 - binary_crossentropy: 1.0511 - hinge: 0.9993 - val_loss: 1.0977 - val_accuracy: 0.0000e+00 - val_binary_accuracy: 0.4548 - val_my_mse: 0.3956 - val_binary_crossentropy: 1.0977 - val_hinge: 0.9866\n"
     ]
    },
    {
     "name": "stdout",
     "output_type": "stream",
     "text": [
      "Epoch 49/1000\n",
      "76/76 [==============================] - 1s 13ms/step - loss: 0.9427 - accuracy: 0.0000e+00 - binary_accuracy: 0.4793 - my_mse: 0.3391 - binary_crossentropy: 0.9427 - hinge: 1.0009 - val_loss: 1.0452 - val_accuracy: 0.0000e+00 - val_binary_accuracy: 0.4548 - val_my_mse: 0.3826 - val_binary_crossentropy: 1.0452 - val_hinge: 0.9851\n",
      "Epoch 50/1000\n",
      "76/76 [==============================] - 1s 9ms/step - loss: 0.9274 - accuracy: 0.0000e+00 - binary_accuracy: 0.4833 - my_mse: 0.3270 - binary_crossentropy: 0.9274 - hinge: 0.9972 - val_loss: 0.9788 - val_accuracy: 0.0000e+00 - val_binary_accuracy: 0.4548 - val_my_mse: 0.3634 - val_binary_crossentropy: 0.9788 - val_hinge: 0.9826\n",
      "Epoch 51/1000\n",
      "76/76 [==============================] - 1s 7ms/step - loss: 0.9297 - accuracy: 0.0000e+00 - binary_accuracy: 0.4780 - my_mse: 0.3223 - binary_crossentropy: 0.9297 - hinge: 1.0003 - val_loss: 0.9390 - val_accuracy: 0.0000e+00 - val_binary_accuracy: 0.4524 - val_my_mse: 0.3508 - val_binary_crossentropy: 0.9390 - val_hinge: 0.9808\n",
      "Epoch 52/1000\n",
      "76/76 [==============================] - 1s 7ms/step - loss: 0.9080 - accuracy: 0.0000e+00 - binary_accuracy: 0.4852 - my_mse: 0.3134 - binary_crossentropy: 0.9080 - hinge: 0.9991 - val_loss: 0.9088 - val_accuracy: 0.0000e+00 - val_binary_accuracy: 0.4548 - val_my_mse: 0.3407 - val_binary_crossentropy: 0.9088 - val_hinge: 0.9793\n",
      "Epoch 53/1000\n",
      "76/76 [==============================] - 1s 12ms/step - loss: 0.9196 - accuracy: 0.0000e+00 - binary_accuracy: 0.4804 - my_mse: 0.3116 - binary_crossentropy: 0.9196 - hinge: 1.0004 - val_loss: 0.8888 - val_accuracy: 0.0000e+00 - val_binary_accuracy: 0.4524 - val_my_mse: 0.3337 - val_binary_crossentropy: 0.8888 - val_hinge: 0.9782\n",
      "Epoch 54/1000\n",
      "76/76 [==============================] - 1s 9ms/step - loss: 0.8700 - accuracy: 0.0000e+00 - binary_accuracy: 0.4862 - my_mse: 0.3034 - binary_crossentropy: 0.8700 - hinge: 0.9971 - val_loss: 0.8706 - val_accuracy: 0.0000e+00 - val_binary_accuracy: 0.4524 - val_my_mse: 0.3270 - val_binary_crossentropy: 0.8706 - val_hinge: 0.9771\n",
      "Epoch 55/1000\n",
      "76/76 [==============================] - 1s 8ms/step - loss: 0.8727 - accuracy: 0.0000e+00 - binary_accuracy: 0.4777 - my_mse: 0.3048 - binary_crossentropy: 0.8727 - hinge: 1.0010 - val_loss: 0.8708 - val_accuracy: 0.0000e+00 - val_binary_accuracy: 0.4548 - val_my_mse: 0.3273 - val_binary_crossentropy: 0.8708 - val_hinge: 0.9772\n",
      "Epoch 56/1000\n",
      "76/76 [==============================] - 1s 7ms/step - loss: 0.8959 - accuracy: 2.6511e-04 - binary_accuracy: 0.4775 - my_mse: 0.3032 - binary_crossentropy: 0.8959 - hinge: 0.9999 - val_loss: 0.8578 - val_accuracy: 0.0000e+00 - val_binary_accuracy: 0.4524 - val_my_mse: 0.3224 - val_binary_crossentropy: 0.8578 - val_hinge: 0.9763\n",
      "Epoch 57/1000\n",
      "76/76 [==============================] - 1s 8ms/step - loss: 0.8491 - accuracy: 0.0000e+00 - binary_accuracy: 0.4801 - my_mse: 0.2969 - binary_crossentropy: 0.8491 - hinge: 0.9973 - val_loss: 0.8450 - val_accuracy: 0.0000e+00 - val_binary_accuracy: 0.4524 - val_my_mse: 0.3175 - val_binary_crossentropy: 0.8450 - val_hinge: 0.9755\n",
      "Epoch 58/1000\n",
      "76/76 [==============================] - 1s 14ms/step - loss: 0.8598 - accuracy: 0.0000e+00 - binary_accuracy: 0.4854 - my_mse: 0.2935 - binary_crossentropy: 0.8598 - hinge: 0.9956 - val_loss: 0.8345 - val_accuracy: 0.0000e+00 - val_binary_accuracy: 0.4524 - val_my_mse: 0.3134 - val_binary_crossentropy: 0.8345 - val_hinge: 0.9747\n",
      "Epoch 59/1000\n",
      "76/76 [==============================] - 1s 8ms/step - loss: 0.8639 - accuracy: 0.0000e+00 - binary_accuracy: 0.4812 - my_mse: 0.2954 - binary_crossentropy: 0.8639 - hinge: 0.9980 - val_loss: 0.8326 - val_accuracy: 0.0000e+00 - val_binary_accuracy: 0.4524 - val_my_mse: 0.3126 - val_binary_crossentropy: 0.8326 - val_hinge: 0.9746\n",
      "Epoch 60/1000\n",
      "76/76 [==============================] - 1s 8ms/step - loss: 0.8407 - accuracy: 0.0000e+00 - binary_accuracy: 0.4825 - my_mse: 0.2926 - binary_crossentropy: 0.8407 - hinge: 0.9968 - val_loss: 0.8252 - val_accuracy: 0.0000e+00 - val_binary_accuracy: 0.4524 - val_my_mse: 0.3097 - val_binary_crossentropy: 0.8252 - val_hinge: 0.9741\n",
      "Epoch 61/1000\n",
      "76/76 [==============================] - 1s 8ms/step - loss: 0.8331 - accuracy: 0.0000e+00 - binary_accuracy: 0.4814 - my_mse: 0.2909 - binary_crossentropy: 0.8331 - hinge: 0.9961 - val_loss: 0.8201 - val_accuracy: 0.0000e+00 - val_binary_accuracy: 0.4524 - val_my_mse: 0.3077 - val_binary_crossentropy: 0.8201 - val_hinge: 0.9737\n",
      "Epoch 62/1000\n",
      "76/76 [==============================] - 1s 10ms/step - loss: 0.8523 - accuracy: 0.0000e+00 - binary_accuracy: 0.4809 - my_mse: 0.2917 - binary_crossentropy: 0.8523 - hinge: 0.9981 - val_loss: 0.8129 - val_accuracy: 0.0000e+00 - val_binary_accuracy: 0.4524 - val_my_mse: 0.3047 - val_binary_crossentropy: 0.8129 - val_hinge: 0.9731\n",
      "Epoch 63/1000\n",
      "76/76 [==============================] - 1s 11ms/step - loss: 0.8344 - accuracy: 0.0000e+00 - binary_accuracy: 0.4719 - my_mse: 0.2895 - binary_crossentropy: 0.8344 - hinge: 0.9973 - val_loss: 0.8095 - val_accuracy: 0.0000e+00 - val_binary_accuracy: 0.4524 - val_my_mse: 0.3034 - val_binary_crossentropy: 0.8095 - val_hinge: 0.9729\n",
      "Epoch 64/1000\n",
      "76/76 [==============================] - 1s 7ms/step - loss: 0.8406 - accuracy: 0.0000e+00 - binary_accuracy: 0.4968 - my_mse: 0.2844 - binary_crossentropy: 0.8406 - hinge: 0.9929 - val_loss: 0.8033 - val_accuracy: 0.0000e+00 - val_binary_accuracy: 0.4500 - val_my_mse: 0.3008 - val_binary_crossentropy: 0.8033 - val_hinge: 0.9723\n",
      "Epoch 65/1000\n",
      "76/76 [==============================] - 1s 7ms/step - loss: 0.8266 - accuracy: 0.0000e+00 - binary_accuracy: 0.4865 - my_mse: 0.2851 - binary_crossentropy: 0.8266 - hinge: 0.9948 - val_loss: 0.8015 - val_accuracy: 0.0000e+00 - val_binary_accuracy: 0.4500 - val_my_mse: 0.3000 - val_binary_crossentropy: 0.8015 - val_hinge: 0.9722\n",
      "Epoch 66/1000\n",
      "76/76 [==============================] - 1s 7ms/step - loss: 0.8350 - accuracy: 0.0000e+00 - binary_accuracy: 0.4844 - my_mse: 0.2865 - binary_crossentropy: 0.8350 - hinge: 0.9971 - val_loss: 0.7967 - val_accuracy: 0.0000e+00 - val_binary_accuracy: 0.4500 - val_my_mse: 0.2980 - val_binary_crossentropy: 0.7967 - val_hinge: 0.9718\n",
      "Epoch 67/1000\n",
      "76/76 [==============================] - 1s 11ms/step - loss: 0.8095 - accuracy: 0.0000e+00 - binary_accuracy: 0.4833 - my_mse: 0.2829 - binary_crossentropy: 0.8095 - hinge: 0.9951 - val_loss: 0.7920 - val_accuracy: 0.0000e+00 - val_binary_accuracy: 0.4500 - val_my_mse: 0.2960 - val_binary_crossentropy: 0.7920 - val_hinge: 0.9713\n",
      "Epoch 68/1000\n",
      "76/76 [==============================] - 1s 11ms/step - loss: 0.8068 - accuracy: 0.0000e+00 - binary_accuracy: 0.4788 - my_mse: 0.2810 - binary_crossentropy: 0.8068 - hinge: 0.9939 - val_loss: 0.7885 - val_accuracy: 0.0000e+00 - val_binary_accuracy: 0.4500 - val_my_mse: 0.2945 - val_binary_crossentropy: 0.7885 - val_hinge: 0.9710\n",
      "Epoch 69/1000\n",
      "76/76 [==============================] - 1s 10ms/step - loss: 0.8213 - accuracy: 0.0000e+00 - binary_accuracy: 0.4854 - my_mse: 0.2821 - binary_crossentropy: 0.8213 - hinge: 0.9951 - val_loss: 0.7854 - val_accuracy: 0.0000e+00 - val_binary_accuracy: 0.4500 - val_my_mse: 0.2931 - val_binary_crossentropy: 0.7854 - val_hinge: 0.9707\n",
      "Epoch 70/1000\n",
      "76/76 [==============================] - 1s 8ms/step - loss: 0.7933 - accuracy: 0.0000e+00 - binary_accuracy: 0.4931 - my_mse: 0.2788 - binary_crossentropy: 0.7933 - hinge: 0.9935 - val_loss: 0.7902 - val_accuracy: 0.0000e+00 - val_binary_accuracy: 0.4524 - val_my_mse: 0.2953 - val_binary_crossentropy: 0.7902 - val_hinge: 0.9712\n",
      "Epoch 71/1000\n",
      "76/76 [==============================] - 1s 7ms/step - loss: 0.8197 - accuracy: 0.0000e+00 - binary_accuracy: 0.4833 - my_mse: 0.2829 - binary_crossentropy: 0.8197 - hinge: 0.9952 - val_loss: 0.7876 - val_accuracy: 0.0000e+00 - val_binary_accuracy: 0.4500 - val_my_mse: 0.2942 - val_binary_crossentropy: 0.7876 - val_hinge: 0.9710\n",
      "Epoch 72/1000\n",
      "76/76 [==============================] - 1s 14ms/step - loss: 0.8121 - accuracy: 0.0000e+00 - binary_accuracy: 0.4841 - my_mse: 0.2799 - binary_crossentropy: 0.8121 - hinge: 0.9938 - val_loss: 0.7850 - val_accuracy: 0.0000e+00 - val_binary_accuracy: 0.4500 - val_my_mse: 0.2930 - val_binary_crossentropy: 0.7850 - val_hinge: 0.9708\n"
     ]
    },
    {
     "name": "stdout",
     "output_type": "stream",
     "text": [
      "Epoch 73/1000\n",
      "76/76 [==============================] - 1s 7ms/step - loss: 0.8028 - accuracy: 0.0000e+00 - binary_accuracy: 0.4801 - my_mse: 0.2826 - binary_crossentropy: 0.8028 - hinge: 0.9952 - val_loss: 0.8041 - val_accuracy: 0.0000e+00 - val_binary_accuracy: 0.4548 - val_my_mse: 0.3014 - val_binary_crossentropy: 0.8041 - val_hinge: 0.9725\n",
      "Epoch 74/1000\n",
      "76/76 [==============================] - 1s 7ms/step - loss: 0.7905 - accuracy: 0.0000e+00 - binary_accuracy: 0.4883 - my_mse: 0.2803 - binary_crossentropy: 0.7905 - hinge: 0.9936 - val_loss: 0.7984 - val_accuracy: 0.0000e+00 - val_binary_accuracy: 0.4548 - val_my_mse: 0.2990 - val_binary_crossentropy: 0.7984 - val_hinge: 0.9721\n",
      "Epoch 75/1000\n",
      "76/76 [==============================] - 1s 7ms/step - loss: 0.7878 - accuracy: 0.0000e+00 - binary_accuracy: 0.4836 - my_mse: 0.2807 - binary_crossentropy: 0.7878 - hinge: 0.9949 - val_loss: 0.7922 - val_accuracy: 0.0000e+00 - val_binary_accuracy: 0.4524 - val_my_mse: 0.2963 - val_binary_crossentropy: 0.7922 - val_hinge: 0.9715\n",
      "Epoch 76/1000\n",
      "76/76 [==============================] - 1s 14ms/step - loss: 0.7858 - accuracy: 0.0000e+00 - binary_accuracy: 0.4830 - my_mse: 0.2792 - binary_crossentropy: 0.7858 - hinge: 0.9942 - val_loss: 0.7862 - val_accuracy: 0.0000e+00 - val_binary_accuracy: 0.4524 - val_my_mse: 0.2937 - val_binary_crossentropy: 0.7862 - val_hinge: 0.9709\n",
      "Epoch 77/1000\n",
      "76/76 [==============================] - 1s 11ms/step - loss: 0.7708 - accuracy: 0.0000e+00 - binary_accuracy: 0.4825 - my_mse: 0.2768 - binary_crossentropy: 0.7708 - hinge: 0.9934 - val_loss: 0.7803 - val_accuracy: 0.0000e+00 - val_binary_accuracy: 0.4524 - val_my_mse: 0.2911 - val_binary_crossentropy: 0.7803 - val_hinge: 0.9704\n",
      "Epoch 78/1000\n",
      "76/76 [==============================] - 1s 7ms/step - loss: 0.7782 - accuracy: 0.0000e+00 - binary_accuracy: 0.4905 - my_mse: 0.2757 - binary_crossentropy: 0.7782 - hinge: 0.9937 - val_loss: 0.7764 - val_accuracy: 0.0000e+00 - val_binary_accuracy: 0.4524 - val_my_mse: 0.2894 - val_binary_crossentropy: 0.7764 - val_hinge: 0.9700\n",
      "Epoch 79/1000\n",
      "76/76 [==============================] - 1s 8ms/step - loss: 0.7745 - accuracy: 0.0000e+00 - binary_accuracy: 0.4910 - my_mse: 0.2755 - binary_crossentropy: 0.7745 - hinge: 0.9927 - val_loss: 0.7749 - val_accuracy: 0.0000e+00 - val_binary_accuracy: 0.4524 - val_my_mse: 0.2887 - val_binary_crossentropy: 0.7749 - val_hinge: 0.9698\n",
      "Epoch 80/1000\n",
      "76/76 [==============================] - 1s 7ms/step - loss: 0.7606 - accuracy: 0.0000e+00 - binary_accuracy: 0.4881 - my_mse: 0.2745 - binary_crossentropy: 0.7606 - hinge: 0.9931 - val_loss: 0.7721 - val_accuracy: 0.0000e+00 - val_binary_accuracy: 0.4548 - val_my_mse: 0.2875 - val_binary_crossentropy: 0.7721 - val_hinge: 0.9695\n",
      "Epoch 81/1000\n",
      "76/76 [==============================] - 1s 12ms/step - loss: 0.7814 - accuracy: 0.0000e+00 - binary_accuracy: 0.4878 - my_mse: 0.2752 - binary_crossentropy: 0.7814 - hinge: 0.9942 - val_loss: 0.7687 - val_accuracy: 0.0000e+00 - val_binary_accuracy: 0.4548 - val_my_mse: 0.2859 - val_binary_crossentropy: 0.7687 - val_hinge: 0.9691\n",
      "Epoch 82/1000\n",
      "76/76 [==============================] - 1s 9ms/step - loss: 0.7556 - accuracy: 0.0000e+00 - binary_accuracy: 0.4825 - my_mse: 0.2728 - binary_crossentropy: 0.7556 - hinge: 0.9934 - val_loss: 0.7646 - val_accuracy: 0.0000e+00 - val_binary_accuracy: 0.4548 - val_my_mse: 0.2841 - val_binary_crossentropy: 0.7646 - val_hinge: 0.9687\n",
      "Epoch 83/1000\n",
      "76/76 [==============================] - 1s 7ms/step - loss: 0.7684 - accuracy: 0.0000e+00 - binary_accuracy: 0.4854 - my_mse: 0.2716 - binary_crossentropy: 0.7684 - hinge: 0.9920 - val_loss: 0.7608 - val_accuracy: 0.0000e+00 - val_binary_accuracy: 0.4524 - val_my_mse: 0.2824 - val_binary_crossentropy: 0.7608 - val_hinge: 0.9683\n",
      "Epoch 84/1000\n",
      "76/76 [==============================] - 1s 7ms/step - loss: 0.7658 - accuracy: 0.0000e+00 - binary_accuracy: 0.4889 - my_mse: 0.2712 - binary_crossentropy: 0.7658 - hinge: 0.9918 - val_loss: 0.7590 - val_accuracy: 0.0000e+00 - val_binary_accuracy: 0.4524 - val_my_mse: 0.2816 - val_binary_crossentropy: 0.7590 - val_hinge: 0.9680\n",
      "Epoch 85/1000\n",
      "76/76 [==============================] - 1s 13ms/step - loss: 0.7541 - accuracy: 0.0000e+00 - binary_accuracy: 0.4833 - my_mse: 0.2706 - binary_crossentropy: 0.7541 - hinge: 0.9927 - val_loss: 0.7564 - val_accuracy: 0.0000e+00 - val_binary_accuracy: 0.4548 - val_my_mse: 0.2804 - val_binary_crossentropy: 0.7564 - val_hinge: 0.9677\n",
      "Epoch 86/1000\n",
      "76/76 [==============================] - 1s 11ms/step - loss: 0.7709 - accuracy: 0.0000e+00 - binary_accuracy: 0.4852 - my_mse: 0.2706 - binary_crossentropy: 0.7709 - hinge: 0.9926 - val_loss: 0.7541 - val_accuracy: 0.0000e+00 - val_binary_accuracy: 0.4524 - val_my_mse: 0.2793 - val_binary_crossentropy: 0.7541 - val_hinge: 0.9674\n",
      "Epoch 87/1000\n",
      "76/76 [==============================] - 1s 8ms/step - loss: 0.7746 - accuracy: 0.0000e+00 - binary_accuracy: 0.4915 - my_mse: 0.2734 - binary_crossentropy: 0.7746 - hinge: 0.9956 - val_loss: 0.7530 - val_accuracy: 0.0000e+00 - val_binary_accuracy: 0.4524 - val_my_mse: 0.2788 - val_binary_crossentropy: 0.7530 - val_hinge: 0.9673\n",
      "Epoch 88/1000\n",
      "76/76 [==============================] - 1s 7ms/step - loss: 0.7704 - accuracy: 0.0000e+00 - binary_accuracy: 0.4791 - my_mse: 0.2722 - binary_crossentropy: 0.7704 - hinge: 0.9949 - val_loss: 0.7539 - val_accuracy: 0.0000e+00 - val_binary_accuracy: 0.4524 - val_my_mse: 0.2792 - val_binary_crossentropy: 0.7539 - val_hinge: 0.9674\n",
      "Epoch 89/1000\n",
      "76/76 [==============================] - 1s 8ms/step - loss: 0.7551 - accuracy: 0.0000e+00 - binary_accuracy: 0.4955 - my_mse: 0.2678 - binary_crossentropy: 0.7551 - hinge: 0.9907 - val_loss: 0.7522 - val_accuracy: 0.0000e+00 - val_binary_accuracy: 0.4524 - val_my_mse: 0.2784 - val_binary_crossentropy: 0.7522 - val_hinge: 0.9672\n",
      "Epoch 90/1000\n",
      "76/76 [==============================] - 1s 15ms/step - loss: 0.7602 - accuracy: 0.0000e+00 - binary_accuracy: 0.4822 - my_mse: 0.2687 - binary_crossentropy: 0.7602 - hinge: 0.9922 - val_loss: 0.7501 - val_accuracy: 0.0000e+00 - val_binary_accuracy: 0.4548 - val_my_mse: 0.2775 - val_binary_crossentropy: 0.7501 - val_hinge: 0.9669\n",
      "Epoch 91/1000\n",
      "76/76 [==============================] - 1s 7ms/step - loss: 0.7477 - accuracy: 0.0000e+00 - binary_accuracy: 0.4952 - my_mse: 0.2688 - binary_crossentropy: 0.7477 - hinge: 0.9923 - val_loss: 0.7499 - val_accuracy: 0.0000e+00 - val_binary_accuracy: 0.4524 - val_my_mse: 0.2774 - val_binary_crossentropy: 0.7499 - val_hinge: 0.9669\n",
      "Epoch 92/1000\n",
      "76/76 [==============================] - 1s 7ms/step - loss: 0.7602 - accuracy: 0.0000e+00 - binary_accuracy: 0.4852 - my_mse: 0.2700 - binary_crossentropy: 0.7602 - hinge: 0.9934 - val_loss: 0.7485 - val_accuracy: 0.0000e+00 - val_binary_accuracy: 0.4524 - val_my_mse: 0.2767 - val_binary_crossentropy: 0.7485 - val_hinge: 0.9667\n",
      "Epoch 93/1000\n",
      "76/76 [==============================] - 1s 8ms/step - loss: 0.7427 - accuracy: 0.0000e+00 - binary_accuracy: 0.4928 - my_mse: 0.2688 - binary_crossentropy: 0.7427 - hinge: 0.9927 - val_loss: 0.7483 - val_accuracy: 0.0000e+00 - val_binary_accuracy: 0.4524 - val_my_mse: 0.2767 - val_binary_crossentropy: 0.7483 - val_hinge: 0.9667\n",
      "Epoch 94/1000\n",
      "76/76 [==============================] - 1s 13ms/step - loss: 0.7507 - accuracy: 0.0000e+00 - binary_accuracy: 0.4857 - my_mse: 0.2687 - binary_crossentropy: 0.7507 - hinge: 0.9930 - val_loss: 0.7475 - val_accuracy: 0.0000e+00 - val_binary_accuracy: 0.4524 - val_my_mse: 0.2763 - val_binary_crossentropy: 0.7475 - val_hinge: 0.9666\n",
      "Epoch 95/1000\n",
      "76/76 [==============================] - 1s 8ms/step - loss: 0.7428 - accuracy: 0.0000e+00 - binary_accuracy: 0.4783 - my_mse: 0.2683 - binary_crossentropy: 0.7428 - hinge: 0.9928 - val_loss: 0.7458 - val_accuracy: 0.0000e+00 - val_binary_accuracy: 0.4500 - val_my_mse: 0.2755 - val_binary_crossentropy: 0.7458 - val_hinge: 0.9663\n",
      "Epoch 96/1000\n",
      "76/76 [==============================] - 1s 9ms/step - loss: 0.7670 - accuracy: 0.0000e+00 - binary_accuracy: 0.4936 - my_mse: 0.2677 - binary_crossentropy: 0.7670 - hinge: 0.9923 - val_loss: 0.7452 - val_accuracy: 0.0000e+00 - val_binary_accuracy: 0.4500 - val_my_mse: 0.2752 - val_binary_crossentropy: 0.7452 - val_hinge: 0.9662\n"
     ]
    },
    {
     "data": {
      "text/plain": [
       "<keras.callbacks.History at 0x211142cd5b0>"
      ]
     },
     "execution_count": 11,
     "metadata": {},
     "output_type": "execute_result"
    }
   ],
   "source": [
    "classifier = Sequential()\n",
    "classifier.add(Dense(256,  activation = 'relu'))\n",
    "classifier.add(Dropout(0.4))\n",
    "classifier.add(Dense(128,  activation = 'relu'))\n",
    "classifier.add(Dropout(0.4))\n",
    "classifier.add(Dense(64,  activation = 'relu'))\n",
    "classifier.add(Dense(32,  activation = 'relu'))\n",
    "classifier.add(Dense(16,  activation = 'relu'))\n",
    "classifier.add(Dense(8,  activation = 'relu'))\n",
    "# Adding the output layer\n",
    "classifier.add(Dense(1,  activation = 'relu'))\n",
    "\n",
    "# Compiling the ANN\n",
    "classifier.compile(optimizer = opt, loss = \"binary_crossentropy\", metrics = metrics)\n",
    "\n",
    "# Fitting the ANN to the Training set\n",
    "classifier.fit(X_train, y_train, batch_size = 50, epochs = 1000, validation_split = 0.10, callbacks = [esm],shuffle=False)"
   ]
  },
  {
   "cell_type": "code",
   "execution_count": 12,
   "metadata": {
    "scrolled": true
   },
   "outputs": [
    {
     "data": {
      "image/png": "[encoded data removed]",
      "text/plain": [
       "<Figure size 432x288 with 1 Axes>"
      ]
     },
     "metadata": {
      "needs_background": "light"
     },
     "output_type": "display_data"
    }
   ],
   "source": [
    "# Visualize the training and validation loss\n",
    "plt.plot(classifier.history.history[\"loss\"], label='train')\n",
    "plt.plot(classifier.history.history['val_loss'], label='validation')\n",
    "plt.legend()\n",
    "#x1,y1 =plt.axis()\n",
    "#plt.axis([0,0])\n",
    "#plt.ylim([0.5, 0.7])\n",
    "plt.title('Training/Validation Loss');\n",
    "# Evaluate the model >> model.metrics_names\n",
    "#print(f'{model.metrics_names}: {model.evaluate(Bitcoin_train, y_train , verbose=1)}')\n",
    "plt.show()"
   ]
  },
  {
   "cell_type": "markdown",
   "metadata": {},
   "source": [
    "# Save Accuracies"
   ]
  },
  {
   "cell_type": "code",
   "execution_count": 13,
   "metadata": {},
   "outputs": [],
   "source": [
    "y_prob = classifier.predict(X_test)\n",
    "y_pred = list(map(lambda x: 0 if x<0.5 else 1, y_prob))"
   ]
  },
  {
   "cell_type": "code",
   "execution_count": 14,
   "metadata": {},
   "outputs": [
    {
     "name": "stdout",
     "output_type": "stream",
     "text": [
      "0.4690181124880839\n"
     ]
    }
   ],
   "source": [
    "# Computing Accuracy, Precision and Recall\n",
    "accuracy = accuracy_score(y_test, y_pred)\n",
    "print(accuracy)"
   ]
  },
  {
   "cell_type": "code",
   "execution_count": 15,
   "metadata": {},
   "outputs": [],
   "source": [
    "df_prediction = pd.read_csv(\"../data/model_accuracy_oil.csv\", index_col = False)\n",
    "df_prediction =  df_prediction.drop(columns=[\"Unnamed: 0\"])\n"
   ]
  },
  {
   "cell_type": "code",
   "execution_count": 16,
   "metadata": {},
   "outputs": [],
   "source": [
    "df_prediction[\"ANN_pred\"] = y_pred\n",
    "df_prediction[\"ANN_accuracy\"] = [accuracy for x in range(len(y_pred))]\n",
    "df_prediction[\"ANN_prob\"] = y_prob"
   ]
  },
  {
   "cell_type": "code",
   "execution_count": 17,
   "metadata": {},
   "outputs": [
    {
     "data": {
      "text/html": [
       "<div>\n",
       "<style scoped>\n",
       "    .dataframe tbody tr th:only-of-type {\n",
       "        vertical-align: middle;\n",
       "    }\n",
       "\n",
       "    .dataframe tbody tr th {\n",
       "        vertical-align: top;\n",
       "    }\n",
       "\n",
       "    .dataframe thead th {\n",
       "        text-align: right;\n",
       "    }\n",
       "</style>\n",
       "<table border=\"1\" class=\"dataframe\">\n",
       "  <thead>\n",
       "    <tr style=\"text-align: right;\">\n",
       "      <th></th>\n",
       "      <th>ANN_pred</th>\n",
       "      <th>ANN_accuracy</th>\n",
       "      <th>ANN_prob</th>\n",
       "    </tr>\n",
       "  </thead>\n",
       "  <tbody>\n",
       "    <tr>\n",
       "      <th>0</th>\n",
       "      <td>0</td>\n",
       "      <td>0.469018</td>\n",
       "      <td>0.404047</td>\n",
       "    </tr>\n",
       "    <tr>\n",
       "      <th>1</th>\n",
       "      <td>0</td>\n",
       "      <td>0.469018</td>\n",
       "      <td>0.342436</td>\n",
       "    </tr>\n",
       "    <tr>\n",
       "      <th>2</th>\n",
       "      <td>0</td>\n",
       "      <td>0.469018</td>\n",
       "      <td>0.339922</td>\n",
       "    </tr>\n",
       "    <tr>\n",
       "      <th>3</th>\n",
       "      <td>0</td>\n",
       "      <td>0.469018</td>\n",
       "      <td>0.404326</td>\n",
       "    </tr>\n",
       "    <tr>\n",
       "      <th>4</th>\n",
       "      <td>0</td>\n",
       "      <td>0.469018</td>\n",
       "      <td>0.361674</td>\n",
       "    </tr>\n",
       "    <tr>\n",
       "      <th>...</th>\n",
       "      <td>...</td>\n",
       "      <td>...</td>\n",
       "      <td>...</td>\n",
       "    </tr>\n",
       "    <tr>\n",
       "      <th>1044</th>\n",
       "      <td>0</td>\n",
       "      <td>0.469018</td>\n",
       "      <td>0.448135</td>\n",
       "    </tr>\n",
       "    <tr>\n",
       "      <th>1045</th>\n",
       "      <td>0</td>\n",
       "      <td>0.469018</td>\n",
       "      <td>0.448477</td>\n",
       "    </tr>\n",
       "    <tr>\n",
       "      <th>1046</th>\n",
       "      <td>0</td>\n",
       "      <td>0.469018</td>\n",
       "      <td>0.438599</td>\n",
       "    </tr>\n",
       "    <tr>\n",
       "      <th>1047</th>\n",
       "      <td>0</td>\n",
       "      <td>0.469018</td>\n",
       "      <td>0.417918</td>\n",
       "    </tr>\n",
       "    <tr>\n",
       "      <th>1048</th>\n",
       "      <td>0</td>\n",
       "      <td>0.469018</td>\n",
       "      <td>0.420406</td>\n",
       "    </tr>\n",
       "  </tbody>\n",
       "</table>\n",
       "<p>1049 rows × 3 columns</p>\n",
       "</div>"
      ],
      "text/plain": [
       "      ANN_pred  ANN_accuracy  ANN_prob\n",
       "0            0      0.469018  0.404047\n",
       "1            0      0.469018  0.342436\n",
       "2            0      0.469018  0.339922\n",
       "3            0      0.469018  0.404326\n",
       "4            0      0.469018  0.361674\n",
       "...        ...           ...       ...\n",
       "1044         0      0.469018  0.448135\n",
       "1045         0      0.469018  0.448477\n",
       "1046         0      0.469018  0.438599\n",
       "1047         0      0.469018  0.417918\n",
       "1048         0      0.469018  0.420406\n",
       "\n",
       "[1049 rows x 3 columns]"
      ]
     },
     "execution_count": 17,
     "metadata": {},
     "output_type": "execute_result"
    }
   ],
   "source": [
    "df_prediction"
   ]
  },
  {
   "cell_type": "code",
   "execution_count": 18,
   "metadata": {},
   "outputs": [],
   "source": [
    "df_prediction.to_csv(\"../data/model_accuracy_oil.csv\")"
   ]
  },
  {
   "cell_type": "code",
   "execution_count": null,
   "metadata": {},
   "outputs": [],
   "source": []
  }
 ],
 "metadata": {
  "kernelspec": {
   "display_name": "Python 3 (ipykernel)",
   "language": "python",
   "name": "python3"
  },
  "language_info": {
   "codemirror_mode": {
    "name": "ipython",
    "version": 3
   },
   "file_extension": ".py",
   "mimetype": "text/x-python",
   "name": "python",
   "nbconvert_exporter": "python",
   "pygments_lexer": "ipython3",
   "version": "3.9.12"
  }
 },
 "nbformat": 4,
 "nbformat_minor": 2
}
