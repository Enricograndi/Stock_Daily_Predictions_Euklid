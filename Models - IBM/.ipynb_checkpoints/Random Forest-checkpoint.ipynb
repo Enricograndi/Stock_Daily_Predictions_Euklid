{
 "cells": [
  {
   "cell_type": "code",
   "execution_count": 1,
   "metadata": {
    "scrolled": true
   },
   "outputs": [],
   "source": [
    "# General libraries\n",
    "import pandas as pd\n",
    "import numpy as np\n",
    "from sklearn.model_selection import GridSearchCV\n",
    "# Machine Learning Libraries\n",
    "from sklearn.model_selection import train_test_split\n",
    "from sklearn.metrics import accuracy_score\n",
    "# Import Random Forest Classifier\n",
    "from sklearn.ensemble import RandomForestClassifier"
   ]
  },
  {
   "cell_type": "markdown",
   "metadata": {},
   "source": [
    "## Preliminary work on the dataset"
   ]
  },
  {
   "cell_type": "code",
   "execution_count": 2,
   "metadata": {
    "scrolled": true
   },
   "outputs": [],
   "source": [
    "yahoo_df = pd.read_csv(\"../data/IBM.csv\")\n",
    "yahoo_df = yahoo_df.set_index(\"Date\")\n",
    "\n",
    "X = yahoo_df[['ROC_4', 'ROC_5', 'ROC_6', '4 Day ROI', '6 Day ROI', '30 Day ROI',\n",
    "       'RSI_3', 'RSI_4', 'CCI']]\n",
    "y = yahoo_df[\"Up down\"]\n",
    "\n",
    "# Split in 80/20 the dataframeX\n",
    "X_train_80, X_test, y_train_80, y_test = train_test_split(X, y, test_size = 0.20,\n",
    "                                                          shuffle=False)\n",
    "\n",
    "# Split in 75/25 the remaining 80 %\n",
    "X_train, X_valid, y_train, y_valid = train_test_split(X_train_80, y_train_80,\n",
    "                                                      test_size = 0.25, shuffle=False)\n"
   ]
  },
  {
   "cell_type": "markdown",
   "metadata": {},
   "source": [
    "# Normalize"
   ]
  },
  {
   "cell_type": "code",
   "execution_count": 3,
   "metadata": {},
   "outputs": [],
   "source": [
    "def shift_norm(df):\n",
    "    #df = data\n",
    "    for column in df:\n",
    "        df[column]=((df[column]-df[column].mean())/df[column].std())\n",
    "    return df"
   ]
  },
  {
   "cell_type": "code",
   "execution_count": 4,
   "metadata": {},
   "outputs": [],
   "source": [
    "X_train_80 = shift_norm(X_train_80)\n",
    "X_test = shift_norm(X_test)"
   ]
  },
  {
   "cell_type": "code",
   "execution_count": 5,
   "metadata": {},
   "outputs": [],
   "source": [
    "X_train = shift_norm(X_train)\n",
    "X_valid = shift_norm(X_valid)"
   ]
  },
  {
   "cell_type": "markdown",
   "metadata": {},
   "source": [
    "# Random Forest"
   ]
  },
  {
   "cell_type": "code",
   "execution_count": 6,
   "metadata": {
    "scrolled": true
   },
   "outputs": [
    {
     "name": "stdout",
     "output_type": "stream",
     "text": [
      "Train Accuracy: 1.00000 - Validation Accuracy: 0.51169\n"
     ]
    }
   ],
   "source": [
    "# Fit the model\n",
    "rfc = RandomForestClassifier(random_state = 42)\n",
    "rfc.fit(X_train,y_train) \n",
    "\n",
    "# Predict\n",
    "y_pred_train = rfc.predict(X_train)\n",
    "y_pred_valid = rfc.predict(X_valid)\n",
    "\n",
    "# Compute Accuracy\n",
    "train_acc = accuracy_score(y_train, y_pred_train)\n",
    "valid_acc = accuracy_score(y_valid, y_pred_valid)\n",
    "print(\"Train Accuracy: {:.5f} - Validation Accuracy: {:.5f}\".format(train_acc, valid_acc))"
   ]
  },
  {
   "cell_type": "markdown",
   "metadata": {},
   "source": [
    "### Tuning parameters (VERY SLOW!)"
   ]
  },
  {
   "cell_type": "markdown",
   "metadata": {},
   "source": [
    "RFC = RandomForestClassifier()\n",
    "\n",
    "parameters = {  'max_depth': [10, 50, 70, 100, None],\n",
    "                'max_features': ['auto', 'sqrt'],\n",
    "                'min_samples_leaf': [1, 2, 4],\n",
    "                'min_samples_split': [2, 5, 10],\n",
    "                'n_estimators': [100, 500, 1000, 2000]       \n",
    "             }\n",
    "\n",
    "best_RGB = GridSearchCV(cv=2,estimator=RFC, \n",
    "                   param_grid=parameters)\n",
    "\n",
    "best_RGB.fit(X_train, y_train)"
   ]
  },
  {
   "cell_type": "markdown",
   "metadata": {},
   "source": [
    "print(best_RGB.best_estimator_)"
   ]
  },
  {
   "cell_type": "code",
   "execution_count": 7,
   "metadata": {},
   "outputs": [
    {
     "name": "stderr",
     "output_type": "stream",
     "text": [
      "C:\\Users\\enric\\anaconda3\\envs\\data_science\\lib\\site-packages\\sklearn\\ensemble\\_forest.py:427: FutureWarning: `max_features='auto'` has been deprecated in 1.1 and will be removed in 1.3. To keep the past behaviour, explicitly set `max_features='sqrt'` or remove this parameter as it is also the default value for RandomForestClassifiers and ExtraTreesClassifiers.\n",
      "  warn(\n"
     ]
    },
    {
     "data": {
      "text/html": [
       "<style>#sk-container-id-1 {color: black;background-color: white;}#sk-container-id-1 pre{padding: 0;}#sk-container-id-1 div.sk-toggleable {background-color: white;}#sk-container-id-1 label.sk-toggleable__label {cursor: pointer;display: block;width: 100%;margin-bottom: 0;padding: 0.3em;box-sizing: border-box;text-align: center;}#sk-container-id-1 label.sk-toggleable__label-arrow:before {content: \"▸\";float: left;margin-right: 0.25em;color: #696969;}#sk-container-id-1 label.sk-toggleable__label-arrow:hover:before {color: black;}#sk-container-id-1 div.sk-estimator:hover label.sk-toggleable__label-arrow:before {color: black;}#sk-container-id-1 div.sk-toggleable__content {max-height: 0;max-width: 0;overflow: hidden;text-align: left;background-color: #f0f8ff;}#sk-container-id-1 div.sk-toggleable__content pre {margin: 0.2em;color: black;border-radius: 0.25em;background-color: #f0f8ff;}#sk-container-id-1 input.sk-toggleable__control:checked~div.sk-toggleable__content {max-height: 200px;max-width: 100%;overflow: auto;}#sk-container-id-1 input.sk-toggleable__control:checked~label.sk-toggleable__label-arrow:before {content: \"▾\";}#sk-container-id-1 div.sk-estimator input.sk-toggleable__control:checked~label.sk-toggleable__label {background-color: #d4ebff;}#sk-container-id-1 div.sk-label input.sk-toggleable__control:checked~label.sk-toggleable__label {background-color: #d4ebff;}#sk-container-id-1 input.sk-hidden--visually {border: 0;clip: rect(1px 1px 1px 1px);clip: rect(1px, 1px, 1px, 1px);height: 1px;margin: -1px;overflow: hidden;padding: 0;position: absolute;width: 1px;}#sk-container-id-1 div.sk-estimator {font-family: monospace;background-color: #f0f8ff;border: 1px dotted black;border-radius: 0.25em;box-sizing: border-box;margin-bottom: 0.5em;}#sk-container-id-1 div.sk-estimator:hover {background-color: #d4ebff;}#sk-container-id-1 div.sk-parallel-item::after {content: \"\";width: 100%;border-bottom: 1px solid gray;flex-grow: 1;}#sk-container-id-1 div.sk-label:hover label.sk-toggleable__label {background-color: #d4ebff;}#sk-container-id-1 div.sk-serial::before {content: \"\";position: absolute;border-left: 1px solid gray;box-sizing: border-box;top: 0;bottom: 0;left: 50%;z-index: 0;}#sk-container-id-1 div.sk-serial {display: flex;flex-direction: column;align-items: center;background-color: white;padding-right: 0.2em;padding-left: 0.2em;position: relative;}#sk-container-id-1 div.sk-item {position: relative;z-index: 1;}#sk-container-id-1 div.sk-parallel {display: flex;align-items: stretch;justify-content: center;background-color: white;position: relative;}#sk-container-id-1 div.sk-item::before, #sk-container-id-1 div.sk-parallel-item::before {content: \"\";position: absolute;border-left: 1px solid gray;box-sizing: border-box;top: 0;bottom: 0;left: 50%;z-index: -1;}#sk-container-id-1 div.sk-parallel-item {display: flex;flex-direction: column;z-index: 1;position: relative;background-color: white;}#sk-container-id-1 div.sk-parallel-item:first-child::after {align-self: flex-end;width: 50%;}#sk-container-id-1 div.sk-parallel-item:last-child::after {align-self: flex-start;width: 50%;}#sk-container-id-1 div.sk-parallel-item:only-child::after {width: 0;}#sk-container-id-1 div.sk-dashed-wrapped {border: 1px dashed gray;margin: 0 0.4em 0.5em 0.4em;box-sizing: border-box;padding-bottom: 0.4em;background-color: white;}#sk-container-id-1 div.sk-label label {font-family: monospace;font-weight: bold;display: inline-block;line-height: 1.2em;}#sk-container-id-1 div.sk-label-container {text-align: center;}#sk-container-id-1 div.sk-container {/* jupyter's `normalize.less` sets `[hidden] { display: none; }` but bootstrap.min.css set `[hidden] { display: none !important; }` so we also need the `!important` here to be able to override the default hidden behavior on the sphinx rendered scikit-learn.org. See: https://github.com/scikit-learn/scikit-learn/issues/21755 */display: inline-block !important;position: relative;}#sk-container-id-1 div.sk-text-repr-fallback {display: none;}</style><div id=\"sk-container-id-1\" class=\"sk-top-container\"><div class=\"sk-text-repr-fallback\"><pre>RandomForestClassifier(max_depth=100, max_features=&#x27;auto&#x27;, min_samples_leaf=4,\n",
       "                       min_samples_split=10)</pre><b>In a Jupyter environment, please rerun this cell to show the HTML representation or trust the notebook. <br />On GitHub, the HTML representation is unable to render, please try loading this page with nbviewer.org.</b></div><div class=\"sk-container\" hidden><div class=\"sk-item\"><div class=\"sk-estimator sk-toggleable\"><input class=\"sk-toggleable__control sk-hidden--visually\" id=\"sk-estimator-id-1\" type=\"checkbox\" checked><label for=\"sk-estimator-id-1\" class=\"sk-toggleable__label sk-toggleable__label-arrow\">RandomForestClassifier</label><div class=\"sk-toggleable__content\"><pre>RandomForestClassifier(max_depth=100, max_features=&#x27;auto&#x27;, min_samples_leaf=4,\n",
       "                       min_samples_split=10)</pre></div></div></div></div></div>"
      ],
      "text/plain": [
       "RandomForestClassifier(max_depth=100, max_features='auto', min_samples_leaf=4,\n",
       "                       min_samples_split=10)"
      ]
     },
     "execution_count": 7,
     "metadata": {},
     "output_type": "execute_result"
    }
   ],
   "source": [
    "# Fit\n",
    "rfc = RandomForestClassifier(max_depth=100, max_features='auto', min_samples_leaf=4,\n",
    "                       min_samples_split=10)\n",
    "\n",
    "rfc.fit(X_train_80,y_train_80)"
   ]
  },
  {
   "cell_type": "code",
   "execution_count": 8,
   "metadata": {
    "scrolled": true
   },
   "outputs": [
    {
     "name": "stdout",
     "output_type": "stream",
     "text": [
      "Test Accuracy: 0.52523\n"
     ]
    }
   ],
   "source": [
    "# Predict\n",
    "y_pred_test = rfc.predict(X_test)\n",
    "y_prob = rfc.predict_proba(X_test)[:,1]\n",
    "# Compute accuracy\n",
    "test_acc = accuracy_score(y_test, y_pred_test)\n",
    "print (\"Test Accuracy: {:.5f}\".format(test_acc) )"
   ]
  },
  {
   "cell_type": "markdown",
   "metadata": {},
   "source": [
    "# Save accuracies"
   ]
  },
  {
   "cell_type": "code",
   "execution_count": 11,
   "metadata": {},
   "outputs": [
    {
     "name": "stdout",
     "output_type": "stream",
     "text": [
      "Test Accuracy: 0.52523\n"
     ]
    }
   ],
   "source": [
    "\n",
    "y_pred_test = rfc.predict(X_test)\n",
    "y_prob = rfc.predict_proba(X_test)[:,1]\n",
    "# Compute accuracy\n",
    "test_acc = accuracy_score(y_test, y_pred_test)\n",
    "print (\"Test Accuracy: {:.5f}\".format(test_acc) )"
   ]
  },
  {
   "cell_type": "code",
   "execution_count": 12,
   "metadata": {},
   "outputs": [],
   "source": [
    "df_prediction = pd.read_csv(\"../data/model_accuracy_IBM.csv\", index_col = False)\n",
    "df_prediction =  df_prediction.drop(columns=[\"Unnamed: 0\"])\n",
    "\n"
   ]
  },
  {
   "cell_type": "code",
   "execution_count": 13,
   "metadata": {},
   "outputs": [
    {
     "data": {
      "text/html": [
       "<div>\n",
       "<style scoped>\n",
       "    .dataframe tbody tr th:only-of-type {\n",
       "        vertical-align: middle;\n",
       "    }\n",
       "\n",
       "    .dataframe tbody tr th {\n",
       "        vertical-align: top;\n",
       "    }\n",
       "\n",
       "    .dataframe thead th {\n",
       "        text-align: right;\n",
       "    }\n",
       "</style>\n",
       "<table border=\"1\" class=\"dataframe\">\n",
       "  <thead>\n",
       "    <tr style=\"text-align: right;\">\n",
       "      <th></th>\n",
       "      <th>LogReg_pred</th>\n",
       "      <th>LogReg_accuracy</th>\n",
       "      <th>LogReg_prob</th>\n",
       "      <th>LGBM_pred</th>\n",
       "      <th>LGBM_accuracy</th>\n",
       "      <th>LGBM_prob</th>\n",
       "      <th>y</th>\n",
       "      <th>kNN_pred</th>\n",
       "      <th>kNN_accuracy</th>\n",
       "      <th>kNN_prob</th>\n",
       "      <th>ANN_pred</th>\n",
       "      <th>ANN_accuracy</th>\n",
       "      <th>ANN_prob</th>\n",
       "      <th>RF_pred</th>\n",
       "      <th>RF_accuracy</th>\n",
       "      <th>RF_prob</th>\n",
       "    </tr>\n",
       "  </thead>\n",
       "  <tbody>\n",
       "    <tr>\n",
       "      <th>0</th>\n",
       "      <td>0</td>\n",
       "      <td>0.48785</td>\n",
       "      <td>0.499232</td>\n",
       "      <td>0</td>\n",
       "      <td>0.48972</td>\n",
       "      <td>0.482038</td>\n",
       "      <td>0</td>\n",
       "      <td>0</td>\n",
       "      <td>0.508411</td>\n",
       "      <td>0.5</td>\n",
       "      <td>0</td>\n",
       "      <td>0.483178</td>\n",
       "      <td>0.490417</td>\n",
       "      <td>0</td>\n",
       "      <td>0.525234</td>\n",
       "      <td>0.422360</td>\n",
       "    </tr>\n",
       "    <tr>\n",
       "      <th>1</th>\n",
       "      <td>1</td>\n",
       "      <td>0.48785</td>\n",
       "      <td>0.504807</td>\n",
       "      <td>1</td>\n",
       "      <td>0.48972</td>\n",
       "      <td>0.516175</td>\n",
       "      <td>1</td>\n",
       "      <td>0</td>\n",
       "      <td>0.508411</td>\n",
       "      <td>0.5</td>\n",
       "      <td>1</td>\n",
       "      <td>0.483178</td>\n",
       "      <td>0.506478</td>\n",
       "      <td>1</td>\n",
       "      <td>0.525234</td>\n",
       "      <td>0.504748</td>\n",
       "    </tr>\n",
       "    <tr>\n",
       "      <th>2</th>\n",
       "      <td>1</td>\n",
       "      <td>0.48785</td>\n",
       "      <td>0.591117</td>\n",
       "      <td>1</td>\n",
       "      <td>0.48972</td>\n",
       "      <td>0.526401</td>\n",
       "      <td>1</td>\n",
       "      <td>0</td>\n",
       "      <td>0.508411</td>\n",
       "      <td>0.5</td>\n",
       "      <td>1</td>\n",
       "      <td>0.483178</td>\n",
       "      <td>0.594908</td>\n",
       "      <td>1</td>\n",
       "      <td>0.525234</td>\n",
       "      <td>0.635901</td>\n",
       "    </tr>\n",
       "    <tr>\n",
       "      <th>3</th>\n",
       "      <td>1</td>\n",
       "      <td>0.48785</td>\n",
       "      <td>0.595272</td>\n",
       "      <td>1</td>\n",
       "      <td>0.48972</td>\n",
       "      <td>0.515859</td>\n",
       "      <td>1</td>\n",
       "      <td>1</td>\n",
       "      <td>0.508411</td>\n",
       "      <td>1.0</td>\n",
       "      <td>1</td>\n",
       "      <td>0.483178</td>\n",
       "      <td>0.625306</td>\n",
       "      <td>1</td>\n",
       "      <td>0.525234</td>\n",
       "      <td>0.800362</td>\n",
       "    </tr>\n",
       "    <tr>\n",
       "      <th>4</th>\n",
       "      <td>1</td>\n",
       "      <td>0.48785</td>\n",
       "      <td>0.590655</td>\n",
       "      <td>1</td>\n",
       "      <td>0.48972</td>\n",
       "      <td>0.515859</td>\n",
       "      <td>1</td>\n",
       "      <td>1</td>\n",
       "      <td>0.508411</td>\n",
       "      <td>1.0</td>\n",
       "      <td>1</td>\n",
       "      <td>0.483178</td>\n",
       "      <td>0.620808</td>\n",
       "      <td>1</td>\n",
       "      <td>0.525234</td>\n",
       "      <td>0.617615</td>\n",
       "    </tr>\n",
       "    <tr>\n",
       "      <th>...</th>\n",
       "      <td>...</td>\n",
       "      <td>...</td>\n",
       "      <td>...</td>\n",
       "      <td>...</td>\n",
       "      <td>...</td>\n",
       "      <td>...</td>\n",
       "      <td>...</td>\n",
       "      <td>...</td>\n",
       "      <td>...</td>\n",
       "      <td>...</td>\n",
       "      <td>...</td>\n",
       "      <td>...</td>\n",
       "      <td>...</td>\n",
       "      <td>...</td>\n",
       "      <td>...</td>\n",
       "      <td>...</td>\n",
       "    </tr>\n",
       "    <tr>\n",
       "      <th>1065</th>\n",
       "      <td>1</td>\n",
       "      <td>0.48785</td>\n",
       "      <td>0.543262</td>\n",
       "      <td>1</td>\n",
       "      <td>0.48972</td>\n",
       "      <td>0.536454</td>\n",
       "      <td>1</td>\n",
       "      <td>0</td>\n",
       "      <td>0.508411</td>\n",
       "      <td>0.5</td>\n",
       "      <td>1</td>\n",
       "      <td>0.483178</td>\n",
       "      <td>0.507600</td>\n",
       "      <td>1</td>\n",
       "      <td>0.525234</td>\n",
       "      <td>0.669753</td>\n",
       "    </tr>\n",
       "    <tr>\n",
       "      <th>1066</th>\n",
       "      <td>1</td>\n",
       "      <td>0.48785</td>\n",
       "      <td>0.570132</td>\n",
       "      <td>1</td>\n",
       "      <td>0.48972</td>\n",
       "      <td>0.521491</td>\n",
       "      <td>1</td>\n",
       "      <td>1</td>\n",
       "      <td>0.508411</td>\n",
       "      <td>1.0</td>\n",
       "      <td>1</td>\n",
       "      <td>0.483178</td>\n",
       "      <td>0.546710</td>\n",
       "      <td>1</td>\n",
       "      <td>0.525234</td>\n",
       "      <td>0.765041</td>\n",
       "    </tr>\n",
       "    <tr>\n",
       "      <th>1067</th>\n",
       "      <td>1</td>\n",
       "      <td>0.48785</td>\n",
       "      <td>0.542180</td>\n",
       "      <td>1</td>\n",
       "      <td>0.48972</td>\n",
       "      <td>0.537546</td>\n",
       "      <td>0</td>\n",
       "      <td>1</td>\n",
       "      <td>0.508411</td>\n",
       "      <td>1.0</td>\n",
       "      <td>1</td>\n",
       "      <td>0.483178</td>\n",
       "      <td>0.533604</td>\n",
       "      <td>1</td>\n",
       "      <td>0.525234</td>\n",
       "      <td>0.747523</td>\n",
       "    </tr>\n",
       "    <tr>\n",
       "      <th>1068</th>\n",
       "      <td>1</td>\n",
       "      <td>0.48785</td>\n",
       "      <td>0.569741</td>\n",
       "      <td>1</td>\n",
       "      <td>0.48972</td>\n",
       "      <td>0.521313</td>\n",
       "      <td>1</td>\n",
       "      <td>0</td>\n",
       "      <td>0.508411</td>\n",
       "      <td>0.5</td>\n",
       "      <td>1</td>\n",
       "      <td>0.483178</td>\n",
       "      <td>0.560094</td>\n",
       "      <td>1</td>\n",
       "      <td>0.525234</td>\n",
       "      <td>0.580589</td>\n",
       "    </tr>\n",
       "    <tr>\n",
       "      <th>1069</th>\n",
       "      <td>1</td>\n",
       "      <td>0.48785</td>\n",
       "      <td>0.543188</td>\n",
       "      <td>1</td>\n",
       "      <td>0.48972</td>\n",
       "      <td>0.521491</td>\n",
       "      <td>0</td>\n",
       "      <td>1</td>\n",
       "      <td>0.508411</td>\n",
       "      <td>1.0</td>\n",
       "      <td>1</td>\n",
       "      <td>0.483178</td>\n",
       "      <td>0.541299</td>\n",
       "      <td>1</td>\n",
       "      <td>0.525234</td>\n",
       "      <td>0.715220</td>\n",
       "    </tr>\n",
       "  </tbody>\n",
       "</table>\n",
       "<p>1070 rows × 16 columns</p>\n",
       "</div>"
      ],
      "text/plain": [
       "      LogReg_pred  LogReg_accuracy  LogReg_prob  LGBM_pred  LGBM_accuracy  \\\n",
       "0               0          0.48785     0.499232          0        0.48972   \n",
       "1               1          0.48785     0.504807          1        0.48972   \n",
       "2               1          0.48785     0.591117          1        0.48972   \n",
       "3               1          0.48785     0.595272          1        0.48972   \n",
       "4               1          0.48785     0.590655          1        0.48972   \n",
       "...           ...              ...          ...        ...            ...   \n",
       "1065            1          0.48785     0.543262          1        0.48972   \n",
       "1066            1          0.48785     0.570132          1        0.48972   \n",
       "1067            1          0.48785     0.542180          1        0.48972   \n",
       "1068            1          0.48785     0.569741          1        0.48972   \n",
       "1069            1          0.48785     0.543188          1        0.48972   \n",
       "\n",
       "      LGBM_prob  y  kNN_pred  kNN_accuracy  kNN_prob  ANN_pred  ANN_accuracy  \\\n",
       "0      0.482038  0         0      0.508411       0.5         0      0.483178   \n",
       "1      0.516175  1         0      0.508411       0.5         1      0.483178   \n",
       "2      0.526401  1         0      0.508411       0.5         1      0.483178   \n",
       "3      0.515859  1         1      0.508411       1.0         1      0.483178   \n",
       "4      0.515859  1         1      0.508411       1.0         1      0.483178   \n",
       "...         ... ..       ...           ...       ...       ...           ...   \n",
       "1065   0.536454  1         0      0.508411       0.5         1      0.483178   \n",
       "1066   0.521491  1         1      0.508411       1.0         1      0.483178   \n",
       "1067   0.537546  0         1      0.508411       1.0         1      0.483178   \n",
       "1068   0.521313  1         0      0.508411       0.5         1      0.483178   \n",
       "1069   0.521491  0         1      0.508411       1.0         1      0.483178   \n",
       "\n",
       "      ANN_prob  RF_pred  RF_accuracy   RF_prob  \n",
       "0     0.490417        0     0.525234  0.422360  \n",
       "1     0.506478        1     0.525234  0.504748  \n",
       "2     0.594908        1     0.525234  0.635901  \n",
       "3     0.625306        1     0.525234  0.800362  \n",
       "4     0.620808        1     0.525234  0.617615  \n",
       "...        ...      ...          ...       ...  \n",
       "1065  0.507600        1     0.525234  0.669753  \n",
       "1066  0.546710        1     0.525234  0.765041  \n",
       "1067  0.533604        1     0.525234  0.747523  \n",
       "1068  0.560094        1     0.525234  0.580589  \n",
       "1069  0.541299        1     0.525234  0.715220  \n",
       "\n",
       "[1070 rows x 16 columns]"
      ]
     },
     "execution_count": 13,
     "metadata": {},
     "output_type": "execute_result"
    }
   ],
   "source": [
    "df_prediction[\"RF_pred\"] = y_pred_test\n",
    "df_prediction[\"RF_accuracy\"] = [test_acc for x in range(len(y_pred_test))]\n",
    "df_prediction[\"RF_prob\"] = y_prob\n",
    "\n",
    "df_prediction"
   ]
  },
  {
   "cell_type": "code",
   "execution_count": 14,
   "metadata": {},
   "outputs": [],
   "source": [
    "df_prediction.to_csv(\"../data/model_accuracy_IBM.csv\")"
   ]
  },
  {
   "cell_type": "code",
   "execution_count": null,
   "metadata": {},
   "outputs": [],
   "source": []
  }
 ],
 "metadata": {
  "kernelspec": {
   "display_name": "Python 3 (ipykernel)",
   "language": "python",
   "name": "python3"
  },
  "language_info": {
   "codemirror_mode": {
    "name": "ipython",
    "version": 3
   },
   "file_extension": ".py",
   "mimetype": "text/x-python",
   "name": "python",
   "nbconvert_exporter": "python",
   "pygments_lexer": "ipython3",
   "version": "3.9.12"
  }
 },
 "nbformat": 4,
 "nbformat_minor": 2
}
