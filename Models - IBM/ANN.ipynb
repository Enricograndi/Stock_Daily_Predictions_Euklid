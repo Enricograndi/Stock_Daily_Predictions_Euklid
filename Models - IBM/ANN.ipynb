{
 "cells": [
  {
   "cell_type": "code",
   "execution_count": 1,
   "metadata": {},
   "outputs": [],
   "source": [
    "# General libraries\n",
    "import pandas as pd\n",
    "import numpy as np\n",
    "import warnings\n",
    "warnings.filterwarnings(\"ignore\")\n",
    "\n",
    "# Neural network libraries\n",
    "from keras import optimizers\n",
    "from keras.models import Sequential\n",
    "from keras.layers import Dense, Dropout,BatchNormalization\n",
    "from keras.callbacks import EarlyStopping\n",
    "from tensorflow import keras\n",
    "\n",
    "# Machine Learning libraries\n",
    "from sklearn.preprocessing import LabelEncoder, StandardScaler, OneHotEncoder\n",
    "from sklearn.model_selection import train_test_split\n",
    "from sklearn.metrics import accuracy_score\n",
    "\n",
    "#Visualization\n",
    "from matplotlib import pyplot\n",
    "import matplotlib.pyplot as plt"
   ]
  },
  {
   "cell_type": "code",
   "execution_count": 2,
   "metadata": {},
   "outputs": [],
   "source": [
    "#print(\"Num GPUs Available: \", len(tf.config.list_physical_devices('GPU')))\n",
    "#config = tf.compat.v1.ConfigProto(device_count = {'GPU': 1})"
   ]
  },
  {
   "cell_type": "markdown",
   "metadata": {},
   "source": [
    "## Preliminary work on the dataset"
   ]
  },
  {
   "cell_type": "code",
   "execution_count": 3,
   "metadata": {},
   "outputs": [],
   "source": [
    "yahoo_df = pd.read_csv(\"../data/IBM.csv\")\n",
    "#yahoo_df = yahoo_df.set_index(\"Date\")\n",
    "yahoo_df = yahoo_df.set_index(\"Date\")\n"
   ]
  },
  {
   "cell_type": "markdown",
   "metadata": {},
   "source": [
    "X = yahoo_df[['ROC_1', 'ROC_4', 'ROC_7', 'Momentum', '1 Day ROI', '3 Day ROI',\n",
    "       '5 Day ROI', '20 Day ROI', '6_day_RSI', 'MACD_12_26', 'SRSI_30',\n",
    "       'Williams_1', 'Williams_3', 'Williams_14', 'ATR_14', 'CCI']]"
   ]
  },
  {
   "cell_type": "markdown",
   "metadata": {},
   "source": [
    "# Train, test, val"
   ]
  },
  {
   "cell_type": "code",
   "execution_count": 4,
   "metadata": {},
   "outputs": [],
   "source": [
    "\n",
    "X = yahoo_df[['ROC_4', 'ROC_5', 'ROC_6', '4 Day ROI', '6 Day ROI', '30 Day ROI',\n",
    "       'RSI_3', 'RSI_4', 'CCI']]\n",
    "y = yahoo_df[\"Up down\"]"
   ]
  },
  {
   "cell_type": "code",
   "execution_count": 5,
   "metadata": {},
   "outputs": [
    {
     "data": {
      "text/plain": [
       "0.5151515151515151"
      ]
     },
     "execution_count": 5,
     "metadata": {},
     "output_type": "execute_result"
    }
   ],
   "source": [
    "sum(y)/len(X)"
   ]
  },
  {
   "cell_type": "code",
   "execution_count": 6,
   "metadata": {},
   "outputs": [],
   "source": [
    "# Split in 80/20 the dataframe\n",
    "X_train, X_test, y_train, y_test = train_test_split(X, y,\n",
    "                                                    test_size = 0.20, shuffle=False)"
   ]
  },
  {
   "cell_type": "markdown",
   "metadata": {},
   "source": [
    "# Normalize"
   ]
  },
  {
   "cell_type": "code",
   "execution_count": 7,
   "metadata": {},
   "outputs": [],
   "source": [
    "def normalize(df):\n",
    "    #df = data\n",
    "    for column in df:\n",
    "        df[column]=((df[column]-df[column].mean())/df[column].std())\n",
    "    return df"
   ]
  },
  {
   "cell_type": "code",
   "execution_count": 8,
   "metadata": {},
   "outputs": [],
   "source": [
    "X_train = normalize(X_train)\n",
    "X_test = normalize(X_test)\n"
   ]
  },
  {
   "cell_type": "markdown",
   "metadata": {},
   "source": [
    "# Model ANN\n"
   ]
  },
  {
   "cell_type": "code",
   "execution_count": 9,
   "metadata": {},
   "outputs": [],
   "source": [
    "# Set early stopping monitor so the model stops training when it won't improve anymore\n",
    "esm = EarlyStopping(monitor = 'val_binary_accuracy',patience=50)\n",
    "\n",
    "# Set the optimizer\n",
    "opt = keras.optimizers.SGD(learning_rate = 0.0001)"
   ]
  },
  {
   "cell_type": "code",
   "execution_count": 10,
   "metadata": {},
   "outputs": [],
   "source": [
    "metrics=[keras.metrics.Accuracy(),\n",
    "    keras.metrics.BinaryAccuracy(name=\"binary_accuracy\", dtype=None, threshold=0.49),\n",
    "    keras.metrics.MeanSquaredError(name='my_mse'),\n",
    "    keras.metrics.BinaryCrossentropy(),\n",
    "    keras.metrics.Hinge()]"
   ]
  },
  {
   "cell_type": "code",
   "execution_count": 11,
   "metadata": {
    "scrolled": true
   },
   "outputs": [
    {
     "name": "stdout",
     "output_type": "stream",
     "text": [
      "Epoch 1/1000\n",
      "77/77 [==============================] - 1s 9ms/step - loss: 3.5186 - accuracy: 0.1538 - binary_accuracy: 0.4717 - my_mse: 0.4736 - binary_crossentropy: 3.5186 - hinge: 0.9965 - val_loss: 1.0085 - val_accuracy: 0.0000e+00 - val_binary_accuracy: 0.5327 - val_my_mse: 0.3574 - val_binary_crossentropy: 1.0085 - val_hinge: 1.0086\n",
      "Epoch 2/1000\n",
      "77/77 [==============================] - 0s 2ms/step - loss: 1.1977 - accuracy: 0.0081 - binary_accuracy: 0.4717 - my_mse: 0.3850 - binary_crossentropy: 1.1977 - hinge: 0.9910 - val_loss: 0.8681 - val_accuracy: 0.0000e+00 - val_binary_accuracy: 0.5327 - val_my_mse: 0.3188 - val_binary_crossentropy: 0.8681 - val_hinge: 1.0127\n",
      "Epoch 3/1000\n",
      "77/77 [==============================] - 0s 3ms/step - loss: 1.0282 - accuracy: 0.0031 - binary_accuracy: 0.4717 - my_mse: 0.3583 - binary_crossentropy: 1.0282 - hinge: 0.9889 - val_loss: 0.8199 - val_accuracy: 0.0000e+00 - val_binary_accuracy: 0.5327 - val_my_mse: 0.3027 - val_binary_crossentropy: 0.8199 - val_hinge: 1.0147\n",
      "Epoch 4/1000\n",
      "77/77 [==============================] - 0s 3ms/step - loss: 0.9673 - accuracy: 0.0016 - binary_accuracy: 0.4717 - my_mse: 0.3394 - binary_crossentropy: 0.9673 - hinge: 0.9877 - val_loss: 0.7862 - val_accuracy: 0.0000e+00 - val_binary_accuracy: 0.5327 - val_my_mse: 0.2902 - val_binary_crossentropy: 0.7862 - val_hinge: 1.0165\n",
      "Epoch 5/1000\n",
      "77/77 [==============================] - 0s 3ms/step - loss: 0.8945 - accuracy: 7.7963e-04 - binary_accuracy: 0.4712 - my_mse: 0.3249 - binary_crossentropy: 0.8945 - hinge: 0.9862 - val_loss: 0.7637 - val_accuracy: 0.0000e+00 - val_binary_accuracy: 0.5327 - val_my_mse: 0.2814 - val_binary_crossentropy: 0.7637 - val_hinge: 1.0178\n",
      "Epoch 6/1000\n",
      "77/77 [==============================] - 0s 2ms/step - loss: 0.8441 - accuracy: 0.0010 - binary_accuracy: 0.4709 - my_mse: 0.3121 - binary_crossentropy: 0.8441 - hinge: 0.9848 - val_loss: 0.7455 - val_accuracy: 0.0000e+00 - val_binary_accuracy: 0.5327 - val_my_mse: 0.2739 - val_binary_crossentropy: 0.7455 - val_hinge: 1.0192\n",
      "Epoch 7/1000\n",
      "77/77 [==============================] - 0s 2ms/step - loss: 0.8263 - accuracy: 5.1975e-04 - binary_accuracy: 0.4725 - my_mse: 0.3026 - binary_crossentropy: 0.8263 - hinge: 0.9831 - val_loss: 0.7331 - val_accuracy: 0.0000e+00 - val_binary_accuracy: 0.5327 - val_my_mse: 0.2685 - val_binary_crossentropy: 0.7331 - val_hinge: 1.0203\n",
      "Epoch 8/1000\n",
      "77/77 [==============================] - 0s 2ms/step - loss: 0.8015 - accuracy: 2.5988e-04 - binary_accuracy: 0.4706 - my_mse: 0.2955 - binary_crossentropy: 0.8015 - hinge: 0.9827 - val_loss: 0.7228 - val_accuracy: 0.0000e+00 - val_binary_accuracy: 0.5327 - val_my_mse: 0.2639 - val_binary_crossentropy: 0.7228 - val_hinge: 1.0214\n",
      "Epoch 9/1000\n",
      "77/77 [==============================] - 0s 2ms/step - loss: 0.7920 - accuracy: 2.5988e-04 - binary_accuracy: 0.4701 - my_mse: 0.2887 - binary_crossentropy: 0.7920 - hinge: 0.9813 - val_loss: 0.7153 - val_accuracy: 0.0000e+00 - val_binary_accuracy: 0.5327 - val_my_mse: 0.2605 - val_binary_crossentropy: 0.7153 - val_hinge: 1.0222\n",
      "Epoch 10/1000\n",
      "77/77 [==============================] - 0s 2ms/step - loss: 0.7660 - accuracy: 5.1975e-04 - binary_accuracy: 0.4756 - my_mse: 0.2818 - binary_crossentropy: 0.7660 - hinge: 0.9786 - val_loss: 0.7093 - val_accuracy: 0.0000e+00 - val_binary_accuracy: 0.5327 - val_my_mse: 0.2577 - val_binary_crossentropy: 0.7093 - val_hinge: 1.0230\n",
      "Epoch 11/1000\n",
      "77/77 [==============================] - 0s 2ms/step - loss: 0.7564 - accuracy: 5.1975e-04 - binary_accuracy: 0.4730 - my_mse: 0.2794 - binary_crossentropy: 0.7564 - hinge: 0.9799 - val_loss: 0.7045 - val_accuracy: 0.0000e+00 - val_binary_accuracy: 0.5327 - val_my_mse: 0.2554 - val_binary_crossentropy: 0.7045 - val_hinge: 1.0237\n",
      "Epoch 12/1000\n",
      "77/77 [==============================] - 0s 2ms/step - loss: 0.7480 - accuracy: 2.5988e-04 - binary_accuracy: 0.4758 - my_mse: 0.2739 - binary_crossentropy: 0.7480 - hinge: 0.9776 - val_loss: 0.7007 - val_accuracy: 0.0000e+00 - val_binary_accuracy: 0.5327 - val_my_mse: 0.2536 - val_binary_crossentropy: 0.7007 - val_hinge: 1.0244\n",
      "Epoch 13/1000\n",
      "77/77 [==============================] - 0s 2ms/step - loss: 0.7424 - accuracy: 0.0000e+00 - binary_accuracy: 0.4709 - my_mse: 0.2731 - binary_crossentropy: 0.7424 - hinge: 0.9788 - val_loss: 0.6977 - val_accuracy: 0.0000e+00 - val_binary_accuracy: 0.5327 - val_my_mse: 0.2522 - val_binary_crossentropy: 0.6977 - val_hinge: 1.0250\n",
      "Epoch 14/1000\n",
      "77/77 [==============================] - 0s 2ms/step - loss: 0.7393 - accuracy: 0.0010 - binary_accuracy: 0.4732 - my_mse: 0.2702 - binary_crossentropy: 0.7393 - hinge: 0.9782 - val_loss: 0.6953 - val_accuracy: 0.0000e+00 - val_binary_accuracy: 0.5327 - val_my_mse: 0.2510 - val_binary_crossentropy: 0.6953 - val_hinge: 1.0255\n",
      "Epoch 15/1000\n",
      "77/77 [==============================] - 0s 2ms/step - loss: 0.7319 - accuracy: 2.5988e-04 - binary_accuracy: 0.4764 - my_mse: 0.2667 - binary_crossentropy: 0.7319 - hinge: 0.9768 - val_loss: 0.6934 - val_accuracy: 0.0000e+00 - val_binary_accuracy: 0.5327 - val_my_mse: 0.2501 - val_binary_crossentropy: 0.6934 - val_hinge: 1.0260\n",
      "Epoch 16/1000\n",
      "77/77 [==============================] - 0s 2ms/step - loss: 0.7260 - accuracy: 0.0000e+00 - binary_accuracy: 0.4738 - my_mse: 0.2656 - binary_crossentropy: 0.7260 - hinge: 0.9775 - val_loss: 0.6919 - val_accuracy: 0.0000e+00 - val_binary_accuracy: 0.5304 - val_my_mse: 0.2494 - val_binary_crossentropy: 0.6919 - val_hinge: 1.0265\n",
      "Epoch 17/1000\n",
      "77/77 [==============================] - 0s 2ms/step - loss: 0.7220 - accuracy: 0.0000e+00 - binary_accuracy: 0.4764 - my_mse: 0.2636 - binary_crossentropy: 0.7220 - hinge: 0.9766 - val_loss: 0.6908 - val_accuracy: 0.0000e+00 - val_binary_accuracy: 0.5304 - val_my_mse: 0.2488 - val_binary_crossentropy: 0.6908 - val_hinge: 1.0269\n",
      "Epoch 18/1000\n",
      "77/77 [==============================] - 0s 2ms/step - loss: 0.7219 - accuracy: 0.0000e+00 - binary_accuracy: 0.4738 - my_mse: 0.2634 - binary_crossentropy: 0.7219 - hinge: 0.9771 - val_loss: 0.6900 - val_accuracy: 0.0000e+00 - val_binary_accuracy: 0.5304 - val_my_mse: 0.2484 - val_binary_crossentropy: 0.6900 - val_hinge: 1.0273\n",
      "Epoch 19/1000\n",
      "77/77 [==============================] - 0s 2ms/step - loss: 0.7160 - accuracy: 0.0000e+00 - binary_accuracy: 0.4766 - my_mse: 0.2609 - binary_crossentropy: 0.7160 - hinge: 0.9758 - val_loss: 0.6894 - val_accuracy: 0.0000e+00 - val_binary_accuracy: 0.5350 - val_my_mse: 0.2481 - val_binary_crossentropy: 0.6894 - val_hinge: 1.0277\n",
      "Epoch 20/1000\n",
      "77/77 [==============================] - 0s 2ms/step - loss: 0.7137 - accuracy: 0.0000e+00 - binary_accuracy: 0.4784 - my_mse: 0.2597 - binary_crossentropy: 0.7137 - hinge: 0.9750 - val_loss: 0.6890 - val_accuracy: 0.0000e+00 - val_binary_accuracy: 0.5514 - val_my_mse: 0.2479 - val_binary_crossentropy: 0.6890 - val_hinge: 1.0281\n",
      "Epoch 21/1000\n",
      "77/77 [==============================] - 0s 2ms/step - loss: 0.7187 - accuracy: 0.0000e+00 - binary_accuracy: 0.4764 - my_mse: 0.2605 - binary_crossentropy: 0.7187 - hinge: 0.9763 - val_loss: 0.6887 - val_accuracy: 0.0000e+00 - val_binary_accuracy: 0.5537 - val_my_mse: 0.2478 - val_binary_crossentropy: 0.6887 - val_hinge: 1.0284\n",
      "Epoch 22/1000\n",
      "77/77 [==============================] - 0s 2ms/step - loss: 0.7103 - accuracy: 0.0000e+00 - binary_accuracy: 0.4860 - my_mse: 0.2582 - binary_crossentropy: 0.7103 - hinge: 0.9746 - val_loss: 0.6886 - val_accuracy: 0.0000e+00 - val_binary_accuracy: 0.5514 - val_my_mse: 0.2477 - val_binary_crossentropy: 0.6886 - val_hinge: 1.0287\n",
      "Epoch 23/1000\n",
      "77/77 [==============================] - 0s 2ms/step - loss: 0.7061 - accuracy: 0.0000e+00 - binary_accuracy: 0.4909 - my_mse: 0.2559 - binary_crossentropy: 0.7061 - hinge: 0.9729 - val_loss: 0.6885 - val_accuracy: 0.0000e+00 - val_binary_accuracy: 0.5444 - val_my_mse: 0.2477 - val_binary_crossentropy: 0.6885 - val_hinge: 1.0290\n",
      "Epoch 24/1000\n",
      "77/77 [==============================] - 0s 2ms/step - loss: 0.7155 - accuracy: 0.0000e+00 - binary_accuracy: 0.4790 - my_mse: 0.2588 - binary_crossentropy: 0.7155 - hinge: 0.9758 - val_loss: 0.6886 - val_accuracy: 0.0000e+00 - val_binary_accuracy: 0.5327 - val_my_mse: 0.2477 - val_binary_crossentropy: 0.6886 - val_hinge: 1.0293\n"
     ]
    },
    {
     "name": "stdout",
     "output_type": "stream",
     "text": [
      "Epoch 25/1000\n",
      "77/77 [==============================] - 0s 2ms/step - loss: 0.7035 - accuracy: 2.5988e-04 - binary_accuracy: 0.4977 - my_mse: 0.2550 - binary_crossentropy: 0.7035 - hinge: 0.9725 - val_loss: 0.6887 - val_accuracy: 0.0000e+00 - val_binary_accuracy: 0.5421 - val_my_mse: 0.2478 - val_binary_crossentropy: 0.6887 - val_hinge: 1.0295\n",
      "Epoch 26/1000\n",
      "77/77 [==============================] - 0s 2ms/step - loss: 0.7229 - accuracy: 0.0000e+00 - binary_accuracy: 0.4810 - my_mse: 0.2576 - binary_crossentropy: 0.7229 - hinge: 0.9749 - val_loss: 0.6888 - val_accuracy: 0.0000e+00 - val_binary_accuracy: 0.5444 - val_my_mse: 0.2478 - val_binary_crossentropy: 0.6888 - val_hinge: 1.0297\n",
      "Epoch 27/1000\n",
      "77/77 [==============================] - 0s 2ms/step - loss: 0.7027 - accuracy: 0.0000e+00 - binary_accuracy: 0.4964 - my_mse: 0.2546 - binary_crossentropy: 0.7027 - hinge: 0.9725 - val_loss: 0.6889 - val_accuracy: 0.0000e+00 - val_binary_accuracy: 0.5514 - val_my_mse: 0.2479 - val_binary_crossentropy: 0.6889 - val_hinge: 1.0299\n",
      "Epoch 28/1000\n",
      "77/77 [==============================] - 0s 2ms/step - loss: 0.7035 - accuracy: 0.0000e+00 - binary_accuracy: 0.4912 - my_mse: 0.2550 - binary_crossentropy: 0.7035 - hinge: 0.9731 - val_loss: 0.6891 - val_accuracy: 0.0000e+00 - val_binary_accuracy: 0.5397 - val_my_mse: 0.2480 - val_binary_crossentropy: 0.6891 - val_hinge: 1.0301\n",
      "Epoch 29/1000\n",
      "77/77 [==============================] - 0s 2ms/step - loss: 0.7099 - accuracy: 0.0000e+00 - binary_accuracy: 0.4893 - my_mse: 0.2548 - binary_crossentropy: 0.7099 - hinge: 0.9729 - val_loss: 0.6894 - val_accuracy: 0.0000e+00 - val_binary_accuracy: 0.5327 - val_my_mse: 0.2481 - val_binary_crossentropy: 0.6894 - val_hinge: 1.0302\n",
      "Epoch 30/1000\n",
      "77/77 [==============================] - 0s 2ms/step - loss: 0.7046 - accuracy: 0.0000e+00 - binary_accuracy: 0.5010 - my_mse: 0.2552 - binary_crossentropy: 0.7046 - hinge: 0.9732 - val_loss: 0.6896 - val_accuracy: 0.0000e+00 - val_binary_accuracy: 0.5327 - val_my_mse: 0.2482 - val_binary_crossentropy: 0.6896 - val_hinge: 1.0304\n",
      "Epoch 31/1000\n",
      "77/77 [==============================] - 0s 2ms/step - loss: 0.7068 - accuracy: 0.0000e+00 - binary_accuracy: 0.5026 - my_mse: 0.2557 - binary_crossentropy: 0.7068 - hinge: 0.9736 - val_loss: 0.6898 - val_accuracy: 0.0000e+00 - val_binary_accuracy: 0.5304 - val_my_mse: 0.2483 - val_binary_crossentropy: 0.6898 - val_hinge: 1.0306\n",
      "Epoch 32/1000\n",
      "77/77 [==============================] - 0s 2ms/step - loss: 0.7068 - accuracy: 0.0000e+00 - binary_accuracy: 0.5010 - my_mse: 0.2548 - binary_crossentropy: 0.7068 - hinge: 0.9731 - val_loss: 0.6901 - val_accuracy: 0.0000e+00 - val_binary_accuracy: 0.5117 - val_my_mse: 0.2485 - val_binary_crossentropy: 0.6901 - val_hinge: 1.0307\n",
      "Epoch 33/1000\n",
      "77/77 [==============================] - 0s 2ms/step - loss: 0.7014 - accuracy: 0.0000e+00 - binary_accuracy: 0.4964 - my_mse: 0.2539 - binary_crossentropy: 0.7014 - hinge: 0.9724 - val_loss: 0.6903 - val_accuracy: 0.0000e+00 - val_binary_accuracy: 0.5164 - val_my_mse: 0.2486 - val_binary_crossentropy: 0.6903 - val_hinge: 1.0308\n",
      "Epoch 34/1000\n",
      "77/77 [==============================] - 0s 2ms/step - loss: 0.7050 - accuracy: 0.0000e+00 - binary_accuracy: 0.4880 - my_mse: 0.2540 - binary_crossentropy: 0.7050 - hinge: 0.9725 - val_loss: 0.6905 - val_accuracy: 0.0000e+00 - val_binary_accuracy: 0.5210 - val_my_mse: 0.2487 - val_binary_crossentropy: 0.6905 - val_hinge: 1.0309\n",
      "Epoch 35/1000\n",
      "77/77 [==============================] - 0s 2ms/step - loss: 0.6981 - accuracy: 2.5988e-04 - binary_accuracy: 0.5088 - my_mse: 0.2524 - binary_crossentropy: 0.6981 - hinge: 0.9706 - val_loss: 0.6908 - val_accuracy: 0.0000e+00 - val_binary_accuracy: 0.5234 - val_my_mse: 0.2488 - val_binary_crossentropy: 0.6908 - val_hinge: 1.0310\n",
      "Epoch 36/1000\n",
      "77/77 [==============================] - 0s 2ms/step - loss: 0.7006 - accuracy: 0.0000e+00 - binary_accuracy: 0.5065 - my_mse: 0.2534 - binary_crossentropy: 0.7006 - hinge: 0.9717 - val_loss: 0.6910 - val_accuracy: 0.0000e+00 - val_binary_accuracy: 0.5070 - val_my_mse: 0.2489 - val_binary_crossentropy: 0.6910 - val_hinge: 1.0312\n",
      "Epoch 37/1000\n",
      "77/77 [==============================] - 0s 2ms/step - loss: 0.7044 - accuracy: 0.0000e+00 - binary_accuracy: 0.5016 - my_mse: 0.2536 - binary_crossentropy: 0.7044 - hinge: 0.9719 - val_loss: 0.6912 - val_accuracy: 0.0000e+00 - val_binary_accuracy: 0.5023 - val_my_mse: 0.2491 - val_binary_crossentropy: 0.6912 - val_hinge: 1.0312\n",
      "Epoch 38/1000\n",
      "77/77 [==============================] - 0s 2ms/step - loss: 0.6994 - accuracy: 0.0000e+00 - binary_accuracy: 0.5109 - my_mse: 0.2528 - binary_crossentropy: 0.6994 - hinge: 0.9713 - val_loss: 0.6915 - val_accuracy: 0.0000e+00 - val_binary_accuracy: 0.4907 - val_my_mse: 0.2492 - val_binary_crossentropy: 0.6915 - val_hinge: 1.0313\n",
      "Epoch 39/1000\n",
      "77/77 [==============================] - 0s 2ms/step - loss: 0.7013 - accuracy: 0.0000e+00 - binary_accuracy: 0.5010 - my_mse: 0.2537 - binary_crossentropy: 0.7013 - hinge: 0.9722 - val_loss: 0.6916 - val_accuracy: 0.0000e+00 - val_binary_accuracy: 0.5000 - val_my_mse: 0.2493 - val_binary_crossentropy: 0.6916 - val_hinge: 1.0314\n",
      "Epoch 40/1000\n",
      "77/77 [==============================] - 0s 2ms/step - loss: 0.7021 - accuracy: 0.0000e+00 - binary_accuracy: 0.5140 - my_mse: 0.2541 - binary_crossentropy: 0.7021 - hinge: 0.9724 - val_loss: 0.6918 - val_accuracy: 0.0000e+00 - val_binary_accuracy: 0.4953 - val_my_mse: 0.2494 - val_binary_crossentropy: 0.6918 - val_hinge: 1.0315\n",
      "Epoch 41/1000\n",
      "77/77 [==============================] - 0s 2ms/step - loss: 0.6973 - accuracy: 0.0000e+00 - binary_accuracy: 0.5195 - my_mse: 0.2518 - binary_crossentropy: 0.6973 - hinge: 0.9701 - val_loss: 0.6920 - val_accuracy: 0.0000e+00 - val_binary_accuracy: 0.4953 - val_my_mse: 0.2494 - val_binary_crossentropy: 0.6920 - val_hinge: 1.0316\n",
      "Epoch 42/1000\n",
      "77/77 [==============================] - 0s 2ms/step - loss: 0.7001 - accuracy: 0.0000e+00 - binary_accuracy: 0.5073 - my_mse: 0.2518 - binary_crossentropy: 0.7001 - hinge: 0.9702 - val_loss: 0.6922 - val_accuracy: 0.0000e+00 - val_binary_accuracy: 0.5000 - val_my_mse: 0.2495 - val_binary_crossentropy: 0.6922 - val_hinge: 1.0316\n",
      "Epoch 43/1000\n",
      "77/77 [==============================] - 0s 2ms/step - loss: 0.6992 - accuracy: 0.0000e+00 - binary_accuracy: 0.5125 - my_mse: 0.2528 - binary_crossentropy: 0.6992 - hinge: 0.9710 - val_loss: 0.6924 - val_accuracy: 0.0000e+00 - val_binary_accuracy: 0.4930 - val_my_mse: 0.2496 - val_binary_crossentropy: 0.6924 - val_hinge: 1.0317\n",
      "Epoch 44/1000\n",
      "77/77 [==============================] - 0s 2ms/step - loss: 0.6995 - accuracy: 0.0000e+00 - binary_accuracy: 0.5065 - my_mse: 0.2528 - binary_crossentropy: 0.6995 - hinge: 0.9708 - val_loss: 0.6925 - val_accuracy: 0.0000e+00 - val_binary_accuracy: 0.4813 - val_my_mse: 0.2497 - val_binary_crossentropy: 0.6925 - val_hinge: 1.0317\n",
      "Epoch 45/1000\n",
      "77/77 [==============================] - 0s 2ms/step - loss: 0.6970 - accuracy: 0.0000e+00 - binary_accuracy: 0.5236 - my_mse: 0.2517 - binary_crossentropy: 0.6970 - hinge: 0.9696 - val_loss: 0.6927 - val_accuracy: 0.0000e+00 - val_binary_accuracy: 0.4673 - val_my_mse: 0.2498 - val_binary_crossentropy: 0.6927 - val_hinge: 1.0318\n",
      "Epoch 46/1000\n",
      "77/77 [==============================] - 0s 2ms/step - loss: 0.7038 - accuracy: 0.0000e+00 - binary_accuracy: 0.4979 - my_mse: 0.2544 - binary_crossentropy: 0.7038 - hinge: 0.9722 - val_loss: 0.6926 - val_accuracy: 0.0000e+00 - val_binary_accuracy: 0.4720 - val_my_mse: 0.2497 - val_binary_crossentropy: 0.6926 - val_hinge: 1.0318\n",
      "Epoch 47/1000\n",
      "77/77 [==============================] - 0s 2ms/step - loss: 0.6998 - accuracy: 0.0000e+00 - binary_accuracy: 0.5164 - my_mse: 0.2531 - binary_crossentropy: 0.6998 - hinge: 0.9712 - val_loss: 0.6927 - val_accuracy: 0.0000e+00 - val_binary_accuracy: 0.4603 - val_my_mse: 0.2498 - val_binary_crossentropy: 0.6927 - val_hinge: 1.0318\n",
      "Epoch 48/1000\n",
      "77/77 [==============================] - 0s 2ms/step - loss: 0.7005 - accuracy: 0.0000e+00 - binary_accuracy: 0.5086 - my_mse: 0.2518 - binary_crossentropy: 0.7005 - hinge: 0.9702 - val_loss: 0.6929 - val_accuracy: 0.0000e+00 - val_binary_accuracy: 0.4579 - val_my_mse: 0.2499 - val_binary_crossentropy: 0.6929 - val_hinge: 1.0319\n"
     ]
    },
    {
     "name": "stdout",
     "output_type": "stream",
     "text": [
      "Epoch 49/1000\n",
      "77/77 [==============================] - 0s 2ms/step - loss: 0.7011 - accuracy: 0.0000e+00 - binary_accuracy: 0.5177 - my_mse: 0.2519 - binary_crossentropy: 0.7011 - hinge: 0.9701 - val_loss: 0.6930 - val_accuracy: 0.0000e+00 - val_binary_accuracy: 0.4579 - val_my_mse: 0.2500 - val_binary_crossentropy: 0.6930 - val_hinge: 1.0319\n",
      "Epoch 50/1000\n",
      "77/77 [==============================] - 0s 2ms/step - loss: 0.6993 - accuracy: 0.0000e+00 - binary_accuracy: 0.5052 - my_mse: 0.2528 - binary_crossentropy: 0.6993 - hinge: 0.9709 - val_loss: 0.6931 - val_accuracy: 0.0000e+00 - val_binary_accuracy: 0.4556 - val_my_mse: 0.2500 - val_binary_crossentropy: 0.6931 - val_hinge: 1.0320\n",
      "Epoch 51/1000\n",
      "77/77 [==============================] - 0s 2ms/step - loss: 0.7044 - accuracy: 0.0000e+00 - binary_accuracy: 0.5047 - my_mse: 0.2534 - binary_crossentropy: 0.7044 - hinge: 0.9715 - val_loss: 0.6932 - val_accuracy: 0.0000e+00 - val_binary_accuracy: 0.4579 - val_my_mse: 0.2501 - val_binary_crossentropy: 0.6932 - val_hinge: 1.0320\n",
      "Epoch 52/1000\n",
      "77/77 [==============================] - 0s 2ms/step - loss: 0.7013 - accuracy: 0.0000e+00 - binary_accuracy: 0.5234 - my_mse: 0.2521 - binary_crossentropy: 0.7013 - hinge: 0.9700 - val_loss: 0.6933 - val_accuracy: 0.0000e+00 - val_binary_accuracy: 0.4533 - val_my_mse: 0.2501 - val_binary_crossentropy: 0.6933 - val_hinge: 1.0320\n",
      "Epoch 53/1000\n",
      "77/77 [==============================] - 0s 2ms/step - loss: 0.6988 - accuracy: 0.0000e+00 - binary_accuracy: 0.5130 - my_mse: 0.2510 - binary_crossentropy: 0.6988 - hinge: 0.9692 - val_loss: 0.6935 - val_accuracy: 0.0000e+00 - val_binary_accuracy: 0.4603 - val_my_mse: 0.2502 - val_binary_crossentropy: 0.6935 - val_hinge: 1.0321\n",
      "Epoch 54/1000\n",
      "77/77 [==============================] - 0s 2ms/step - loss: 0.6974 - accuracy: 0.0000e+00 - binary_accuracy: 0.5236 - my_mse: 0.2519 - binary_crossentropy: 0.6974 - hinge: 0.9699 - val_loss: 0.6936 - val_accuracy: 0.0000e+00 - val_binary_accuracy: 0.4603 - val_my_mse: 0.2502 - val_binary_crossentropy: 0.6936 - val_hinge: 1.0321\n",
      "Epoch 55/1000\n",
      "77/77 [==============================] - 0s 2ms/step - loss: 0.6990 - accuracy: 0.0000e+00 - binary_accuracy: 0.5135 - my_mse: 0.2528 - binary_crossentropy: 0.6990 - hinge: 0.9712 - val_loss: 0.6937 - val_accuracy: 0.0000e+00 - val_binary_accuracy: 0.4579 - val_my_mse: 0.2503 - val_binary_crossentropy: 0.6937 - val_hinge: 1.0321\n",
      "Epoch 56/1000\n",
      "77/77 [==============================] - 0s 2ms/step - loss: 0.6972 - accuracy: 0.0000e+00 - binary_accuracy: 0.5120 - my_mse: 0.2519 - binary_crossentropy: 0.6972 - hinge: 0.9700 - val_loss: 0.6938 - val_accuracy: 0.0000e+00 - val_binary_accuracy: 0.4579 - val_my_mse: 0.2504 - val_binary_crossentropy: 0.6938 - val_hinge: 1.0322\n",
      "Epoch 57/1000\n",
      "77/77 [==============================] - 0s 2ms/step - loss: 0.6967 - accuracy: 0.0000e+00 - binary_accuracy: 0.5096 - my_mse: 0.2516 - binary_crossentropy: 0.6967 - hinge: 0.9700 - val_loss: 0.6939 - val_accuracy: 0.0000e+00 - val_binary_accuracy: 0.4650 - val_my_mse: 0.2504 - val_binary_crossentropy: 0.6939 - val_hinge: 1.0322\n",
      "Epoch 58/1000\n",
      "77/77 [==============================] - 0s 2ms/step - loss: 0.7011 - accuracy: 2.5988e-04 - binary_accuracy: 0.5138 - my_mse: 0.2537 - binary_crossentropy: 0.7011 - hinge: 0.9718 - val_loss: 0.6940 - val_accuracy: 0.0000e+00 - val_binary_accuracy: 0.4673 - val_my_mse: 0.2504 - val_binary_crossentropy: 0.6940 - val_hinge: 1.0322\n",
      "Epoch 59/1000\n",
      "77/77 [==============================] - 0s 2ms/step - loss: 0.6962 - accuracy: 0.0000e+00 - binary_accuracy: 0.5198 - my_mse: 0.2513 - binary_crossentropy: 0.6962 - hinge: 0.9693 - val_loss: 0.6941 - val_accuracy: 0.0000e+00 - val_binary_accuracy: 0.4696 - val_my_mse: 0.2505 - val_binary_crossentropy: 0.6941 - val_hinge: 1.0323\n",
      "Epoch 60/1000\n",
      "77/77 [==============================] - 0s 2ms/step - loss: 0.7006 - accuracy: 0.0000e+00 - binary_accuracy: 0.5133 - my_mse: 0.2535 - binary_crossentropy: 0.7006 - hinge: 0.9716 - val_loss: 0.6942 - val_accuracy: 0.0000e+00 - val_binary_accuracy: 0.4720 - val_my_mse: 0.2505 - val_binary_crossentropy: 0.6942 - val_hinge: 1.0323\n",
      "Epoch 61/1000\n",
      "77/77 [==============================] - 0s 2ms/step - loss: 0.7017 - accuracy: 2.5988e-04 - binary_accuracy: 0.5223 - my_mse: 0.2524 - binary_crossentropy: 0.7017 - hinge: 0.9702 - val_loss: 0.6942 - val_accuracy: 0.0000e+00 - val_binary_accuracy: 0.4720 - val_my_mse: 0.2506 - val_binary_crossentropy: 0.6942 - val_hinge: 1.0323\n",
      "Epoch 62/1000\n",
      "77/77 [==============================] - 0s 2ms/step - loss: 0.7046 - accuracy: 0.0000e+00 - binary_accuracy: 0.5112 - my_mse: 0.2537 - binary_crossentropy: 0.7046 - hinge: 0.9715 - val_loss: 0.6943 - val_accuracy: 0.0000e+00 - val_binary_accuracy: 0.4720 - val_my_mse: 0.2506 - val_binary_crossentropy: 0.6943 - val_hinge: 1.0323\n",
      "Epoch 63/1000\n",
      "77/77 [==============================] - 0s 2ms/step - loss: 0.7013 - accuracy: 0.0000e+00 - binary_accuracy: 0.5073 - my_mse: 0.2537 - binary_crossentropy: 0.7013 - hinge: 0.9718 - val_loss: 0.6943 - val_accuracy: 0.0000e+00 - val_binary_accuracy: 0.4720 - val_my_mse: 0.2506 - val_binary_crossentropy: 0.6943 - val_hinge: 1.0323\n",
      "Epoch 64/1000\n",
      "77/77 [==============================] - 0s 3ms/step - loss: 0.7000 - accuracy: 0.0000e+00 - binary_accuracy: 0.5068 - my_mse: 0.2529 - binary_crossentropy: 0.7000 - hinge: 0.9707 - val_loss: 0.6943 - val_accuracy: 0.0000e+00 - val_binary_accuracy: 0.4720 - val_my_mse: 0.2506 - val_binary_crossentropy: 0.6943 - val_hinge: 1.0323\n",
      "Epoch 65/1000\n",
      "77/77 [==============================] - 0s 2ms/step - loss: 0.7022 - accuracy: 2.5988e-04 - binary_accuracy: 0.5127 - my_mse: 0.2526 - binary_crossentropy: 0.7022 - hinge: 0.9707 - val_loss: 0.6943 - val_accuracy: 0.0000e+00 - val_binary_accuracy: 0.4696 - val_my_mse: 0.2506 - val_binary_crossentropy: 0.6943 - val_hinge: 1.0323\n",
      "Epoch 66/1000\n",
      "77/77 [==============================] - 0s 2ms/step - loss: 0.6985 - accuracy: 0.0000e+00 - binary_accuracy: 0.5161 - my_mse: 0.2524 - binary_crossentropy: 0.6985 - hinge: 0.9704 - val_loss: 0.6944 - val_accuracy: 0.0000e+00 - val_binary_accuracy: 0.4696 - val_my_mse: 0.2506 - val_binary_crossentropy: 0.6944 - val_hinge: 1.0324\n",
      "Epoch 67/1000\n",
      "77/77 [==============================] - 0s 2ms/step - loss: 0.6962 - accuracy: 0.0000e+00 - binary_accuracy: 0.5257 - my_mse: 0.2513 - binary_crossentropy: 0.6962 - hinge: 0.9694 - val_loss: 0.6944 - val_accuracy: 0.0000e+00 - val_binary_accuracy: 0.4696 - val_my_mse: 0.2507 - val_binary_crossentropy: 0.6944 - val_hinge: 1.0324\n",
      "Epoch 68/1000\n",
      "77/77 [==============================] - 0s 2ms/step - loss: 0.6988 - accuracy: 0.0000e+00 - binary_accuracy: 0.5159 - my_mse: 0.2525 - binary_crossentropy: 0.6988 - hinge: 0.9707 - val_loss: 0.6945 - val_accuracy: 0.0000e+00 - val_binary_accuracy: 0.4696 - val_my_mse: 0.2507 - val_binary_crossentropy: 0.6945 - val_hinge: 1.0324\n",
      "Epoch 69/1000\n",
      "77/77 [==============================] - 0s 2ms/step - loss: 0.7056 - accuracy: 2.5988e-04 - binary_accuracy: 0.5086 - my_mse: 0.2543 - binary_crossentropy: 0.7056 - hinge: 0.9721 - val_loss: 0.6945 - val_accuracy: 0.0000e+00 - val_binary_accuracy: 0.4720 - val_my_mse: 0.2507 - val_binary_crossentropy: 0.6945 - val_hinge: 1.0324\n",
      "Epoch 70/1000\n",
      "77/77 [==============================] - 0s 2ms/step - loss: 0.7039 - accuracy: 0.0000e+00 - binary_accuracy: 0.5166 - my_mse: 0.2534 - binary_crossentropy: 0.7039 - hinge: 0.9713 - val_loss: 0.6945 - val_accuracy: 0.0000e+00 - val_binary_accuracy: 0.4720 - val_my_mse: 0.2507 - val_binary_crossentropy: 0.6945 - val_hinge: 1.0324\n",
      "Epoch 71/1000\n",
      "77/77 [==============================] - 0s 2ms/step - loss: 0.6982 - accuracy: 2.5988e-04 - binary_accuracy: 0.5120 - my_mse: 0.2524 - binary_crossentropy: 0.6982 - hinge: 0.9706 - val_loss: 0.6946 - val_accuracy: 0.0000e+00 - val_binary_accuracy: 0.4720 - val_my_mse: 0.2507 - val_binary_crossentropy: 0.6946 - val_hinge: 1.0324\n"
     ]
    },
    {
     "data": {
      "text/plain": [
       "<keras.callbacks.History at 0x2920b53b5b0>"
      ]
     },
     "execution_count": 11,
     "metadata": {},
     "output_type": "execute_result"
    }
   ],
   "source": [
    "classifier = Sequential()\n",
    "classifier.add(Dense(256,  activation = 'relu'))\n",
    "classifier.add(Dropout(0.4))\n",
    "classifier.add(Dense(128,  activation = 'relu'))\n",
    "classifier.add(Dropout(0.4))\n",
    "classifier.add(Dense(64,  activation = 'relu'))\n",
    "classifier.add(Dense(32,  activation = 'relu'))\n",
    "classifier.add(Dense(16,  activation = 'relu'))\n",
    "classifier.add(Dense(8,  activation = 'relu'))\n",
    "# Adding the output layer\n",
    "classifier.add(Dense(1,  activation = 'relu'))\n",
    "\n",
    "# Compiling the ANN\n",
    "classifier.compile(optimizer = opt, loss = \"binary_crossentropy\", metrics = metrics)\n",
    "\n",
    "# Fitting the ANN to the Training set\n",
    "classifier.fit(X_train, y_train, batch_size = 50, epochs = 1000, validation_split = 0.10, callbacks = [esm],shuffle=False)"
   ]
  },
  {
   "cell_type": "code",
   "execution_count": 12,
   "metadata": {
    "scrolled": true
   },
   "outputs": [
    {
     "data": {
      "image/png": "[encoded data removed]",
      "text/plain": [
       "<Figure size 432x288 with 1 Axes>"
      ]
     },
     "metadata": {
      "needs_background": "light"
     },
     "output_type": "display_data"
    }
   ],
   "source": [
    "# Visualize the training and validation loss\n",
    "plt.plot(classifier.history.history[\"loss\"], label='train')\n",
    "plt.plot(classifier.history.history['val_loss'], label='validation')\n",
    "plt.legend()\n",
    "#x1,y1 =plt.axis()\n",
    "#plt.axis([0,0])\n",
    "#plt.ylim([0.5, 0.7])\n",
    "plt.title('Training/Validation Loss');\n",
    "# Evaluate the model >> model.metrics_names\n",
    "#print(f'{model.metrics_names}: {model.evaluate(Bitcoin_train, y_train , verbose=1)}')\n",
    "plt.show()"
   ]
  },
  {
   "cell_type": "markdown",
   "metadata": {},
   "source": [
    "# Save Accuracies"
   ]
  },
  {
   "cell_type": "code",
   "execution_count": 13,
   "metadata": {},
   "outputs": [],
   "source": [
    "y_prob = classifier.predict(X_test)\n",
    "y_pred = list(map(lambda x: 0 if x<0.5 else 1, y_prob))"
   ]
  },
  {
   "cell_type": "code",
   "execution_count": 14,
   "metadata": {},
   "outputs": [
    {
     "name": "stdout",
     "output_type": "stream",
     "text": [
      "0.48317757009345796\n"
     ]
    }
   ],
   "source": [
    "# Computing Accuracy, Precision and Recall\n",
    "accuracy = accuracy_score(y_test, y_pred)\n",
    "print(accuracy)"
   ]
  },
  {
   "cell_type": "code",
   "execution_count": 20,
   "metadata": {},
   "outputs": [],
   "source": [
    "df_prediction = pd.read_csv(\"../data/model_accuracy_IBM.csv\", index_col = False)\n",
    "df_prediction =  df_prediction.drop(columns=[\"Unnamed: 0\"])\n"
   ]
  },
  {
   "cell_type": "code",
   "execution_count": 21,
   "metadata": {},
   "outputs": [],
   "source": [
    "df_prediction[\"ANN_pred\"] = y_pred\n",
    "df_prediction[\"ANN_accuracy\"] = [accuracy for x in range(len(y_pred))]\n",
    "df_prediction[\"ANN_prob\"] = y_prob"
   ]
  },
  {
   "cell_type": "code",
   "execution_count": 22,
   "metadata": {},
   "outputs": [
    {
     "data": {
      "text/html": [
       "<div>\n",
       "<style scoped>\n",
       "    .dataframe tbody tr th:only-of-type {\n",
       "        vertical-align: middle;\n",
       "    }\n",
       "\n",
       "    .dataframe tbody tr th {\n",
       "        vertical-align: top;\n",
       "    }\n",
       "\n",
       "    .dataframe thead th {\n",
       "        text-align: right;\n",
       "    }\n",
       "</style>\n",
       "<table border=\"1\" class=\"dataframe\">\n",
       "  <thead>\n",
       "    <tr style=\"text-align: right;\">\n",
       "      <th></th>\n",
       "      <th>LogReg_pred</th>\n",
       "      <th>LogReg_accuracy</th>\n",
       "      <th>LogReg_prob</th>\n",
       "      <th>LGBM_pred</th>\n",
       "      <th>LGBM_accuracy</th>\n",
       "      <th>LGBM_prob</th>\n",
       "      <th>y</th>\n",
       "      <th>kNN_pred</th>\n",
       "      <th>kNN_accuracy</th>\n",
       "      <th>kNN_prob</th>\n",
       "      <th>ANN_pred</th>\n",
       "      <th>ANN_accuracy</th>\n",
       "      <th>ANN_prob</th>\n",
       "    </tr>\n",
       "  </thead>\n",
       "  <tbody>\n",
       "    <tr>\n",
       "      <th>0</th>\n",
       "      <td>0</td>\n",
       "      <td>0.48785</td>\n",
       "      <td>0.499232</td>\n",
       "      <td>0</td>\n",
       "      <td>0.48972</td>\n",
       "      <td>0.482038</td>\n",
       "      <td>0</td>\n",
       "      <td>0</td>\n",
       "      <td>0.508411</td>\n",
       "      <td>0.5</td>\n",
       "      <td>0</td>\n",
       "      <td>0.483178</td>\n",
       "      <td>0.490417</td>\n",
       "    </tr>\n",
       "    <tr>\n",
       "      <th>1</th>\n",
       "      <td>1</td>\n",
       "      <td>0.48785</td>\n",
       "      <td>0.504807</td>\n",
       "      <td>1</td>\n",
       "      <td>0.48972</td>\n",
       "      <td>0.516175</td>\n",
       "      <td>1</td>\n",
       "      <td>0</td>\n",
       "      <td>0.508411</td>\n",
       "      <td>0.5</td>\n",
       "      <td>1</td>\n",
       "      <td>0.483178</td>\n",
       "      <td>0.506478</td>\n",
       "    </tr>\n",
       "    <tr>\n",
       "      <th>2</th>\n",
       "      <td>1</td>\n",
       "      <td>0.48785</td>\n",
       "      <td>0.591117</td>\n",
       "      <td>1</td>\n",
       "      <td>0.48972</td>\n",
       "      <td>0.526401</td>\n",
       "      <td>1</td>\n",
       "      <td>0</td>\n",
       "      <td>0.508411</td>\n",
       "      <td>0.5</td>\n",
       "      <td>1</td>\n",
       "      <td>0.483178</td>\n",
       "      <td>0.594908</td>\n",
       "    </tr>\n",
       "    <tr>\n",
       "      <th>3</th>\n",
       "      <td>1</td>\n",
       "      <td>0.48785</td>\n",
       "      <td>0.595272</td>\n",
       "      <td>1</td>\n",
       "      <td>0.48972</td>\n",
       "      <td>0.515859</td>\n",
       "      <td>1</td>\n",
       "      <td>1</td>\n",
       "      <td>0.508411</td>\n",
       "      <td>1.0</td>\n",
       "      <td>1</td>\n",
       "      <td>0.483178</td>\n",
       "      <td>0.625306</td>\n",
       "    </tr>\n",
       "    <tr>\n",
       "      <th>4</th>\n",
       "      <td>1</td>\n",
       "      <td>0.48785</td>\n",
       "      <td>0.590655</td>\n",
       "      <td>1</td>\n",
       "      <td>0.48972</td>\n",
       "      <td>0.515859</td>\n",
       "      <td>1</td>\n",
       "      <td>1</td>\n",
       "      <td>0.508411</td>\n",
       "      <td>1.0</td>\n",
       "      <td>1</td>\n",
       "      <td>0.483178</td>\n",
       "      <td>0.620808</td>\n",
       "    </tr>\n",
       "    <tr>\n",
       "      <th>...</th>\n",
       "      <td>...</td>\n",
       "      <td>...</td>\n",
       "      <td>...</td>\n",
       "      <td>...</td>\n",
       "      <td>...</td>\n",
       "      <td>...</td>\n",
       "      <td>...</td>\n",
       "      <td>...</td>\n",
       "      <td>...</td>\n",
       "      <td>...</td>\n",
       "      <td>...</td>\n",
       "      <td>...</td>\n",
       "      <td>...</td>\n",
       "    </tr>\n",
       "    <tr>\n",
       "      <th>1065</th>\n",
       "      <td>1</td>\n",
       "      <td>0.48785</td>\n",
       "      <td>0.543262</td>\n",
       "      <td>1</td>\n",
       "      <td>0.48972</td>\n",
       "      <td>0.536454</td>\n",
       "      <td>1</td>\n",
       "      <td>0</td>\n",
       "      <td>0.508411</td>\n",
       "      <td>0.5</td>\n",
       "      <td>1</td>\n",
       "      <td>0.483178</td>\n",
       "      <td>0.507600</td>\n",
       "    </tr>\n",
       "    <tr>\n",
       "      <th>1066</th>\n",
       "      <td>1</td>\n",
       "      <td>0.48785</td>\n",
       "      <td>0.570132</td>\n",
       "      <td>1</td>\n",
       "      <td>0.48972</td>\n",
       "      <td>0.521491</td>\n",
       "      <td>1</td>\n",
       "      <td>1</td>\n",
       "      <td>0.508411</td>\n",
       "      <td>1.0</td>\n",
       "      <td>1</td>\n",
       "      <td>0.483178</td>\n",
       "      <td>0.546710</td>\n",
       "    </tr>\n",
       "    <tr>\n",
       "      <th>1067</th>\n",
       "      <td>1</td>\n",
       "      <td>0.48785</td>\n",
       "      <td>0.542180</td>\n",
       "      <td>1</td>\n",
       "      <td>0.48972</td>\n",
       "      <td>0.537546</td>\n",
       "      <td>0</td>\n",
       "      <td>1</td>\n",
       "      <td>0.508411</td>\n",
       "      <td>1.0</td>\n",
       "      <td>1</td>\n",
       "      <td>0.483178</td>\n",
       "      <td>0.533604</td>\n",
       "    </tr>\n",
       "    <tr>\n",
       "      <th>1068</th>\n",
       "      <td>1</td>\n",
       "      <td>0.48785</td>\n",
       "      <td>0.569741</td>\n",
       "      <td>1</td>\n",
       "      <td>0.48972</td>\n",
       "      <td>0.521313</td>\n",
       "      <td>1</td>\n",
       "      <td>0</td>\n",
       "      <td>0.508411</td>\n",
       "      <td>0.5</td>\n",
       "      <td>1</td>\n",
       "      <td>0.483178</td>\n",
       "      <td>0.560094</td>\n",
       "    </tr>\n",
       "    <tr>\n",
       "      <th>1069</th>\n",
       "      <td>1</td>\n",
       "      <td>0.48785</td>\n",
       "      <td>0.543188</td>\n",
       "      <td>1</td>\n",
       "      <td>0.48972</td>\n",
       "      <td>0.521491</td>\n",
       "      <td>0</td>\n",
       "      <td>1</td>\n",
       "      <td>0.508411</td>\n",
       "      <td>1.0</td>\n",
       "      <td>1</td>\n",
       "      <td>0.483178</td>\n",
       "      <td>0.541299</td>\n",
       "    </tr>\n",
       "  </tbody>\n",
       "</table>\n",
       "<p>1070 rows × 13 columns</p>\n",
       "</div>"
      ],
      "text/plain": [
       "      LogReg_pred  LogReg_accuracy  LogReg_prob  LGBM_pred  LGBM_accuracy  \\\n",
       "0               0          0.48785     0.499232          0        0.48972   \n",
       "1               1          0.48785     0.504807          1        0.48972   \n",
       "2               1          0.48785     0.591117          1        0.48972   \n",
       "3               1          0.48785     0.595272          1        0.48972   \n",
       "4               1          0.48785     0.590655          1        0.48972   \n",
       "...           ...              ...          ...        ...            ...   \n",
       "1065            1          0.48785     0.543262          1        0.48972   \n",
       "1066            1          0.48785     0.570132          1        0.48972   \n",
       "1067            1          0.48785     0.542180          1        0.48972   \n",
       "1068            1          0.48785     0.569741          1        0.48972   \n",
       "1069            1          0.48785     0.543188          1        0.48972   \n",
       "\n",
       "      LGBM_prob  y  kNN_pred  kNN_accuracy  kNN_prob  ANN_pred  ANN_accuracy  \\\n",
       "0      0.482038  0         0      0.508411       0.5         0      0.483178   \n",
       "1      0.516175  1         0      0.508411       0.5         1      0.483178   \n",
       "2      0.526401  1         0      0.508411       0.5         1      0.483178   \n",
       "3      0.515859  1         1      0.508411       1.0         1      0.483178   \n",
       "4      0.515859  1         1      0.508411       1.0         1      0.483178   \n",
       "...         ... ..       ...           ...       ...       ...           ...   \n",
       "1065   0.536454  1         0      0.508411       0.5         1      0.483178   \n",
       "1066   0.521491  1         1      0.508411       1.0         1      0.483178   \n",
       "1067   0.537546  0         1      0.508411       1.0         1      0.483178   \n",
       "1068   0.521313  1         0      0.508411       0.5         1      0.483178   \n",
       "1069   0.521491  0         1      0.508411       1.0         1      0.483178   \n",
       "\n",
       "      ANN_prob  \n",
       "0     0.490417  \n",
       "1     0.506478  \n",
       "2     0.594908  \n",
       "3     0.625306  \n",
       "4     0.620808  \n",
       "...        ...  \n",
       "1065  0.507600  \n",
       "1066  0.546710  \n",
       "1067  0.533604  \n",
       "1068  0.560094  \n",
       "1069  0.541299  \n",
       "\n",
       "[1070 rows x 13 columns]"
      ]
     },
     "execution_count": 22,
     "metadata": {},
     "output_type": "execute_result"
    }
   ],
   "source": [
    "df_prediction"
   ]
  },
  {
   "cell_type": "code",
   "execution_count": 23,
   "metadata": {},
   "outputs": [],
   "source": [
    "df_prediction.to_csv(\"../data/model_accuracy_IBM.csv\")"
   ]
  },
  {
   "cell_type": "code",
   "execution_count": null,
   "metadata": {},
   "outputs": [],
   "source": []
  }
 ],
 "metadata": {
  "kernelspec": {
   "display_name": "Python 3 (ipykernel)",
   "language": "python",
   "name": "python3"
  },
  "language_info": {
   "codemirror_mode": {
    "name": "ipython",
    "version": 3
   },
   "file_extension": ".py",
   "mimetype": "text/x-python",
   "name": "python",
   "nbconvert_exporter": "python",
   "pygments_lexer": "ipython3",
   "version": "3.9.12"
  }
 },
 "nbformat": 4,
 "nbformat_minor": 2
}
