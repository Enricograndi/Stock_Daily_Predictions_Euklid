{
 "cells": [
  {
   "cell_type": "code",
   "execution_count": 1,
   "metadata": {
    "scrolled": true
   },
   "outputs": [],
   "source": [
    "# General libraries\n",
    "import pandas as pd\n",
    "import numpy as np\n",
    "from sklearn.model_selection import GridSearchCV\n",
    "# Machine Learning Libraries\n",
    "from sklearn.model_selection import train_test_split\n",
    "from sklearn.metrics import accuracy_score\n",
    "# Models libraries\n",
    "from sklearn import svm\n",
    "# Models tuning libraries\n",
    "from sklearn.model_selection import GridSearchCV"
   ]
  },
  {
   "cell_type": "markdown",
   "metadata": {},
   "source": [
    "## Preliminary work on the dataset"
   ]
  },
  {
   "cell_type": "code",
   "execution_count": 2,
   "metadata": {
    "scrolled": true
   },
   "outputs": [],
   "source": [
    "yahoo_df = pd.read_csv(\"../data/NSQ.csv\")\n",
    "yahoo_df = yahoo_df.set_index(\"Date\")\n",
    "\n",
    "X = yahoo_df[['ROC_30', '4 Day ROI', 'EMA_12', 'MACD_12_26_9', 'SRSI_30',\n",
    "       'Williams_14', 'ATR_14', 'Previous_differenced']]\n",
    "y = yahoo_df[\"Up down\"]\n",
    "\n",
    "# Split in 80/20 the dataframeX\n",
    "X_train_80, X_test, y_train_80, y_test = train_test_split(X, y, test_size = 0.20,\n",
    "                                                          shuffle=False)\n",
    "\n",
    "# Split in 75/25 the remaining 80 %\n",
    "X_train, X_valid, y_train, y_valid = train_test_split(X_train_80, y_train_80,\n",
    "                                                      test_size = 0.25, shuffle=False)"
   ]
  },
  {
   "cell_type": "markdown",
   "metadata": {},
   "source": [
    "# Normalize"
   ]
  },
  {
   "cell_type": "code",
   "execution_count": 3,
   "metadata": {},
   "outputs": [],
   "source": [
    "def shift_norm(df):\n",
    "    #df = data\n",
    "    for column in df:\n",
    "        df[column]=((df[column]-df[column].mean())/df[column].std())\n",
    "    return df"
   ]
  },
  {
   "cell_type": "code",
   "execution_count": 4,
   "metadata": {},
   "outputs": [],
   "source": [
    "X_train_80 = shift_norm(X_train_80)\n",
    "X_test = shift_norm(X_test)"
   ]
  },
  {
   "cell_type": "code",
   "execution_count": 5,
   "metadata": {},
   "outputs": [],
   "source": [
    "X_train = shift_norm(X_train)\n",
    "X_valid = shift_norm(X_valid)"
   ]
  },
  {
   "cell_type": "markdown",
   "metadata": {},
   "source": [
    "# Support Vector Machine (SVC)"
   ]
  },
  {
   "cell_type": "code",
   "execution_count": 6,
   "metadata": {},
   "outputs": [
    {
     "name": "stdout",
     "output_type": "stream",
     "text": [
      "Train Accuracy: 0.53529 - Validation Accuracy: 0.55860\n"
     ]
    }
   ],
   "source": [
    "SVC = svm.SVC(random_state = 42, kernel='linear')\n",
    "\n",
    "# Fit the model\n",
    "SVC.fit(X_train, y_train)\n",
    "\n",
    "# Predict\n",
    "y_pred_train = SVC.predict(X_train)\n",
    "y_pred_valid = SVC.predict(X_valid)\n",
    "\n",
    "# Compute accuracy\n",
    "train_acc = accuracy_score(y_train, y_pred_train)\n",
    "valid_acc = accuracy_score(y_valid, y_pred_valid)\n",
    "print(\"Train Accuracy: {:.5f} - Validation Accuracy: {:.5f}\".format(train_acc, valid_acc))"
   ]
  },
  {
   "cell_type": "code",
   "execution_count": 7,
   "metadata": {},
   "outputs": [
    {
     "name": "stdout",
     "output_type": "stream",
     "text": [
      "Test Accuracy: 0.55860\n"
     ]
    }
   ],
   "source": [
    "y_pred_test = SVC.predict(X_test)\n",
    "# Finally evaluate on test\n",
    "test_acc = accuracy_score(y_test, y_pred_test)\n",
    "print (\"Test Accuracy: {:.5f}\".format(test_acc) )\n",
    "\n",
    "# Store the Test Accuracy \n",
    "SVC_accuracy_test = test_acc"
   ]
  },
  {
   "cell_type": "markdown",
   "metadata": {},
   "source": [
    "### Tuning parametres with GridSearchCV(VERY SLOW!!)\n",
    "\n",
    "We make parameters tuning using the GridSearchCV instance. This one allows us to fit on a dataset all the possible combinations of parameter values. Moreover it evaluates and retaines the best combination of parameters."
   ]
  },
  {
   "cell_type": "markdown",
   "metadata": {
    "scrolled": true
   },
   "source": [
    "# Applying Gridsearchcv for parameters tuning\n",
    "# 'poly' --> molto lento\n",
    "# Setting C parameters\n",
    "parameters = [{'C': [0.1, 1.0, 10, 50, 100 ],\n",
    "              'gamma': [1,0.1,0.001],\n",
    "                'kernel': ['linear','rbf', 'sigmoid',\"poly\"]\n",
    "              }] \n",
    "best_SVC = GridSearchCV(estimator = svm.SVC(),refit=True,verbose=2,\n",
    "                             param_grid = parameters, scoring = 'accuracy')\n",
    "\n",
    "# Fit the model\n",
    "best_SVC.fit(X_train, y_train)\n",
    "\n",
    "print(best_SVC.best_estimator_)"
   ]
  },
  {
   "cell_type": "code",
   "execution_count": 8,
   "metadata": {},
   "outputs": [
    {
     "name": "stdout",
     "output_type": "stream",
     "text": [
      "Train Accuracy: 0.53529 - Validation Accuracy: 0.55860\n"
     ]
    }
   ],
   "source": [
    "SVC = svm.SVC(C=10, gamma=1, kernel='linear',probability=True)\n",
    "\n",
    "# Fit the model\n",
    "SVC.fit(X_train_80, y_train_80)\n",
    "\n",
    "# Predict\n",
    "y_pred_train = SVC.predict(X_train)\n",
    "y_pred_valid = SVC.predict(X_valid)\n",
    "\n",
    "# Compute accuracy\n",
    "train_acc = accuracy_score(y_train, y_pred_train)\n",
    "valid_acc = accuracy_score(y_valid, y_pred_valid)\n",
    "print(\"Train Accuracy: {:.5f} - Validation Accuracy: {:.5f}\".format(train_acc, valid_acc))"
   ]
  },
  {
   "cell_type": "code",
   "execution_count": 9,
   "metadata": {},
   "outputs": [
    {
     "name": "stdout",
     "output_type": "stream",
     "text": [
      "Test Accuracy: 0.55860\n"
     ]
    }
   ],
   "source": [
    "y_pred_test = SVC.predict(X_test)\n",
    "y_prob = SVC.predict_proba(X_test)[:,1]\n",
    "\n",
    "# Finally evaluate on test\n",
    "test_acc = accuracy_score(y_test, y_pred_test)\n",
    "print (\"Test Accuracy: {:.5f}\".format(test_acc) )\n",
    "\n",
    "# Store the Test Accuracy \n",
    "SVC_accuracy_test = test_acc"
   ]
  },
  {
   "cell_type": "markdown",
   "metadata": {},
   "source": [
    "# Predict on all data "
   ]
  },
  {
   "cell_type": "code",
   "execution_count": 15,
   "metadata": {},
   "outputs": [
    {
     "data": {
      "text/html": [
       "<div>\n",
       "<style scoped>\n",
       "    .dataframe tbody tr th:only-of-type {\n",
       "        vertical-align: middle;\n",
       "    }\n",
       "\n",
       "    .dataframe tbody tr th {\n",
       "        vertical-align: top;\n",
       "    }\n",
       "\n",
       "    .dataframe thead th {\n",
       "        text-align: right;\n",
       "    }\n",
       "</style>\n",
       "<table border=\"1\" class=\"dataframe\">\n",
       "  <thead>\n",
       "    <tr style=\"text-align: right;\">\n",
       "      <th></th>\n",
       "      <th>RF_pred</th>\n",
       "      <th>RF_accuracy</th>\n",
       "      <th>RF_prob</th>\n",
       "      <th>SVC_pred</th>\n",
       "      <th>SVC_accuracy</th>\n",
       "      <th>SVC_prob</th>\n",
       "    </tr>\n",
       "  </thead>\n",
       "  <tbody>\n",
       "    <tr>\n",
       "      <th>0</th>\n",
       "      <td>1</td>\n",
       "      <td>0.523629</td>\n",
       "      <td>0.657543</td>\n",
       "      <td>1</td>\n",
       "      <td>0.558601</td>\n",
       "      <td>0.544082</td>\n",
       "    </tr>\n",
       "    <tr>\n",
       "      <th>1</th>\n",
       "      <td>0</td>\n",
       "      <td>0.523629</td>\n",
       "      <td>0.324182</td>\n",
       "      <td>1</td>\n",
       "      <td>0.558601</td>\n",
       "      <td>0.544076</td>\n",
       "    </tr>\n",
       "    <tr>\n",
       "      <th>2</th>\n",
       "      <td>0</td>\n",
       "      <td>0.523629</td>\n",
       "      <td>0.496864</td>\n",
       "      <td>1</td>\n",
       "      <td>0.558601</td>\n",
       "      <td>0.545460</td>\n",
       "    </tr>\n",
       "    <tr>\n",
       "      <th>3</th>\n",
       "      <td>1</td>\n",
       "      <td>0.523629</td>\n",
       "      <td>0.574333</td>\n",
       "      <td>1</td>\n",
       "      <td>0.558601</td>\n",
       "      <td>0.545009</td>\n",
       "    </tr>\n",
       "    <tr>\n",
       "      <th>4</th>\n",
       "      <td>0</td>\n",
       "      <td>0.523629</td>\n",
       "      <td>0.421569</td>\n",
       "      <td>1</td>\n",
       "      <td>0.558601</td>\n",
       "      <td>0.543872</td>\n",
       "    </tr>\n",
       "    <tr>\n",
       "      <th>...</th>\n",
       "      <td>...</td>\n",
       "      <td>...</td>\n",
       "      <td>...</td>\n",
       "      <td>...</td>\n",
       "      <td>...</td>\n",
       "      <td>...</td>\n",
       "    </tr>\n",
       "    <tr>\n",
       "      <th>1053</th>\n",
       "      <td>1</td>\n",
       "      <td>0.523629</td>\n",
       "      <td>0.679418</td>\n",
       "      <td>1</td>\n",
       "      <td>0.558601</td>\n",
       "      <td>0.539406</td>\n",
       "    </tr>\n",
       "    <tr>\n",
       "      <th>1054</th>\n",
       "      <td>1</td>\n",
       "      <td>0.523629</td>\n",
       "      <td>0.555801</td>\n",
       "      <td>1</td>\n",
       "      <td>0.558601</td>\n",
       "      <td>0.537904</td>\n",
       "    </tr>\n",
       "    <tr>\n",
       "      <th>1055</th>\n",
       "      <td>1</td>\n",
       "      <td>0.523629</td>\n",
       "      <td>0.573323</td>\n",
       "      <td>1</td>\n",
       "      <td>0.558601</td>\n",
       "      <td>0.540966</td>\n",
       "    </tr>\n",
       "    <tr>\n",
       "      <th>1056</th>\n",
       "      <td>1</td>\n",
       "      <td>0.523629</td>\n",
       "      <td>0.719503</td>\n",
       "      <td>1</td>\n",
       "      <td>0.558601</td>\n",
       "      <td>0.536726</td>\n",
       "    </tr>\n",
       "    <tr>\n",
       "      <th>1057</th>\n",
       "      <td>1</td>\n",
       "      <td>0.523629</td>\n",
       "      <td>0.531916</td>\n",
       "      <td>1</td>\n",
       "      <td>0.558601</td>\n",
       "      <td>0.541307</td>\n",
       "    </tr>\n",
       "  </tbody>\n",
       "</table>\n",
       "<p>1058 rows × 6 columns</p>\n",
       "</div>"
      ],
      "text/plain": [
       "      RF_pred  RF_accuracy   RF_prob  SVC_pred  SVC_accuracy  SVC_prob\n",
       "0           1     0.523629  0.657543         1      0.558601  0.544082\n",
       "1           0     0.523629  0.324182         1      0.558601  0.544076\n",
       "2           0     0.523629  0.496864         1      0.558601  0.545460\n",
       "3           1     0.523629  0.574333         1      0.558601  0.545009\n",
       "4           0     0.523629  0.421569         1      0.558601  0.543872\n",
       "...       ...          ...       ...       ...           ...       ...\n",
       "1053        1     0.523629  0.679418         1      0.558601  0.539406\n",
       "1054        1     0.523629  0.555801         1      0.558601  0.537904\n",
       "1055        1     0.523629  0.573323         1      0.558601  0.540966\n",
       "1056        1     0.523629  0.719503         1      0.558601  0.536726\n",
       "1057        1     0.523629  0.531916         1      0.558601  0.541307\n",
       "\n",
       "[1058 rows x 6 columns]"
      ]
     },
     "execution_count": 15,
     "metadata": {},
     "output_type": "execute_result"
    }
   ],
   "source": [
    "df_prediction = pd.read_csv(\"../data/model_accuracy_nsq.csv\", index_col = False)\n",
    "df_prediction =  df_prediction.drop(columns=[\"Unnamed: 0\"])\n",
    "\n",
    "df_prediction"
   ]
  },
  {
   "cell_type": "code",
   "execution_count": 11,
   "metadata": {},
   "outputs": [],
   "source": [
    "df_prediction[\"SVC_pred\"] = y_pred_test\n",
    "df_prediction[\"SVC_accuracy\"] = [SVC_accuracy_test for x in range(len(y_pred_test))]\n",
    "df_prediction[\"SVC_prob\"] = y_prob\n"
   ]
  },
  {
   "cell_type": "code",
   "execution_count": 12,
   "metadata": {},
   "outputs": [
    {
     "data": {
      "text/html": [
       "<div>\n",
       "<style scoped>\n",
       "    .dataframe tbody tr th:only-of-type {\n",
       "        vertical-align: middle;\n",
       "    }\n",
       "\n",
       "    .dataframe tbody tr th {\n",
       "        vertical-align: top;\n",
       "    }\n",
       "\n",
       "    .dataframe thead th {\n",
       "        text-align: right;\n",
       "    }\n",
       "</style>\n",
       "<table border=\"1\" class=\"dataframe\">\n",
       "  <thead>\n",
       "    <tr style=\"text-align: right;\">\n",
       "      <th></th>\n",
       "      <th>RF_pred</th>\n",
       "      <th>RF_accuracy</th>\n",
       "      <th>RF_prob</th>\n",
       "      <th>SVC_pred</th>\n",
       "      <th>SVC_accuracy</th>\n",
       "      <th>SVC_prob</th>\n",
       "    </tr>\n",
       "  </thead>\n",
       "  <tbody>\n",
       "    <tr>\n",
       "      <th>0</th>\n",
       "      <td>1</td>\n",
       "      <td>0.523629</td>\n",
       "      <td>0.657543</td>\n",
       "      <td>1</td>\n",
       "      <td>0.558601</td>\n",
       "      <td>0.544082</td>\n",
       "    </tr>\n",
       "    <tr>\n",
       "      <th>1</th>\n",
       "      <td>0</td>\n",
       "      <td>0.523629</td>\n",
       "      <td>0.324182</td>\n",
       "      <td>1</td>\n",
       "      <td>0.558601</td>\n",
       "      <td>0.544076</td>\n",
       "    </tr>\n",
       "    <tr>\n",
       "      <th>2</th>\n",
       "      <td>0</td>\n",
       "      <td>0.523629</td>\n",
       "      <td>0.496864</td>\n",
       "      <td>1</td>\n",
       "      <td>0.558601</td>\n",
       "      <td>0.545460</td>\n",
       "    </tr>\n",
       "    <tr>\n",
       "      <th>3</th>\n",
       "      <td>1</td>\n",
       "      <td>0.523629</td>\n",
       "      <td>0.574333</td>\n",
       "      <td>1</td>\n",
       "      <td>0.558601</td>\n",
       "      <td>0.545009</td>\n",
       "    </tr>\n",
       "    <tr>\n",
       "      <th>4</th>\n",
       "      <td>0</td>\n",
       "      <td>0.523629</td>\n",
       "      <td>0.421569</td>\n",
       "      <td>1</td>\n",
       "      <td>0.558601</td>\n",
       "      <td>0.543872</td>\n",
       "    </tr>\n",
       "    <tr>\n",
       "      <th>...</th>\n",
       "      <td>...</td>\n",
       "      <td>...</td>\n",
       "      <td>...</td>\n",
       "      <td>...</td>\n",
       "      <td>...</td>\n",
       "      <td>...</td>\n",
       "    </tr>\n",
       "    <tr>\n",
       "      <th>1053</th>\n",
       "      <td>1</td>\n",
       "      <td>0.523629</td>\n",
       "      <td>0.679418</td>\n",
       "      <td>1</td>\n",
       "      <td>0.558601</td>\n",
       "      <td>0.539406</td>\n",
       "    </tr>\n",
       "    <tr>\n",
       "      <th>1054</th>\n",
       "      <td>1</td>\n",
       "      <td>0.523629</td>\n",
       "      <td>0.555801</td>\n",
       "      <td>1</td>\n",
       "      <td>0.558601</td>\n",
       "      <td>0.537904</td>\n",
       "    </tr>\n",
       "    <tr>\n",
       "      <th>1055</th>\n",
       "      <td>1</td>\n",
       "      <td>0.523629</td>\n",
       "      <td>0.573323</td>\n",
       "      <td>1</td>\n",
       "      <td>0.558601</td>\n",
       "      <td>0.540966</td>\n",
       "    </tr>\n",
       "    <tr>\n",
       "      <th>1056</th>\n",
       "      <td>1</td>\n",
       "      <td>0.523629</td>\n",
       "      <td>0.719503</td>\n",
       "      <td>1</td>\n",
       "      <td>0.558601</td>\n",
       "      <td>0.536726</td>\n",
       "    </tr>\n",
       "    <tr>\n",
       "      <th>1057</th>\n",
       "      <td>1</td>\n",
       "      <td>0.523629</td>\n",
       "      <td>0.531916</td>\n",
       "      <td>1</td>\n",
       "      <td>0.558601</td>\n",
       "      <td>0.541307</td>\n",
       "    </tr>\n",
       "  </tbody>\n",
       "</table>\n",
       "<p>1058 rows × 6 columns</p>\n",
       "</div>"
      ],
      "text/plain": [
       "      RF_pred  RF_accuracy   RF_prob  SVC_pred  SVC_accuracy  SVC_prob\n",
       "0           1     0.523629  0.657543         1      0.558601  0.544082\n",
       "1           0     0.523629  0.324182         1      0.558601  0.544076\n",
       "2           0     0.523629  0.496864         1      0.558601  0.545460\n",
       "3           1     0.523629  0.574333         1      0.558601  0.545009\n",
       "4           0     0.523629  0.421569         1      0.558601  0.543872\n",
       "...       ...          ...       ...       ...           ...       ...\n",
       "1053        1     0.523629  0.679418         1      0.558601  0.539406\n",
       "1054        1     0.523629  0.555801         1      0.558601  0.537904\n",
       "1055        1     0.523629  0.573323         1      0.558601  0.540966\n",
       "1056        1     0.523629  0.719503         1      0.558601  0.536726\n",
       "1057        1     0.523629  0.531916         1      0.558601  0.541307\n",
       "\n",
       "[1058 rows x 6 columns]"
      ]
     },
     "execution_count": 12,
     "metadata": {},
     "output_type": "execute_result"
    }
   ],
   "source": [
    "df_prediction"
   ]
  },
  {
   "cell_type": "code",
   "execution_count": 13,
   "metadata": {},
   "outputs": [],
   "source": [
    "df_prediction.to_csv(\"../data/model_accuracy_nsq.csv\")"
   ]
  },
  {
   "cell_type": "code",
   "execution_count": 14,
   "metadata": {
    "scrolled": false
   },
   "outputs": [],
   "source": [
    "# Plot the confusion matrix\n",
    "#conf_stat = confusion_matrix(y_test, y_pred_test)\n",
    "#ut.plot_confusion_matrix(conf_stat, Linearmodel_nt.classes_)"
   ]
  }
 ],
 "metadata": {
  "kernelspec": {
   "display_name": "Python 3 (ipykernel)",
   "language": "python",
   "name": "python3"
  },
  "language_info": {
   "codemirror_mode": {
    "name": "ipython",
    "version": 3
   },
   "file_extension": ".py",
   "mimetype": "text/x-python",
   "name": "python",
   "nbconvert_exporter": "python",
   "pygments_lexer": "ipython3",
   "version": "3.9.12"
  }
 },
 "nbformat": 4,
 "nbformat_minor": 2
}
