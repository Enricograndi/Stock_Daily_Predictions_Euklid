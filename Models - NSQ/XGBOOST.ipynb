{
 "cells": [
  {
   "cell_type": "code",
   "execution_count": 1,
   "metadata": {
    "scrolled": true
   },
   "outputs": [],
   "source": [
    "# General libraries\n",
    "import pandas as pd\n",
    "import numpy as np\n",
    "from sklearn.model_selection import GridSearchCV\n",
    "# Machine Learning Libraries\n",
    "from sklearn.model_selection import train_test_split\n",
    "from sklearn.metrics import accuracy_score\n",
    "# Import Logistic Regression function\n",
    "# Import XGBoost Classifier\n",
    "from xgboost import XGBClassifier"
   ]
  },
  {
   "cell_type": "code",
   "execution_count": 2,
   "metadata": {},
   "outputs": [],
   "source": [
    "#print(\"Num GPUs Available: \", len(tf.config.list_physical_devices('GPU')))\n",
    "#config = tf.compat.v1.ConfigProto(device_count = {'GPU': 1})"
   ]
  },
  {
   "cell_type": "markdown",
   "metadata": {},
   "source": [
    "## Preliminary work on the dataset"
   ]
  },
  {
   "cell_type": "code",
   "execution_count": 3,
   "metadata": {
    "scrolled": true
   },
   "outputs": [],
   "source": [
    "yahoo_df = pd.read_csv(\"../data/NSQ.csv\")\n",
    "yahoo_df = yahoo_df.set_index(\"Date\")\n",
    "\n",
    "X = yahoo_df[['ROC_30', '4 Day ROI', 'EMA_12', 'MACD_12_26_9', 'SRSI_30',\n",
    "       'Williams_14', 'ATR_14', 'Previous_differenced']]\n",
    "y = yahoo_df[\"Up down\"]\n",
    "\n",
    "# Split in 80/20 the dataframeX\n",
    "X_train_80, X_test, y_train_80, y_test = train_test_split(X, y, test_size = 0.20,\n",
    "                                                          shuffle=False)\n",
    "\n",
    "# Split in 75/25 the remaining 80 %\n",
    "X_train, X_valid, y_train, y_valid = train_test_split(X_train_80, y_train_80,\n",
    "                                                      test_size = 0.25, shuffle=False)\n"
   ]
  },
  {
   "cell_type": "markdown",
   "metadata": {},
   "source": [
    "# Normalize"
   ]
  },
  {
   "cell_type": "code",
   "execution_count": 4,
   "metadata": {},
   "outputs": [],
   "source": [
    "def shift_norm(df):\n",
    "    #df = data\n",
    "    for column in df:\n",
    "        df[column]=((df[column]-df[column].mean())/df[column].std())\n",
    "    return df"
   ]
  },
  {
   "cell_type": "code",
   "execution_count": 5,
   "metadata": {},
   "outputs": [],
   "source": [
    "X_train_80 = shift_norm(X_train_80)\n",
    "X_test = shift_norm(X_test)"
   ]
  },
  {
   "cell_type": "code",
   "execution_count": 6,
   "metadata": {},
   "outputs": [],
   "source": [
    "X_train = shift_norm(X_train)\n",
    "X_valid = shift_norm(X_valid)"
   ]
  },
  {
   "cell_type": "markdown",
   "metadata": {},
   "source": [
    "# Gradient Boosting Classifier (XGboost)"
   ]
  },
  {
   "cell_type": "markdown",
   "metadata": {},
   "source": [
    "XGboost is a library based on GradientBoostingClassifier. Many consider it as one of the best algorithms and, due to its great performance for regression and classification problems, would recommend it as a first choice in many situations. XGBoost has become famous for winning tons of Kaggle competitions, is now used in many industry-application, and is even implemented within machine-learning platforms, such as BigQuery ML.\n",
    "\n",
    "GBoosting is a sequential technique which works on the principle of ensemble. It combines a set of weak learners and delivers improved prediction accuracy. At any instant t, the model outcomes are weighed based on the outcomes of previous instant t-1. The outcomes predicted correctly are given a lower weight and the ones miss-classified are weighted higher. This technique is followed for a classification problem while a similar technique is used for regression.\n",
    "\n",
    "- Pros\n",
    "\n",
    "It is extremely powerful machine learning classifier.\n",
    "Accepts various types of inputs that make it more flexible.\n",
    "It can be used for both regression and classification.\n",
    "It gives you features important for the output.\n",
    "\n",
    "- Cons\n",
    "\n",
    "It takes longer time to train as it can’t be parallelized.\n",
    "More likely to overfit as it obsessed with the wrong output as it learns from past mistakes.\n",
    "In some cases, Tuning is very hard as it has many parameters to tune."
   ]
  },
  {
   "cell_type": "code",
   "execution_count": 7,
   "metadata": {
    "scrolled": true
   },
   "outputs": [
    {
     "name": "stdout",
     "output_type": "stream",
     "text": [
      "Train Accuracy: 0.98519 - Validation Accuracy: 0.51134\n"
     ]
    }
   ],
   "source": [
    "# Fit the model\n",
    "XGB = XGBClassifier(random_state = 42)\n",
    "XGB.fit(X_train, y_train)\n",
    "\n",
    "# Predict\n",
    "y_pred_train = XGB.predict(X_train)\n",
    "y_pred_valid = XGB.predict(X_valid)\n",
    "\n",
    "# Compute accuracy\n",
    "train_acc = accuracy_score(y_train, y_pred_train)\n",
    "valid_acc = accuracy_score(y_valid, y_pred_valid)\n",
    "print(\"Train Accuracy: {:.5f} - Validation Accuracy: {:.5f}\".format(train_acc, valid_acc))"
   ]
  },
  {
   "cell_type": "markdown",
   "metadata": {},
   "source": [
    "### Tuning parameters very slow"
   ]
  },
  {
   "cell_type": "markdown",
   "metadata": {
    "scrolled": true
   },
   "source": [
    "params = { 'max_depth': [3,6,10],\n",
    "           'learning_rate': [0.01, 0.05, 0.1],\n",
    "           'n_estimators': [100, 500, 1000],\n",
    "           'colsample_bytree': [0.3, 0.7]}\n",
    "\n",
    "XGB = XGBClassifier(seed = 42)\n",
    "best_XGB = GridSearchCV(estimator=XGB, \n",
    "                   param_grid=params,\n",
    "                   scoring='accuracy', \n",
    "                   verbose=1)\n",
    "best_XGB.fit(X_train, y_train)\n",
    "print(\"Best parameters:\", best_XGB.best_params_)\n",
    "#print(\"Lowest RMSE: \", (-clf.best_score_)**(1/2.0))"
   ]
  },
  {
   "cell_type": "code",
   "execution_count": 8,
   "metadata": {
    "scrolled": true
   },
   "outputs": [
    {
     "name": "stdout",
     "output_type": "stream",
     "text": [
      "Test Accuracy: 0.53308 \n"
     ]
    }
   ],
   "source": [
    "# Fit \n",
    "XGB = XGBClassifier(colsample_bytree= 0.7, learning_rate= 0.05, max_depth= 3, n_estimators= 100)\n",
    "XGB.fit(X_train_80, y_train_80)\n",
    "\n",
    "y_pred_test = XGB.predict(X_test)\n",
    "y_proba = XGB.predict_proba(X_test)\n",
    "\n",
    "\n",
    "# Compute accuracy\n",
    "test_acc = accuracy_score(y_test, y_pred_test)\n",
    "print(\"Test Accuracy: {:.5f} \".format(test_acc))\n",
    "\n",
    "# Store the Test accuracy\n",
    "XGboost_test_accuracy_test = test_acc\n",
    "\n"
   ]
  },
  {
   "cell_type": "markdown",
   "metadata": {},
   "source": [
    "# Save accuracies"
   ]
  },
  {
   "cell_type": "code",
   "execution_count": 9,
   "metadata": {},
   "outputs": [],
   "source": [
    "df_prediction = pd.read_csv(\"../data/model_accuracy_nsq.csv\", index_col = False)\n",
    "df_prediction =  df_prediction.drop(columns=[\"Unnamed: 0\"])\n"
   ]
  },
  {
   "cell_type": "code",
   "execution_count": 10,
   "metadata": {},
   "outputs": [],
   "source": [
    "df_prediction[\"XGB_pred\"] = y_pred_test\n",
    "df_prediction[\"XGB_accuracy\"] = [XGboost_test_accuracy_test for x in range(len(y_pred_test))]\n",
    "df_prediction[\"XGB_prob\"] = y_proba[:,1]\n"
   ]
  },
  {
   "cell_type": "code",
   "execution_count": 11,
   "metadata": {},
   "outputs": [
    {
     "data": {
      "text/html": [
       "<div>\n",
       "<style scoped>\n",
       "    .dataframe tbody tr th:only-of-type {\n",
       "        vertical-align: middle;\n",
       "    }\n",
       "\n",
       "    .dataframe tbody tr th {\n",
       "        vertical-align: top;\n",
       "    }\n",
       "\n",
       "    .dataframe thead th {\n",
       "        text-align: right;\n",
       "    }\n",
       "</style>\n",
       "<table border=\"1\" class=\"dataframe\">\n",
       "  <thead>\n",
       "    <tr style=\"text-align: right;\">\n",
       "      <th></th>\n",
       "      <th>RF_pred</th>\n",
       "      <th>RF_accuracy</th>\n",
       "      <th>RF_prob</th>\n",
       "      <th>SVC_pred</th>\n",
       "      <th>SVC_accuracy</th>\n",
       "      <th>SVC_prob</th>\n",
       "      <th>XGB_pred</th>\n",
       "      <th>XGB_accuracy</th>\n",
       "      <th>XGB_prob</th>\n",
       "    </tr>\n",
       "  </thead>\n",
       "  <tbody>\n",
       "    <tr>\n",
       "      <th>0</th>\n",
       "      <td>1</td>\n",
       "      <td>0.523629</td>\n",
       "      <td>0.657543</td>\n",
       "      <td>1</td>\n",
       "      <td>0.558601</td>\n",
       "      <td>0.544082</td>\n",
       "      <td>1</td>\n",
       "      <td>0.533081</td>\n",
       "      <td>0.536098</td>\n",
       "    </tr>\n",
       "    <tr>\n",
       "      <th>1</th>\n",
       "      <td>0</td>\n",
       "      <td>0.523629</td>\n",
       "      <td>0.324182</td>\n",
       "      <td>1</td>\n",
       "      <td>0.558601</td>\n",
       "      <td>0.544076</td>\n",
       "      <td>0</td>\n",
       "      <td>0.533081</td>\n",
       "      <td>0.390463</td>\n",
       "    </tr>\n",
       "    <tr>\n",
       "      <th>2</th>\n",
       "      <td>0</td>\n",
       "      <td>0.523629</td>\n",
       "      <td>0.496864</td>\n",
       "      <td>1</td>\n",
       "      <td>0.558601</td>\n",
       "      <td>0.545460</td>\n",
       "      <td>1</td>\n",
       "      <td>0.533081</td>\n",
       "      <td>0.552227</td>\n",
       "    </tr>\n",
       "    <tr>\n",
       "      <th>3</th>\n",
       "      <td>1</td>\n",
       "      <td>0.523629</td>\n",
       "      <td>0.574333</td>\n",
       "      <td>1</td>\n",
       "      <td>0.558601</td>\n",
       "      <td>0.545009</td>\n",
       "      <td>1</td>\n",
       "      <td>0.533081</td>\n",
       "      <td>0.596263</td>\n",
       "    </tr>\n",
       "    <tr>\n",
       "      <th>4</th>\n",
       "      <td>0</td>\n",
       "      <td>0.523629</td>\n",
       "      <td>0.421569</td>\n",
       "      <td>1</td>\n",
       "      <td>0.558601</td>\n",
       "      <td>0.543872</td>\n",
       "      <td>0</td>\n",
       "      <td>0.533081</td>\n",
       "      <td>0.483318</td>\n",
       "    </tr>\n",
       "    <tr>\n",
       "      <th>...</th>\n",
       "      <td>...</td>\n",
       "      <td>...</td>\n",
       "      <td>...</td>\n",
       "      <td>...</td>\n",
       "      <td>...</td>\n",
       "      <td>...</td>\n",
       "      <td>...</td>\n",
       "      <td>...</td>\n",
       "      <td>...</td>\n",
       "    </tr>\n",
       "    <tr>\n",
       "      <th>1053</th>\n",
       "      <td>1</td>\n",
       "      <td>0.523629</td>\n",
       "      <td>0.679418</td>\n",
       "      <td>1</td>\n",
       "      <td>0.558601</td>\n",
       "      <td>0.539406</td>\n",
       "      <td>1</td>\n",
       "      <td>0.533081</td>\n",
       "      <td>0.598255</td>\n",
       "    </tr>\n",
       "    <tr>\n",
       "      <th>1054</th>\n",
       "      <td>1</td>\n",
       "      <td>0.523629</td>\n",
       "      <td>0.555801</td>\n",
       "      <td>1</td>\n",
       "      <td>0.558601</td>\n",
       "      <td>0.537904</td>\n",
       "      <td>1</td>\n",
       "      <td>0.533081</td>\n",
       "      <td>0.567730</td>\n",
       "    </tr>\n",
       "    <tr>\n",
       "      <th>1055</th>\n",
       "      <td>1</td>\n",
       "      <td>0.523629</td>\n",
       "      <td>0.573323</td>\n",
       "      <td>1</td>\n",
       "      <td>0.558601</td>\n",
       "      <td>0.540966</td>\n",
       "      <td>1</td>\n",
       "      <td>0.533081</td>\n",
       "      <td>0.561254</td>\n",
       "    </tr>\n",
       "    <tr>\n",
       "      <th>1056</th>\n",
       "      <td>1</td>\n",
       "      <td>0.523629</td>\n",
       "      <td>0.719503</td>\n",
       "      <td>1</td>\n",
       "      <td>0.558601</td>\n",
       "      <td>0.536726</td>\n",
       "      <td>1</td>\n",
       "      <td>0.533081</td>\n",
       "      <td>0.590790</td>\n",
       "    </tr>\n",
       "    <tr>\n",
       "      <th>1057</th>\n",
       "      <td>1</td>\n",
       "      <td>0.523629</td>\n",
       "      <td>0.531916</td>\n",
       "      <td>1</td>\n",
       "      <td>0.558601</td>\n",
       "      <td>0.541307</td>\n",
       "      <td>1</td>\n",
       "      <td>0.533081</td>\n",
       "      <td>0.569102</td>\n",
       "    </tr>\n",
       "  </tbody>\n",
       "</table>\n",
       "<p>1058 rows × 9 columns</p>\n",
       "</div>"
      ],
      "text/plain": [
       "      RF_pred  RF_accuracy   RF_prob  SVC_pred  SVC_accuracy  SVC_prob  \\\n",
       "0           1     0.523629  0.657543         1      0.558601  0.544082   \n",
       "1           0     0.523629  0.324182         1      0.558601  0.544076   \n",
       "2           0     0.523629  0.496864         1      0.558601  0.545460   \n",
       "3           1     0.523629  0.574333         1      0.558601  0.545009   \n",
       "4           0     0.523629  0.421569         1      0.558601  0.543872   \n",
       "...       ...          ...       ...       ...           ...       ...   \n",
       "1053        1     0.523629  0.679418         1      0.558601  0.539406   \n",
       "1054        1     0.523629  0.555801         1      0.558601  0.537904   \n",
       "1055        1     0.523629  0.573323         1      0.558601  0.540966   \n",
       "1056        1     0.523629  0.719503         1      0.558601  0.536726   \n",
       "1057        1     0.523629  0.531916         1      0.558601  0.541307   \n",
       "\n",
       "      XGB_pred  XGB_accuracy  XGB_prob  \n",
       "0            1      0.533081  0.536098  \n",
       "1            0      0.533081  0.390463  \n",
       "2            1      0.533081  0.552227  \n",
       "3            1      0.533081  0.596263  \n",
       "4            0      0.533081  0.483318  \n",
       "...        ...           ...       ...  \n",
       "1053         1      0.533081  0.598255  \n",
       "1054         1      0.533081  0.567730  \n",
       "1055         1      0.533081  0.561254  \n",
       "1056         1      0.533081  0.590790  \n",
       "1057         1      0.533081  0.569102  \n",
       "\n",
       "[1058 rows x 9 columns]"
      ]
     },
     "execution_count": 11,
     "metadata": {},
     "output_type": "execute_result"
    }
   ],
   "source": [
    "df_prediction"
   ]
  },
  {
   "cell_type": "code",
   "execution_count": 12,
   "metadata": {
    "scrolled": false
   },
   "outputs": [],
   "source": [
    "df_prediction.to_csv(\"../data/model_accuracy_nsq.csv\")"
   ]
  },
  {
   "cell_type": "code",
   "execution_count": null,
   "metadata": {},
   "outputs": [],
   "source": []
  },
  {
   "cell_type": "code",
   "execution_count": null,
   "metadata": {},
   "outputs": [],
   "source": []
  }
 ],
 "metadata": {
  "kernelspec": {
   "display_name": "Python 3 (ipykernel)",
   "language": "python",
   "name": "python3"
  },
  "language_info": {
   "codemirror_mode": {
    "name": "ipython",
    "version": 3
   },
   "file_extension": ".py",
   "mimetype": "text/x-python",
   "name": "python",
   "nbconvert_exporter": "python",
   "pygments_lexer": "ipython3",
   "version": "3.9.12"
  }
 },
 "nbformat": 4,
 "nbformat_minor": 2
}
